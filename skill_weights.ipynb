{
 "cells": [
  {
   "cell_type": "code",
   "execution_count": 1,
   "id": "538022ce-a5f5-473c-a6c7-c4fb83765aea",
   "metadata": {},
   "outputs": [],
   "source": [
    "%matplotlib inline\n",
    "import json, pandas as pd"
   ]
  },
  {
   "cell_type": "code",
   "execution_count": 2,
   "id": "5e277cc0-c52b-40cc-b485-55ebc05f83ce",
   "metadata": {},
   "outputs": [],
   "source": [
    "stemming = {};\n",
    "with open(\"stemming.txt\", 'r') as stemming_f:\n",
    "    for stem_group in stemming_f.readlines():\n",
    "        stem_tokens = stem_group.replace(\"\\n\", \"\").split(\",\")\n",
    "        stem_target = stem_tokens.pop(0)\n",
    "        for stem_token in stem_tokens:\n",
    "            stemming[stem_token] = stem_target\n",
    "\n",
    "process_skill_name = lambda name: stemming.get(name.lower(), name.lower())"
   ]
  },
  {
   "cell_type": "code",
   "execution_count": 3,
   "id": "a5a9753a-75f9-4966-b8d9-a6f2ae25eccd",
   "metadata": {},
   "outputs": [],
   "source": [
    "with open(\"personal_track/skills_hard.json\", 'r') as hsf:\n",
    "    raw_hard_skills = json.load(hsf)\n",
    "    \n",
    "with open(\"personal_track/skills_soft.json\", 'r') as ssf:\n",
    "    raw_soft_skills = json.load(ssf)"
   ]
  },
  {
   "cell_type": "code",
   "execution_count": 4,
   "id": "54d41ada-8cd0-4894-a743-7ab836571d20",
   "metadata": {},
   "outputs": [],
   "source": [
    "clean_jsf = {\"job\":[], \"job_rating\":[], \"skill_type\":[], \"skill_name\":[], \"skill_freq\":[]}\n",
    "\n",
    "for skill_type, skills in {\"hard\": raw_hard_skills, \"soft\": raw_soft_skills}.items():\n",
    "    for job, job_data in skills.items():\n",
    "        for skill_name, frequency in job_data[\"tasks_and_frequencies\"].items():\n",
    "            clean_jsf[\"job\"].append(job);\n",
    "            clean_jsf[\"job_rating\"].append(job_data[\"rating\"]);\n",
    "            clean_jsf[\"skill_type\"].append(skill_type);\n",
    "            clean_jsf[\"skill_name\"].append(process_skill_name(skill_name));\n",
    "            clean_jsf[\"skill_freq\"].append(int(frequency));\n",
    "\n",
    "job_df = pd.DataFrame(clean_jsf)\n",
    "job_df[\"job\"] = job_df[\"job\"].astype('category')\n",
    "job_df[\"skill_name\"] = job_df[\"skill_name\"].astype('category')\n",
    "job_df[\"skill_type\"] = job_df[\"skill_type\"].astype('category')\n",
    "job_df = job_df.groupby([\"job\",\"skill_name\"]).agg({\"skill_freq\":\"sum\",\"job_rating\":\"first\",\"skill_type\":\"first\"}).reset_index().dropna()"
   ]
  },
  {
   "cell_type": "markdown",
   "id": "e303fd21-6628-4dd6-823f-42f1c9ebfe57",
   "metadata": {},
   "source": [
    "# Recommending category weights"
   ]
  },
  {
   "cell_type": "code",
   "execution_count": 5,
   "id": "4c2c6883-6604-4dc2-be27-efa0e2cffd29",
   "metadata": {},
   "outputs": [],
   "source": [
    "from CurriculumVitae import categories"
   ]
  },
  {
   "cell_type": "code",
   "execution_count": 6,
   "id": "6f32ac15-88f6-401e-a865-b23fb8b618c4",
   "metadata": {},
   "outputs": [],
   "source": [
    "cat_bias = {\"Writing\":1, \"Code\":1, \"Project\":0.1, \"Soft\":2}"
   ]
  },
  {
   "cell_type": "code",
   "execution_count": 7,
   "id": "a9671636-86bc-43ac-8f1b-d2feae66d828",
   "metadata": {},
   "outputs": [],
   "source": [
    "cat_inverse = {}\n",
    "for cat, skills in categories.items():\n",
    "    for skill in skills:\n",
    "        cat_inverse.setdefault(process_skill_name(skill), set()).add(cat)"
   ]
  },
  {
   "cell_type": "code",
   "execution_count": 8,
   "id": "d9fb4516-54ee-4e38-8c7e-39f955ec8555",
   "metadata": {},
   "outputs": [],
   "source": [
    "jcw = job_df.copy()\n",
    "jcw[\"skill_category\"] = jcw.apply(lambda skill: cat_inverse.get(skill[\"skill_name\"], {\"UNK\"}), axis=1)\n",
    "jcw[\"skill_freq\"] = jcw.apply(lambda skill: skill[\"skill_freq\"] / (len(skill[\"skill_category\"])), axis=1)\n",
    "jcw = jcw.explode(\"skill_category\")"
   ]
  },
  {
   "cell_type": "code",
   "execution_count": 9,
   "id": "89c8d573-4cd3-4555-b77f-e3f2d8a5f334",
   "metadata": {},
   "outputs": [],
   "source": [
    "job_category_weights = jcw.groupby([\"job\", \"skill_category\"]).agg({\"skill_freq\":\"sum\"}).reset_index()\n",
    "job_category_weights = job_category_weights.loc[job_category_weights[\"skill_category\"] != \"UNK\"]\n",
    "job_category_weights[\"skill_category\"] = job_category_weights[\"skill_category\"].astype('category')\n",
    "job_category_weights[\"skill_category\"] = job_category_weights[\"skill_category\"].cat.set_categories(new_categories=categories.keys())"
   ]
  },
  {
   "cell_type": "code",
   "execution_count": 10,
   "id": "61818739-d30f-4e48-b8a9-ecea7418ec5e",
   "metadata": {},
   "outputs": [],
   "source": [
    "# jcw.loc[jcw[\"job\"] == \"AFRY\"].sort_values(\"skill_freq\", ascending=False)"
   ]
  },
  {
   "cell_type": "code",
   "execution_count": 11,
   "id": "18861d3e-5347-4ba7-a471-13e58737eb6c",
   "metadata": {},
   "outputs": [],
   "source": [
    "jobcat_args = []\n",
    "for job in job_category_weights[\"job\"].cat.categories:\n",
    "    category_weights = job_category_weights.loc[job_category_weights[\"job\"]==job]\n",
    "    exports = {};\n",
    "    for cat in job_category_weights[\"skill_category\"].cat.categories:\n",
    "        job_cat_freqs = category_weights.loc[category_weights[\"skill_category\"] == cat, \"skill_freq\"].values\n",
    "        if not len(job_cat_freqs):\n",
    "            job_cat_freqs = 0\n",
    "        else:\n",
    "            job_cat_freqs = job_cat_freqs[0]\n",
    "        exports[cat] = job_cat_freqs + cat_bias.get(cat, 0)\n",
    "    \n",
    "    jobcat_args.append({\"name\":job, \"exports\":exports})"
   ]
  },
  {
   "cell_type": "code",
   "execution_count": 12,
   "id": "09d6491b-6f95-4a8c-ba90-2d2bd13b4fa1",
   "metadata": {},
   "outputs": [],
   "source": [
    "with open(\"personal_track/jobs_cats.json\", 'w+') as jobs_cats_f:\n",
    "    json.dump(jobcat_args, jobs_cats_f)"
   ]
  },
  {
   "cell_type": "markdown",
   "id": "591e05f4-db8c-4bf2-8c8e-3a9191d8a8f3",
   "metadata": {},
   "source": [
    "# ?"
   ]
  },
  {
   "cell_type": "code",
   "execution_count": null,
   "id": "bbc71531-98b1-4910-9b4d-c0ff0ead9511",
   "metadata": {},
   "outputs": [],
   "source": [
    "from IPython.display import display, Markdown"
   ]
  },
  {
   "cell_type": "code",
   "execution_count": null,
   "id": "a7a5a241-c906-4cd7-a413-c768fbd8f143",
   "metadata": {},
   "outputs": [],
   "source": [
    "job_total_skills = job_df.groupby([\"job\"]).agg({\"skill_freq\": \"sum\"})\n",
    "job_df[\"skill_share\"] = job_df.apply(lambda t: t[\"skill_freq\"] / job_total_skills.loc[t[\"job\"]], axis=1)\n",
    "\n",
    "rate_weight = lambda r: r[\"job_rating\"]**2\n",
    "\n",
    "job_df[\"skill_weighted\"] = job_df[\"skill_share\"] * rate_weight(job_df)\n",
    "\n",
    "skill_weights = job_df.groupby([\"skill_type\", \"skill_name\"]).agg({\"skill_weighted\": \"sum\"}).reset_index().sort_values(\"skill_weighted\", ascending=False, ignore_index=True)\n",
    "skill_weights[\"skill_of_max\"] = skill_weights[\"skill_weighted\"] / skill_weights[\"skill_weighted\"].max()\n",
    "skill_weights[\"skill_normed\"] = skill_weights[\"skill_weighted\"] / skill_weights[\"skill_weighted\"].sum()"
   ]
  },
  {
   "cell_type": "code",
   "execution_count": null,
   "id": "a9ec1b17-f998-454a-8314-b0a3684a5433",
   "metadata": {},
   "outputs": [],
   "source": [
    "def check_entry(skill):\n",
    "    global coverage\n",
    "    is_integrated = skill[\"skill_name\"] in integrated_skills\n",
    "    style = '~~' if is_integrated else '**'\n",
    "    check = f\"- [{'X' if is_integrated else ' '}] {style}{skill['skill_name']}{style}\"\n",
    "    score = f\"- {style}{100*skill['skill_normed']:.2f}%{style}\"\n",
    "    return f\"{check}\\n\\t{score}\"\n",
    "    \n",
    "    "
   ]
  },
  {
   "cell_type": "code",
   "execution_count": null,
   "id": "f96a4b45-7397-4755-bcc3-c0b22ac69075",
   "metadata": {},
   "outputs": [],
   "source": [
    "with open(\"integrated_skills.txt\", 'r') as int_s:\n",
    "    integrated_skills = set(map(lambda s: s.replace(\"\\n\", \"\"), int_s.readlines()))\n",
    "coverage = skill_weights.loc[skill_weights[\"skill_name\"].isin(integrated_skills), \"skill_normed\"].sum()\n",
    "    \n",
    "checklist = \"\\n\".join(check_entry(skill) for index, skill in skill_weights.loc[skill_weights[\"skill_normed\"] > 0.001].iterrows())    \n",
    "# Markdown(f\"# Integrated Skills\\nCoverage: {coverage*100:.2f}%\\n{checklist}\")"
   ]
  }
 ],
 "metadata": {
  "kernelspec": {
   "display_name": "Python 3 (ipykernel)",
   "language": "python",
   "name": "python3"
  },
  "language_info": {
   "codemirror_mode": {
    "name": "ipython",
    "version": 3
   },
   "file_extension": ".py",
   "mimetype": "text/x-python",
   "name": "python",
   "nbconvert_exporter": "python",
   "pygments_lexer": "ipython3",
   "version": "3.10.6"
  }
 },
 "nbformat": 4,
 "nbformat_minor": 5
}

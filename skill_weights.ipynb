{
 "cells": [
  {
   "cell_type": "code",
   "execution_count": 1,
   "id": "2d19ce3b-d746-4e75-9a66-e14e6d46f914",
   "metadata": {},
   "outputs": [],
   "source": [
    "import pandas as pd, skill_cat, multiprocessing.dummy\n",
    "from jobs_skills_weights import *\n",
    "import homonyms"
   ]
  },
  {
   "cell_type": "code",
   "execution_count": 2,
   "id": "1d2077c6-0352-47f9-9f99-8c50430efc9a",
   "metadata": {},
   "outputs": [],
   "source": [
    "skill_cat._refresh()\n",
    "homonyms._refresh()"
   ]
  },
  {
   "cell_type": "code",
   "execution_count": 3,
   "id": "d2d67019-9988-490b-bdab-13342eead112",
   "metadata": {},
   "outputs": [],
   "source": [
    "jobs = get_jobs(bookmarked=False)"
   ]
  },
  {
   "cell_type": "code",
   "execution_count": 4,
   "id": "d2e89c8c-d212-44c8-935a-599d022ac0c4",
   "metadata": {},
   "outputs": [
    {
     "data": {
      "text/plain": [
       "100"
      ]
     },
     "execution_count": 4,
     "metadata": {},
     "output_type": "execute_result"
    }
   ],
   "source": [
    "len(jobs)"
   ]
  },
  {
   "cell_type": "code",
   "execution_count": 5,
   "id": "95c0ed1f-6898-4369-9e8a-03ff4d4983fc",
   "metadata": {},
   "outputs": [
    {
     "data": {
      "text/html": [
       "<div>\n",
       "<style scoped>\n",
       "    .dataframe tbody tr th:only-of-type {\n",
       "        vertical-align: middle;\n",
       "    }\n",
       "\n",
       "    .dataframe tbody tr th {\n",
       "        vertical-align: top;\n",
       "    }\n",
       "\n",
       "    .dataframe thead th {\n",
       "        text-align: right;\n",
       "    }\n",
       "</style>\n",
       "<table border=\"1\" class=\"dataframe\">\n",
       "  <thead>\n",
       "    <tr style=\"text-align: right;\">\n",
       "      <th></th>\n",
       "      <th>company_name</th>\n",
       "      <th>location</th>\n",
       "      <th>role</th>\n",
       "      <th>url</th>\n",
       "      <th>excitement</th>\n",
       "    </tr>\n",
       "    <tr>\n",
       "      <th>id</th>\n",
       "      <th></th>\n",
       "      <th></th>\n",
       "      <th></th>\n",
       "      <th></th>\n",
       "      <th></th>\n",
       "    </tr>\n",
       "  </thead>\n",
       "  <tbody>\n",
       "    <tr>\n",
       "      <th>bd59469c-29f4-41b9-9001-5b7902d766e1</th>\n",
       "      <td>Ansys</td>\n",
       "      <td>Madrid, Community of Madrid, Spain</td>\n",
       "      <td>R&amp;D Engineer II - Python f/m</td>\n",
       "      <td>https://www.linkedin.com/jobs/search/?currentJ...</td>\n",
       "      <td>4</td>\n",
       "    </tr>\n",
       "    <tr>\n",
       "      <th>0124e218-2d33-41e8-907b-5228ea386455</th>\n",
       "      <td>Treibacher Industrie AG</td>\n",
       "      <td>Althofen, Carinthia, Austria</td>\n",
       "      <td>AI/ML Specialist – Software Engineer (m/f/d)</td>\n",
       "      <td>https://www.linkedin.com/jobs/search/?geoId=91...</td>\n",
       "      <td>4</td>\n",
       "    </tr>\n",
       "    <tr>\n",
       "      <th>35b60a7d-f9a3-4f63-b8ab-4db8db49fca8</th>\n",
       "      <td>Helsing</td>\n",
       "      <td>Paris, Île-de-France, France</td>\n",
       "      <td>Deployed AI Engineer</td>\n",
       "      <td>https://www.linkedin.com/jobs/search/?currentJ...</td>\n",
       "      <td>5</td>\n",
       "    </tr>\n",
       "  </tbody>\n",
       "</table>\n",
       "</div>"
      ],
      "text/plain": [
       "                                                 company_name  \\\n",
       "id                                                              \n",
       "bd59469c-29f4-41b9-9001-5b7902d766e1                    Ansys   \n",
       "0124e218-2d33-41e8-907b-5228ea386455  Treibacher Industrie AG   \n",
       "35b60a7d-f9a3-4f63-b8ab-4db8db49fca8                  Helsing   \n",
       "\n",
       "                                                                location  \\\n",
       "id                                                                         \n",
       "bd59469c-29f4-41b9-9001-5b7902d766e1  Madrid, Community of Madrid, Spain   \n",
       "0124e218-2d33-41e8-907b-5228ea386455        Althofen, Carinthia, Austria   \n",
       "35b60a7d-f9a3-4f63-b8ab-4db8db49fca8        Paris, Île-de-France, France   \n",
       "\n",
       "                                                                              role  \\\n",
       "id                                                                                   \n",
       "bd59469c-29f4-41b9-9001-5b7902d766e1                  R&D Engineer II - Python f/m   \n",
       "0124e218-2d33-41e8-907b-5228ea386455  AI/ML Specialist – Software Engineer (m/f/d)   \n",
       "35b60a7d-f9a3-4f63-b8ab-4db8db49fca8                          Deployed AI Engineer   \n",
       "\n",
       "                                                                                    url  \\\n",
       "id                                                                                        \n",
       "bd59469c-29f4-41b9-9001-5b7902d766e1  https://www.linkedin.com/jobs/search/?currentJ...   \n",
       "0124e218-2d33-41e8-907b-5228ea386455  https://www.linkedin.com/jobs/search/?geoId=91...   \n",
       "35b60a7d-f9a3-4f63-b8ab-4db8db49fca8  https://www.linkedin.com/jobs/search/?currentJ...   \n",
       "\n",
       "                                      excitement  \n",
       "id                                                \n",
       "bd59469c-29f4-41b9-9001-5b7902d766e1           4  \n",
       "0124e218-2d33-41e8-907b-5228ea386455           4  \n",
       "35b60a7d-f9a3-4f63-b8ab-4db8db49fca8           5  "
      ]
     },
     "execution_count": 5,
     "metadata": {},
     "output_type": "execute_result"
    }
   ],
   "source": [
    "jobs.head(3)"
   ]
  },
  {
   "cell_type": "markdown",
   "id": "d7731507-fe47-4194-a662-58f927bc91fc",
   "metadata": {},
   "source": [
    "# What is the goal here?\n",
    "For each job, create a dict from (a skill name that job wants) to (a float indicating the importance of that skill)"
   ]
  },
  {
   "cell_type": "code",
   "execution_count": 6,
   "id": "5370d1d1-b01f-48a2-b0be-2005f2363c69",
   "metadata": {},
   "outputs": [],
   "source": [
    "# What fraction of skill weight comes from being listed in a job description?\n",
    "# 1-list_weight gives the weight of being in a category\n",
    "list_weight = 4/5.0 "
   ]
  },
  {
   "cell_type": "code",
   "execution_count": 7,
   "id": "45d51d04-7c17-4a94-a336-334fe106ddb2",
   "metadata": {},
   "outputs": [],
   "source": [
    "pooldict = lambda func, keys, pool: dict(zip(keys, pool.map(func, keys)))\n",
    "raw_job_details = pooldict(get_job_details, jobs.index, multiprocessing.dummy.Pool())"
   ]
  },
  {
   "cell_type": "code",
   "execution_count": 8,
   "id": "a985b866-45f3-4843-89e1-921c490e8d70",
   "metadata": {},
   "outputs": [
    {
     "name": "stdout",
     "output_type": "stream",
     "text": [
      "<class 'pandas.core.frame.DataFrame'>\n",
      "Index: 100 entries, bd59469c-29f4-41b9-9001-5b7902d766e1 to 7afa68f6-4c79-4981-a5f7-751e59da1f64\n",
      "Data columns (total 1 columns):\n",
      " #   Column           Non-Null Count  Dtype \n",
      "---  ------           --------------  ----- \n",
      " 0   job description  100 non-null    object\n",
      "dtypes: object(1)\n",
      "memory usage: 1.6+ KB\n"
     ]
    }
   ],
   "source": [
    "# Collect the job descriptions\n",
    "job_descriptions = pd.DataFrame([\n",
    "    {\n",
    "        \"id\":key, \n",
    "        \"job description\": data[\"attributes\"][\"job_description\"]\n",
    "    } for key, data in raw_job_details.items()\n",
    "]).set_index(\"id\")\n",
    "job_descriptions.info()"
   ]
  },
  {
   "cell_type": "code",
   "execution_count": 9,
   "id": "2999441d-8caa-403c-88e7-c9212f8170e7",
   "metadata": {},
   "outputs": [],
   "source": [
    "skill_cat._refresh()\n",
    "homonyms._refresh()\n",
    "# Use the refreshed categories and homonyms configurations to parse the (already downloaded) data\n",
    "jobs_skills_data = pd.concat(\n",
    "    {key: extract_skills_data(value) for key, value in raw_job_details.items()},\n",
    "    names=[\"id\"]\n",
    ")"
   ]
  },
  {
   "cell_type": "code",
   "execution_count": 10,
   "id": "28c3730e-9476-441c-b752-247da68e7bf0",
   "metadata": {},
   "outputs": [],
   "source": [
    "# Sum around teal category\n",
    "jobs_skills_data = jobs_skills_data.groupby(level=[0,2]).sum()"
   ]
  },
  {
   "cell_type": "code",
   "execution_count": 11,
   "id": "8b1a0ad1-9215-44fe-b686-3c66eaa8855e",
   "metadata": {},
   "outputs": [],
   "source": [
    "# Filter out entries which aren't categorizable\n",
    "jobs_skills_data = jobs_skills_data.query(\"`skill`.isin(@skill_cat.skill_to_categories.keys())\")"
   ]
  },
  {
   "cell_type": "code",
   "execution_count": 12,
   "id": "efddfa9e-8229-4db0-9df0-e8205b01d2ec",
   "metadata": {},
   "outputs": [],
   "source": [
    "# Compute the share of each job a skill appears to represent\n",
    "jobs_skills_data[\"share of job\"] = jobs_skills_data[\"count\"] / jobs_skills_data[\"count\"].groupby(\"id\").sum()"
   ]
  },
  {
   "cell_type": "code",
   "execution_count": 13,
   "id": "a065a85b-c3f9-497e-8261-0966ec9d4bd7",
   "metadata": {},
   "outputs": [
    {
     "name": "stdout",
     "output_type": "stream",
     "text": [
      "<class 'pandas.core.frame.DataFrame'>\n",
      "MultiIndex: 1939 entries, ('bd59469c-29f4-41b9-9001-5b7902d766e1', 'c') to ('7afa68f6-4c79-4981-a5f7-751e59da1f64', 'research')\n",
      "Data columns (total 2 columns):\n",
      " #   Column        Non-Null Count  Dtype  \n",
      "---  ------        --------------  -----  \n",
      " 0   count         1939 non-null   int64  \n",
      " 1   share of job  1939 non-null   float64\n",
      "dtypes: float64(1), int64(1)\n",
      "memory usage: 83.3+ KB\n"
     ]
    }
   ],
   "source": [
    "jobs_skills_data.info()"
   ]
  },
  {
   "cell_type": "code",
   "execution_count": 14,
   "id": "9e0d75ab-dc0b-4e2c-a339-bef4d88a71ff",
   "metadata": {},
   "outputs": [
    {
     "name": "stdout",
     "output_type": "stream",
     "text": [
      "<class 'pandas.core.frame.DataFrame'>\n",
      "MultiIndex: 13700 entries, ('0124e218-2d33-41e8-907b-5228ea386455', 'Academic', 'computer science') to ('fdd15faa-0804-4b07-9f55-715436213e75', 'WebDev', 'web development')\n",
      "Data columns (total 2 columns):\n",
      " #   Column                Non-Null Count  Dtype  \n",
      "---  ------                --------------  -----  \n",
      " 0   listed contribution   13700 non-null  float64\n",
      " 1   implied contribution  13700 non-null  float64\n",
      "dtypes: float64(2)\n",
      "memory usage: 264.9+ KB\n"
     ]
    }
   ],
   "source": [
    "jobs_categories_skills_data = pd.DataFrame([{\n",
    "        \"id\":job_id,\n",
    "        \"category\":category,\n",
    "        \"skill name\":skill_name,\n",
    "        \"share of job\":jobs_skills_data[\"share of job\"].get((job_id, skill_name), 0)/float(len(categories_skill_is_in)),\n",
    "    } for job_id in jobs.index\n",
    "        for skill_name, categories_skill_is_in in skill_cat.skill_to_categories.items()\n",
    "            for category in categories_skill_is_in\n",
    "]).set_index([\"id\", \"category\", \"skill name\"]).sort_index()\n",
    "\n",
    "### V2:\n",
    "soj = jobs_categories_skills_data.pop(\"share of job\")\n",
    "jobs_categories_skills_data[\"listed contribution\"]  = soj*list_weight\n",
    "jobs_categories_skills_data[\"implied contribution\"] = (soj*(1-list_weight)).groupby(level=[0,1]).mean()\n",
    "\n",
    "### V1:\n",
    "# jobs_categories_skills_data[[\"listed contribution\", \"share of job for implied\"]] = [(soj*list_weight, soj*(1-list_weight)) for soj in jobs_categories_skills_data.pop(\"share of job\")]\n",
    "# jobs_categories_skills_data[\"implied contribution\"] = jobs_categories_skills_data.pop(\"share of job for implied\").groupby(level=[0, 1]).mean()\n",
    "\n",
    "jobs_categories_skills_data.info()"
   ]
  },
  {
   "cell_type": "code",
   "execution_count": 15,
   "id": "c07c0caa-143c-4ef4-bd54-51d019734487",
   "metadata": {},
   "outputs": [
    {
     "data": {
      "text/html": [
       "<div>\n",
       "<style scoped>\n",
       "    .dataframe tbody tr th:only-of-type {\n",
       "        vertical-align: middle;\n",
       "    }\n",
       "\n",
       "    .dataframe tbody tr th {\n",
       "        vertical-align: top;\n",
       "    }\n",
       "\n",
       "    .dataframe thead th {\n",
       "        text-align: right;\n",
       "    }\n",
       "</style>\n",
       "<table border=\"1\" class=\"dataframe\">\n",
       "  <thead>\n",
       "    <tr style=\"text-align: right;\">\n",
       "      <th></th>\n",
       "      <th>listed contribution</th>\n",
       "      <th>implied contribution</th>\n",
       "    </tr>\n",
       "    <tr>\n",
       "      <th>id</th>\n",
       "      <th></th>\n",
       "      <th></th>\n",
       "    </tr>\n",
       "  </thead>\n",
       "  <tbody>\n",
       "    <tr>\n",
       "      <th>0124e218-2d33-41e8-907b-5228ea386455</th>\n",
       "      <td>0.8</td>\n",
       "      <td>0.2</td>\n",
       "    </tr>\n",
       "    <tr>\n",
       "      <th>02cd1859-6731-4c7e-a1b5-3c0d22d2f483</th>\n",
       "      <td>0.8</td>\n",
       "      <td>0.2</td>\n",
       "    </tr>\n",
       "    <tr>\n",
       "      <th>057e7f52-416e-4339-90cb-08b1d9bd5247</th>\n",
       "      <td>0.8</td>\n",
       "      <td>0.2</td>\n",
       "    </tr>\n",
       "    <tr>\n",
       "      <th>077a5779-7d63-468e-b61f-29b0b9828e95</th>\n",
       "      <td>0.8</td>\n",
       "      <td>0.2</td>\n",
       "    </tr>\n",
       "    <tr>\n",
       "      <th>08d3836e-f7b3-45af-8db5-ebbceb456013</th>\n",
       "      <td>0.8</td>\n",
       "      <td>0.2</td>\n",
       "    </tr>\n",
       "    <tr>\n",
       "      <th>...</th>\n",
       "      <td>...</td>\n",
       "      <td>...</td>\n",
       "    </tr>\n",
       "    <tr>\n",
       "      <th>ee6ac56f-c8cd-4000-bf43-477ff5464c5f</th>\n",
       "      <td>0.8</td>\n",
       "      <td>0.2</td>\n",
       "    </tr>\n",
       "    <tr>\n",
       "      <th>f8c70e51-922f-450d-8a2a-d36d1b88593f</th>\n",
       "      <td>0.8</td>\n",
       "      <td>0.2</td>\n",
       "    </tr>\n",
       "    <tr>\n",
       "      <th>f9454138-5a6a-4682-ad21-fb67d7572ab6</th>\n",
       "      <td>0.8</td>\n",
       "      <td>0.2</td>\n",
       "    </tr>\n",
       "    <tr>\n",
       "      <th>fca8e347-ac43-41e3-9e31-d3c04e084045</th>\n",
       "      <td>0.8</td>\n",
       "      <td>0.2</td>\n",
       "    </tr>\n",
       "    <tr>\n",
       "      <th>fdd15faa-0804-4b07-9f55-715436213e75</th>\n",
       "      <td>0.8</td>\n",
       "      <td>0.2</td>\n",
       "    </tr>\n",
       "  </tbody>\n",
       "</table>\n",
       "<p>100 rows × 2 columns</p>\n",
       "</div>"
      ],
      "text/plain": [
       "                                      listed contribution  \\\n",
       "id                                                          \n",
       "0124e218-2d33-41e8-907b-5228ea386455                  0.8   \n",
       "02cd1859-6731-4c7e-a1b5-3c0d22d2f483                  0.8   \n",
       "057e7f52-416e-4339-90cb-08b1d9bd5247                  0.8   \n",
       "077a5779-7d63-468e-b61f-29b0b9828e95                  0.8   \n",
       "08d3836e-f7b3-45af-8db5-ebbceb456013                  0.8   \n",
       "...                                                   ...   \n",
       "ee6ac56f-c8cd-4000-bf43-477ff5464c5f                  0.8   \n",
       "f8c70e51-922f-450d-8a2a-d36d1b88593f                  0.8   \n",
       "f9454138-5a6a-4682-ad21-fb67d7572ab6                  0.8   \n",
       "fca8e347-ac43-41e3-9e31-d3c04e084045                  0.8   \n",
       "fdd15faa-0804-4b07-9f55-715436213e75                  0.8   \n",
       "\n",
       "                                      implied contribution  \n",
       "id                                                          \n",
       "0124e218-2d33-41e8-907b-5228ea386455                   0.2  \n",
       "02cd1859-6731-4c7e-a1b5-3c0d22d2f483                   0.2  \n",
       "057e7f52-416e-4339-90cb-08b1d9bd5247                   0.2  \n",
       "077a5779-7d63-468e-b61f-29b0b9828e95                   0.2  \n",
       "08d3836e-f7b3-45af-8db5-ebbceb456013                   0.2  \n",
       "...                                                    ...  \n",
       "ee6ac56f-c8cd-4000-bf43-477ff5464c5f                   0.2  \n",
       "f8c70e51-922f-450d-8a2a-d36d1b88593f                   0.2  \n",
       "f9454138-5a6a-4682-ad21-fb67d7572ab6                   0.2  \n",
       "fca8e347-ac43-41e3-9e31-d3c04e084045                   0.2  \n",
       "fdd15faa-0804-4b07-9f55-715436213e75                   0.2  \n",
       "\n",
       "[100 rows x 2 columns]"
      ]
     },
     "execution_count": 15,
     "metadata": {},
     "output_type": "execute_result"
    }
   ],
   "source": [
    "jobs_categories_skills_data.groupby(level=0).sum()"
   ]
  },
  {
   "cell_type": "code",
   "execution_count": 16,
   "id": "f77a814f-6d8b-4d53-9033-50074917d18e",
   "metadata": {},
   "outputs": [
    {
     "data": {
      "text/html": [
       "<div>\n",
       "<style scoped>\n",
       "    .dataframe tbody tr th:only-of-type {\n",
       "        vertical-align: middle;\n",
       "    }\n",
       "\n",
       "    .dataframe tbody tr th {\n",
       "        vertical-align: top;\n",
       "    }\n",
       "\n",
       "    .dataframe thead th {\n",
       "        text-align: right;\n",
       "    }\n",
       "</style>\n",
       "<table border=\"1\" class=\"dataframe\">\n",
       "  <thead>\n",
       "    <tr style=\"text-align: right;\">\n",
       "      <th></th>\n",
       "      <th></th>\n",
       "      <th></th>\n",
       "      <th>listed contribution</th>\n",
       "      <th>implied contribution</th>\n",
       "    </tr>\n",
       "    <tr>\n",
       "      <th>id</th>\n",
       "      <th>category</th>\n",
       "      <th>skill name</th>\n",
       "      <th></th>\n",
       "      <th></th>\n",
       "    </tr>\n",
       "  </thead>\n",
       "  <tbody>\n",
       "    <tr>\n",
       "      <th rowspan=\"5\" valign=\"top\">0124e218-2d33-41e8-907b-5228ea386455</th>\n",
       "      <th rowspan=\"3\" valign=\"top\">Academic</th>\n",
       "      <th>computer science</th>\n",
       "      <td>0.013793</td>\n",
       "      <td>0.001149</td>\n",
       "    </tr>\n",
       "    <tr>\n",
       "      <th>experimentation</th>\n",
       "      <td>0.000000</td>\n",
       "      <td>0.001149</td>\n",
       "    </tr>\n",
       "    <tr>\n",
       "      <th>research</th>\n",
       "      <td>0.000000</td>\n",
       "      <td>0.001149</td>\n",
       "    </tr>\n",
       "    <tr>\n",
       "      <th rowspan=\"2\" valign=\"top\">Admin</th>\n",
       "      <th>automation</th>\n",
       "      <td>0.027586</td>\n",
       "      <td>0.002194</td>\n",
       "    </tr>\n",
       "    <tr>\n",
       "      <th>aws</th>\n",
       "      <td>0.000000</td>\n",
       "      <td>0.002194</td>\n",
       "    </tr>\n",
       "    <tr>\n",
       "      <th>...</th>\n",
       "      <th>...</th>\n",
       "      <th>...</th>\n",
       "      <td>...</td>\n",
       "      <td>...</td>\n",
       "    </tr>\n",
       "    <tr>\n",
       "      <th rowspan=\"5\" valign=\"top\">fdd15faa-0804-4b07-9f55-715436213e75</th>\n",
       "      <th rowspan=\"5\" valign=\"top\">WebDev</th>\n",
       "      <th>html</th>\n",
       "      <td>0.000000</td>\n",
       "      <td>0.000000</td>\n",
       "    </tr>\n",
       "    <tr>\n",
       "      <th>javascript</th>\n",
       "      <td>0.000000</td>\n",
       "      <td>0.000000</td>\n",
       "    </tr>\n",
       "    <tr>\n",
       "      <th>react</th>\n",
       "      <td>0.000000</td>\n",
       "      <td>0.000000</td>\n",
       "    </tr>\n",
       "    <tr>\n",
       "      <th>web applications</th>\n",
       "      <td>0.000000</td>\n",
       "      <td>0.000000</td>\n",
       "    </tr>\n",
       "    <tr>\n",
       "      <th>web development</th>\n",
       "      <td>0.000000</td>\n",
       "      <td>0.000000</td>\n",
       "    </tr>\n",
       "  </tbody>\n",
       "</table>\n",
       "<p>13700 rows × 2 columns</p>\n",
       "</div>"
      ],
      "text/plain": [
       "                                                                listed contribution  \\\n",
       "id                                   category skill name                              \n",
       "0124e218-2d33-41e8-907b-5228ea386455 Academic computer science             0.013793   \n",
       "                                              experimentation              0.000000   \n",
       "                                              research                     0.000000   \n",
       "                                     Admin    automation                   0.027586   \n",
       "                                              aws                          0.000000   \n",
       "...                                                                             ...   \n",
       "fdd15faa-0804-4b07-9f55-715436213e75 WebDev   html                         0.000000   \n",
       "                                              javascript                   0.000000   \n",
       "                                              react                        0.000000   \n",
       "                                              web applications             0.000000   \n",
       "                                              web development              0.000000   \n",
       "\n",
       "                                                                implied contribution  \n",
       "id                                   category skill name                              \n",
       "0124e218-2d33-41e8-907b-5228ea386455 Academic computer science              0.001149  \n",
       "                                              experimentation               0.001149  \n",
       "                                              research                      0.001149  \n",
       "                                     Admin    automation                    0.002194  \n",
       "                                              aws                           0.002194  \n",
       "...                                                                              ...  \n",
       "fdd15faa-0804-4b07-9f55-715436213e75 WebDev   html                          0.000000  \n",
       "                                              javascript                    0.000000  \n",
       "                                              react                         0.000000  \n",
       "                                              web applications              0.000000  \n",
       "                                              web development               0.000000  \n",
       "\n",
       "[13700 rows x 2 columns]"
      ]
     },
     "execution_count": 16,
     "metadata": {},
     "output_type": "execute_result"
    }
   ],
   "source": [
    "jobs_categories_skills_data"
   ]
  },
  {
   "cell_type": "code",
   "execution_count": 17,
   "id": "133bce4f-1393-449a-95e9-1c7a035cd40c",
   "metadata": {},
   "outputs": [
    {
     "data": {
      "text/html": [
       "<div>\n",
       "<style scoped>\n",
       "    .dataframe tbody tr th:only-of-type {\n",
       "        vertical-align: middle;\n",
       "    }\n",
       "\n",
       "    .dataframe tbody tr th {\n",
       "        vertical-align: top;\n",
       "    }\n",
       "\n",
       "    .dataframe thead th {\n",
       "        text-align: right;\n",
       "    }\n",
       "</style>\n",
       "<table border=\"1\" class=\"dataframe\">\n",
       "  <thead>\n",
       "    <tr style=\"text-align: right;\">\n",
       "      <th></th>\n",
       "      <th>listed contribution</th>\n",
       "      <th>implied contribution</th>\n",
       "    </tr>\n",
       "    <tr>\n",
       "      <th>id</th>\n",
       "      <th></th>\n",
       "      <th></th>\n",
       "    </tr>\n",
       "  </thead>\n",
       "  <tbody>\n",
       "    <tr>\n",
       "      <th>0124e218-2d33-41e8-907b-5228ea386455</th>\n",
       "      <td>0.8</td>\n",
       "      <td>0.2</td>\n",
       "    </tr>\n",
       "    <tr>\n",
       "      <th>02cd1859-6731-4c7e-a1b5-3c0d22d2f483</th>\n",
       "      <td>0.8</td>\n",
       "      <td>0.2</td>\n",
       "    </tr>\n",
       "    <tr>\n",
       "      <th>057e7f52-416e-4339-90cb-08b1d9bd5247</th>\n",
       "      <td>0.8</td>\n",
       "      <td>0.2</td>\n",
       "    </tr>\n",
       "    <tr>\n",
       "      <th>077a5779-7d63-468e-b61f-29b0b9828e95</th>\n",
       "      <td>0.8</td>\n",
       "      <td>0.2</td>\n",
       "    </tr>\n",
       "    <tr>\n",
       "      <th>08d3836e-f7b3-45af-8db5-ebbceb456013</th>\n",
       "      <td>0.8</td>\n",
       "      <td>0.2</td>\n",
       "    </tr>\n",
       "    <tr>\n",
       "      <th>...</th>\n",
       "      <td>...</td>\n",
       "      <td>...</td>\n",
       "    </tr>\n",
       "    <tr>\n",
       "      <th>ee6ac56f-c8cd-4000-bf43-477ff5464c5f</th>\n",
       "      <td>0.8</td>\n",
       "      <td>0.2</td>\n",
       "    </tr>\n",
       "    <tr>\n",
       "      <th>f8c70e51-922f-450d-8a2a-d36d1b88593f</th>\n",
       "      <td>0.8</td>\n",
       "      <td>0.2</td>\n",
       "    </tr>\n",
       "    <tr>\n",
       "      <th>f9454138-5a6a-4682-ad21-fb67d7572ab6</th>\n",
       "      <td>0.8</td>\n",
       "      <td>0.2</td>\n",
       "    </tr>\n",
       "    <tr>\n",
       "      <th>fca8e347-ac43-41e3-9e31-d3c04e084045</th>\n",
       "      <td>0.8</td>\n",
       "      <td>0.2</td>\n",
       "    </tr>\n",
       "    <tr>\n",
       "      <th>fdd15faa-0804-4b07-9f55-715436213e75</th>\n",
       "      <td>0.8</td>\n",
       "      <td>0.2</td>\n",
       "    </tr>\n",
       "  </tbody>\n",
       "</table>\n",
       "<p>100 rows × 2 columns</p>\n",
       "</div>"
      ],
      "text/plain": [
       "                                      listed contribution  \\\n",
       "id                                                          \n",
       "0124e218-2d33-41e8-907b-5228ea386455                  0.8   \n",
       "02cd1859-6731-4c7e-a1b5-3c0d22d2f483                  0.8   \n",
       "057e7f52-416e-4339-90cb-08b1d9bd5247                  0.8   \n",
       "077a5779-7d63-468e-b61f-29b0b9828e95                  0.8   \n",
       "08d3836e-f7b3-45af-8db5-ebbceb456013                  0.8   \n",
       "...                                                   ...   \n",
       "ee6ac56f-c8cd-4000-bf43-477ff5464c5f                  0.8   \n",
       "f8c70e51-922f-450d-8a2a-d36d1b88593f                  0.8   \n",
       "f9454138-5a6a-4682-ad21-fb67d7572ab6                  0.8   \n",
       "fca8e347-ac43-41e3-9e31-d3c04e084045                  0.8   \n",
       "fdd15faa-0804-4b07-9f55-715436213e75                  0.8   \n",
       "\n",
       "                                      implied contribution  \n",
       "id                                                          \n",
       "0124e218-2d33-41e8-907b-5228ea386455                   0.2  \n",
       "02cd1859-6731-4c7e-a1b5-3c0d22d2f483                   0.2  \n",
       "057e7f52-416e-4339-90cb-08b1d9bd5247                   0.2  \n",
       "077a5779-7d63-468e-b61f-29b0b9828e95                   0.2  \n",
       "08d3836e-f7b3-45af-8db5-ebbceb456013                   0.2  \n",
       "...                                                    ...  \n",
       "ee6ac56f-c8cd-4000-bf43-477ff5464c5f                   0.2  \n",
       "f8c70e51-922f-450d-8a2a-d36d1b88593f                   0.2  \n",
       "f9454138-5a6a-4682-ad21-fb67d7572ab6                   0.2  \n",
       "fca8e347-ac43-41e3-9e31-d3c04e084045                   0.2  \n",
       "fdd15faa-0804-4b07-9f55-715436213e75                   0.2  \n",
       "\n",
       "[100 rows x 2 columns]"
      ]
     },
     "execution_count": 17,
     "metadata": {},
     "output_type": "execute_result"
    }
   ],
   "source": [
    "jobs_categories_skills_data.groupby(level=0).sum() # This proves we've successfully conserved totals"
   ]
  },
  {
   "cell_type": "code",
   "execution_count": 18,
   "id": "9a0883f0-1a52-4297-9eef-9f532b3c479e",
   "metadata": {},
   "outputs": [],
   "source": [
    "job_skill_weights = jobs_categories_skills_data[\"listed contribution\"] + jobs_categories_skills_data[\"implied contribution\"]"
   ]
  },
  {
   "cell_type": "code",
   "execution_count": 19,
   "id": "0427498e-4249-47fb-90f4-8235c7863b86",
   "metadata": {},
   "outputs": [
    {
     "name": "stdout",
     "output_type": "stream",
     "text": [
      "<class 'pandas.core.series.Series'>\n",
      "MultiIndex: 13700 entries, ('0124e218-2d33-41e8-907b-5228ea386455', 'Academic', 'computer science') to ('fdd15faa-0804-4b07-9f55-715436213e75', 'WebDev', 'web development')\n",
      "Series name: None\n",
      "Non-Null Count  Dtype  \n",
      "--------------  -----  \n",
      "13700 non-null  float64\n",
      "dtypes: float64(1)\n",
      "memory usage: 157.8+ KB\n"
     ]
    }
   ],
   "source": [
    "job_skill_weights.info()"
   ]
  },
  {
   "cell_type": "code",
   "execution_count": 20,
   "id": "6ca9e720-4b37-406a-95d4-bf02e121e121",
   "metadata": {},
   "outputs": [
    {
     "data": {
      "text/plain": [
       "id                                    category\n",
       "0124e218-2d33-41e8-907b-5228ea386455  Bio         0.0\n",
       "                                      Embedded    0.0\n",
       "                                      Project     0.0\n",
       "                                      Visual      0.0\n",
       "                                      WebDev      0.0\n",
       "                                                 ... \n",
       "fdd15faa-0804-4b07-9f55-715436213e75  Embedded    0.0\n",
       "                                      Java        0.0\n",
       "                                      Unix        0.0\n",
       "                                      Visual      0.0\n",
       "                                      WebDev      0.0\n",
       "Length: 507, dtype: float64"
      ]
     },
     "execution_count": 20,
     "metadata": {},
     "output_type": "execute_result"
    }
   ],
   "source": [
    "job_skill_weights.groupby(level=[0, 1]).sum().loc[lambda sw: sw == 0]"
   ]
  },
  {
   "cell_type": "code",
   "execution_count": 21,
   "id": "f217afae-988b-4048-8117-e3b83db3f5ea",
   "metadata": {},
   "outputs": [
    {
     "data": {
      "text/plain": [
       "id\n",
       "0124e218-2d33-41e8-907b-5228ea386455    1.0\n",
       "02cd1859-6731-4c7e-a1b5-3c0d22d2f483    1.0\n",
       "057e7f52-416e-4339-90cb-08b1d9bd5247    1.0\n",
       "077a5779-7d63-468e-b61f-29b0b9828e95    1.0\n",
       "08d3836e-f7b3-45af-8db5-ebbceb456013    1.0\n",
       "                                       ... \n",
       "ee6ac56f-c8cd-4000-bf43-477ff5464c5f    1.0\n",
       "f8c70e51-922f-450d-8a2a-d36d1b88593f    1.0\n",
       "f9454138-5a6a-4682-ad21-fb67d7572ab6    1.0\n",
       "fca8e347-ac43-41e3-9e31-d3c04e084045    1.0\n",
       "fdd15faa-0804-4b07-9f55-715436213e75    1.0\n",
       "Length: 100, dtype: float64"
      ]
     },
     "execution_count": 21,
     "metadata": {},
     "output_type": "execute_result"
    }
   ],
   "source": [
    "job_skill_weights.groupby(level=0).sum()"
   ]
  },
  {
   "cell_type": "code",
   "execution_count": 22,
   "id": "f8df3cb4-d6d0-4f55-817c-62729218b28b",
   "metadata": {},
   "outputs": [
    {
     "data": {
      "text/plain": [
       "category\n",
       "Academic    0.014444\n",
       "Code        0.016818\n",
       "dtype: float64"
      ]
     },
     "execution_count": 22,
     "metadata": {},
     "output_type": "execute_result"
    }
   ],
   "source": [
    "job_skill_weights.loc[(jobs.index[0], slice(None), \"computer science\")]"
   ]
  },
  {
   "cell_type": "code",
   "execution_count": null,
   "id": "420157ed-94ab-45a8-8209-5bcba3f65162",
   "metadata": {},
   "outputs": [],
   "source": []
  }
 ],
 "metadata": {
  "kernelspec": {
   "display_name": "Python 3 (ipykernel)",
   "language": "python",
   "name": "python3"
  },
  "language_info": {
   "codemirror_mode": {
    "name": "ipython",
    "version": 3
   },
   "file_extension": ".py",
   "mimetype": "text/x-python",
   "name": "python",
   "nbconvert_exporter": "python",
   "pygments_lexer": "ipython3",
   "version": "3.10.6"
  }
 },
 "nbformat": 4,
 "nbformat_minor": 5
}

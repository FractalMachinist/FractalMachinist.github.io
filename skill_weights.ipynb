{
 "cells": [
  {
   "cell_type": "code",
   "execution_count": 1,
   "id": "2d19ce3b-d746-4e75-9a66-e14e6d46f914",
   "metadata": {},
   "outputs": [],
   "source": [
    "import pandas as pd, skill_cat, multiprocessing.dummy\n",
    "from jobs_skills_weights import *"
   ]
  },
  {
   "cell_type": "code",
   "execution_count": 2,
   "id": "1d2077c6-0352-47f9-9f99-8c50430efc9a",
   "metadata": {},
   "outputs": [],
   "source": [
    "skill_cat._refresh()\n",
    "stemming._refresh()"
   ]
  },
  {
   "cell_type": "code",
   "execution_count": 3,
   "id": "d2d67019-9988-490b-bdab-13342eead112",
   "metadata": {},
   "outputs": [],
   "source": [
    "jobs = get_jobs(bookmarked=False)"
   ]
  },
  {
   "cell_type": "code",
   "execution_count": 4,
   "id": "d2e89c8c-d212-44c8-935a-599d022ac0c4",
   "metadata": {},
   "outputs": [
    {
     "data": {
      "text/plain": [
       "100"
      ]
     },
     "execution_count": 4,
     "metadata": {},
     "output_type": "execute_result"
    }
   ],
   "source": [
    "len(jobs)"
   ]
  },
  {
   "cell_type": "code",
   "execution_count": 5,
   "id": "95c0ed1f-6898-4369-9e8a-03ff4d4983fc",
   "metadata": {},
   "outputs": [
    {
     "data": {
      "text/html": [
       "<div>\n",
       "<style scoped>\n",
       "    .dataframe tbody tr th:only-of-type {\n",
       "        vertical-align: middle;\n",
       "    }\n",
       "\n",
       "    .dataframe tbody tr th {\n",
       "        vertical-align: top;\n",
       "    }\n",
       "\n",
       "    .dataframe thead th {\n",
       "        text-align: right;\n",
       "    }\n",
       "</style>\n",
       "<table border=\"1\" class=\"dataframe\">\n",
       "  <thead>\n",
       "    <tr style=\"text-align: right;\">\n",
       "      <th></th>\n",
       "      <th>company_name</th>\n",
       "      <th>location</th>\n",
       "      <th>role</th>\n",
       "      <th>url</th>\n",
       "      <th>excitement</th>\n",
       "    </tr>\n",
       "    <tr>\n",
       "      <th>id</th>\n",
       "      <th></th>\n",
       "      <th></th>\n",
       "      <th></th>\n",
       "      <th></th>\n",
       "      <th></th>\n",
       "    </tr>\n",
       "  </thead>\n",
       "  <tbody>\n",
       "    <tr>\n",
       "      <th>bd59469c-29f4-41b9-9001-5b7902d766e1</th>\n",
       "      <td>Ansys</td>\n",
       "      <td>Madrid, Community of Madrid, Spain</td>\n",
       "      <td>R&amp;D Engineer II - Python f/m</td>\n",
       "      <td>https://www.linkedin.com/jobs/search/?currentJ...</td>\n",
       "      <td>4</td>\n",
       "    </tr>\n",
       "    <tr>\n",
       "      <th>0124e218-2d33-41e8-907b-5228ea386455</th>\n",
       "      <td>Treibacher Industrie AG</td>\n",
       "      <td>Althofen, Carinthia, Austria</td>\n",
       "      <td>AI/ML Specialist – Software Engineer (m/f/d)</td>\n",
       "      <td>https://www.linkedin.com/jobs/search/?geoId=91...</td>\n",
       "      <td>4</td>\n",
       "    </tr>\n",
       "    <tr>\n",
       "      <th>35b60a7d-f9a3-4f63-b8ab-4db8db49fca8</th>\n",
       "      <td>Helsing</td>\n",
       "      <td>Paris, Île-de-France, France</td>\n",
       "      <td>Deployed AI Engineer</td>\n",
       "      <td>https://www.linkedin.com/jobs/search/?currentJ...</td>\n",
       "      <td>5</td>\n",
       "    </tr>\n",
       "  </tbody>\n",
       "</table>\n",
       "</div>"
      ],
      "text/plain": [
       "                                                 company_name  \\\n",
       "id                                                              \n",
       "bd59469c-29f4-41b9-9001-5b7902d766e1                    Ansys   \n",
       "0124e218-2d33-41e8-907b-5228ea386455  Treibacher Industrie AG   \n",
       "35b60a7d-f9a3-4f63-b8ab-4db8db49fca8                  Helsing   \n",
       "\n",
       "                                                                location  \\\n",
       "id                                                                         \n",
       "bd59469c-29f4-41b9-9001-5b7902d766e1  Madrid, Community of Madrid, Spain   \n",
       "0124e218-2d33-41e8-907b-5228ea386455        Althofen, Carinthia, Austria   \n",
       "35b60a7d-f9a3-4f63-b8ab-4db8db49fca8        Paris, Île-de-France, France   \n",
       "\n",
       "                                                                              role  \\\n",
       "id                                                                                   \n",
       "bd59469c-29f4-41b9-9001-5b7902d766e1                  R&D Engineer II - Python f/m   \n",
       "0124e218-2d33-41e8-907b-5228ea386455  AI/ML Specialist – Software Engineer (m/f/d)   \n",
       "35b60a7d-f9a3-4f63-b8ab-4db8db49fca8                          Deployed AI Engineer   \n",
       "\n",
       "                                                                                    url  \\\n",
       "id                                                                                        \n",
       "bd59469c-29f4-41b9-9001-5b7902d766e1  https://www.linkedin.com/jobs/search/?currentJ...   \n",
       "0124e218-2d33-41e8-907b-5228ea386455  https://www.linkedin.com/jobs/search/?geoId=91...   \n",
       "35b60a7d-f9a3-4f63-b8ab-4db8db49fca8  https://www.linkedin.com/jobs/search/?currentJ...   \n",
       "\n",
       "                                      excitement  \n",
       "id                                                \n",
       "bd59469c-29f4-41b9-9001-5b7902d766e1           4  \n",
       "0124e218-2d33-41e8-907b-5228ea386455           4  \n",
       "35b60a7d-f9a3-4f63-b8ab-4db8db49fca8           5  "
      ]
     },
     "execution_count": 5,
     "metadata": {},
     "output_type": "execute_result"
    }
   ],
   "source": [
    "jobs.head(3)"
   ]
  },
  {
   "cell_type": "markdown",
   "id": "d7731507-fe47-4194-a662-58f927bc91fc",
   "metadata": {},
   "source": [
    "# What is the goal here?\n",
    "For each job, create a dict from (a skill name that job wants) to (a float indicating the importance of that skill)"
   ]
  },
  {
   "cell_type": "code",
   "execution_count": 6,
   "id": "c30f18ac-a530-4ca3-bb10-f0264a15b5be",
   "metadata": {},
   "outputs": [],
   "source": [
    "pooldict = lambda func, keys, pool: dict(zip(keys, pool.map(func, keys)))\n",
    "raw_job_details = pooldict(get_job_details, jobs.index, multiprocessing.dummy.Pool())"
   ]
  },
  {
   "cell_type": "code",
   "execution_count": 7,
   "id": "a985b866-45f3-4843-89e1-921c490e8d70",
   "metadata": {},
   "outputs": [
    {
     "name": "stdout",
     "output_type": "stream",
     "text": [
      "<class 'pandas.core.frame.DataFrame'>\n",
      "Index: 100 entries, bd59469c-29f4-41b9-9001-5b7902d766e1 to 7afa68f6-4c79-4981-a5f7-751e59da1f64\n",
      "Data columns (total 1 columns):\n",
      " #   Column           Non-Null Count  Dtype \n",
      "---  ------           --------------  ----- \n",
      " 0   job description  100 non-null    object\n",
      "dtypes: object(1)\n",
      "memory usage: 1.6+ KB\n"
     ]
    }
   ],
   "source": [
    "# Collect the job descriptions\n",
    "job_descriptions = pd.DataFrame([\n",
    "    {\n",
    "        \"id\":key, \n",
    "        \"job description\": data[\"attributes\"][\"job_description\"]\n",
    "    } for key, data in raw_job_details.items()\n",
    "]).set_index(\"id\")\n",
    "job_descriptions.info()"
   ]
  },
  {
   "cell_type": "code",
   "execution_count": 8,
   "id": "2999441d-8caa-403c-88e7-c9212f8170e7",
   "metadata": {},
   "outputs": [],
   "source": [
    "skill_cat._refresh()\n",
    "stemming._refresh()\n",
    "# Use the refreshed categories and stemming configurations to parse the (already downloaded) data\n",
    "jobs_skills_data = pd.concat(\n",
    "    {key: extract_skills_data(value) for key, value in raw_job_details.items()},\n",
    "    names=[\"id\", \"teal category\", \"skill name\"]\n",
    ")"
   ]
  },
  {
   "cell_type": "code",
   "execution_count": 9,
   "id": "28c3730e-9476-441c-b752-247da68e7bf0",
   "metadata": {},
   "outputs": [],
   "source": [
    "# Sum around teal category\n",
    "jobs_skills_data = jobs_skills_data.groupby(level=[0,2]).sum()"
   ]
  },
  {
   "cell_type": "code",
   "execution_count": 10,
   "id": "8b1a0ad1-9215-44fe-b686-3c66eaa8855e",
   "metadata": {},
   "outputs": [],
   "source": [
    "# Filter out entries which aren't categorizable\n",
    "jobs_skills_data = jobs_skills_data.query(\"`skill name`.isin(@skill_cat.skill_to_categories.keys())\")"
   ]
  },
  {
   "cell_type": "code",
   "execution_count": 11,
   "id": "efddfa9e-8229-4db0-9df0-e8205b01d2ec",
   "metadata": {},
   "outputs": [],
   "source": [
    "# Compute the share of each job a skill appears to represent\n",
    "jobs_skills_data[\"share of job\"] = jobs_skills_data[\"count\"] / jobs_skills_data[\"count\"].groupby(\"id\").sum()"
   ]
  },
  {
   "cell_type": "code",
   "execution_count": 12,
   "id": "1808228c-7a8b-4848-903c-a49eaf08317a",
   "metadata": {},
   "outputs": [
    {
     "name": "stdout",
     "output_type": "stream",
     "text": [
      "<class 'pandas.core.frame.DataFrame'>\n",
      "MultiIndex: 1906 entries, ('bd59469c-29f4-41b9-9001-5b7902d766e1', 'c') to ('7afa68f6-4c79-4981-a5f7-751e59da1f64', 'research')\n",
      "Data columns (total 2 columns):\n",
      " #   Column        Non-Null Count  Dtype  \n",
      "---  ------        --------------  -----  \n",
      " 0   count         1906 non-null   int64  \n",
      " 1   share of job  1906 non-null   float64\n",
      "dtypes: float64(1), int64(1)\n",
      "memory usage: 82.8+ KB\n"
     ]
    }
   ],
   "source": [
    "jobs_skills_data.info()"
   ]
  },
  {
   "cell_type": "code",
   "execution_count": 13,
   "id": "9e0d75ab-dc0b-4e2c-a339-bef4d88a71ff",
   "metadata": {},
   "outputs": [
    {
     "name": "stdout",
     "output_type": "stream",
     "text": [
      "<class 'pandas.core.frame.DataFrame'>\n",
      "MultiIndex: 10900 entries, ('bd59469c-29f4-41b9-9001-5b7902d766e1', 'ML', 'statistics') to ('7afa68f6-4c79-4981-a5f7-751e59da1f64', 'WebDev', 'web development')\n",
      "Data columns (total 2 columns):\n",
      " #   Column        Non-Null Count  Dtype  \n",
      "---  ------        --------------  -----  \n",
      " 0   count         10900 non-null  float64\n",
      " 1   share of job  10900 non-null  float64\n",
      "dtypes: float64(2)\n",
      "memory usage: 210.4+ KB\n"
     ]
    }
   ],
   "source": [
    "jobs_categories_skills_data = pd.DataFrame([{\n",
    "        \"id\":job_id,\n",
    "        \"category\":category,\n",
    "        \"skill name\":skill_name,\n",
    "        \"count\":jobs_skills_data[\"count\"].get((job_id, skill_name), 0)/len(categories),\n",
    "        \"share of job\":jobs_skills_data[\"share of job\"].get((job_id, skill_name), 0)/len(categories),\n",
    "    } for job_id in jobs.index\n",
    "        for skill_name, categories in skill_cat.skill_to_categories.items()\n",
    "            for category in categories\n",
    "]).set_index([\"id\", \"category\", \"skill name\"])\n",
    "jobs_categories_skills_data.info()"
   ]
  },
  {
   "cell_type": "code",
   "execution_count": 14,
   "id": "092d1283-914f-436e-983b-05224207e841",
   "metadata": {},
   "outputs": [
    {
     "name": "stdout",
     "output_type": "stream",
     "text": [
      "<class 'pandas.core.frame.DataFrame'>\n",
      "MultiIndex: 1200 entries, ('0124e218-2d33-41e8-907b-5228ea386455', 'Academic') to ('fdd15faa-0804-4b07-9f55-715436213e75', 'Writing')\n",
      "Data columns (total 2 columns):\n",
      " #   Column        Non-Null Count  Dtype  \n",
      "---  ------        --------------  -----  \n",
      " 0   count         1200 non-null   float64\n",
      " 1   share of job  1200 non-null   float64\n",
      "dtypes: float64(2)\n",
      "memory usage: 26.4+ KB\n"
     ]
    }
   ],
   "source": [
    "jobs_categories_data = jobs_categories_skills_data.groupby(level=[0,1]).sum()#.query(\"count > 0\")\n",
    "jobs_categories_data.info()"
   ]
  },
  {
   "cell_type": "code",
   "execution_count": 15,
   "id": "70aaf61e-efb9-4b97-9afd-7574416daf42",
   "metadata": {},
   "outputs": [],
   "source": [
    "jobs_categories_skills_data[\"category contribution\"] = (jobs_categories_data[\"share of job\"] / jobs_categories_data[\"count\"])"
   ]
  },
  {
   "cell_type": "code",
   "execution_count": 16,
   "id": "1fab9e14-6003-47e9-a0d3-80c38f2126ad",
   "metadata": {},
   "outputs": [
    {
     "name": "stdout",
     "output_type": "stream",
     "text": [
      "<class 'pandas.core.frame.DataFrame'>\n",
      "MultiIndex: 10900 entries, ('bd59469c-29f4-41b9-9001-5b7902d766e1', 'ML', 'statistics') to ('7afa68f6-4c79-4981-a5f7-751e59da1f64', 'WebDev', 'web development')\n",
      "Data columns (total 3 columns):\n",
      " #   Column                 Non-Null Count  Dtype  \n",
      "---  ------                 --------------  -----  \n",
      " 0   count                  10900 non-null  float64\n",
      " 1   share of job           10900 non-null  float64\n",
      " 2   category contribution  9483 non-null   float64\n",
      "dtypes: float64(3)\n",
      "memory usage: 295.6+ KB\n"
     ]
    }
   ],
   "source": [
    "jobs_categories_skills_data.info()"
   ]
  },
  {
   "cell_type": "code",
   "execution_count": 17,
   "id": "9a0883f0-1a52-4297-9eef-9f532b3c479e",
   "metadata": {},
   "outputs": [],
   "source": [
    "jobs_categories_skills_data[\"skill weight\"] = jobs_categories_skills_data[\"category contribution\"]*(1/3.0) + jobs_categories_skills_data[\"share of job\"]*(2/3.0)"
   ]
  },
  {
   "cell_type": "code",
   "execution_count": 18,
   "id": "0427498e-4249-47fb-90f4-8235c7863b86",
   "metadata": {},
   "outputs": [
    {
     "name": "stdout",
     "output_type": "stream",
     "text": [
      "<class 'pandas.core.frame.DataFrame'>\n",
      "MultiIndex: 10900 entries, ('bd59469c-29f4-41b9-9001-5b7902d766e1', 'ML', 'statistics') to ('7afa68f6-4c79-4981-a5f7-751e59da1f64', 'WebDev', 'web development')\n",
      "Data columns (total 4 columns):\n",
      " #   Column                 Non-Null Count  Dtype  \n",
      "---  ------                 --------------  -----  \n",
      " 0   count                  10900 non-null  float64\n",
      " 1   share of job           10900 non-null  float64\n",
      " 2   category contribution  9483 non-null   float64\n",
      " 3   skill weight           9483 non-null   float64\n",
      "dtypes: float64(4)\n",
      "memory usage: 380.8+ KB\n"
     ]
    }
   ],
   "source": [
    "jobs_categories_skills_data.info()"
   ]
  },
  {
   "cell_type": "code",
   "execution_count": 19,
   "id": "eed121a0-61c7-433a-b9e8-f45f0d0c5142",
   "metadata": {},
   "outputs": [
    {
     "name": "stdout",
     "output_type": "stream",
     "text": [
      "<class 'pandas.core.frame.DataFrame'>\n",
      "MultiIndex: 10900 entries, ('bd59469c-29f4-41b9-9001-5b7902d766e1', 'ML', 'statistics') to ('7afa68f6-4c79-4981-a5f7-751e59da1f64', 'WebDev', 'web development')\n",
      "Data columns (total 5 columns):\n",
      " #   Column                 Non-Null Count  Dtype  \n",
      "---  ------                 --------------  -----  \n",
      " 0   count                  10900 non-null  float64\n",
      " 1   share of job           10900 non-null  float64\n",
      " 2   category contribution  9483 non-null   float64\n",
      " 3   skill weight           9483 non-null   float64\n",
      " 4   job description        10900 non-null  object \n",
      "dtypes: float64(4), object(1)\n",
      "memory usage: 465.9+ KB\n"
     ]
    }
   ],
   "source": [
    "jobs_categories_skills_data.join(job_descriptions).info()"
   ]
  },
  {
   "cell_type": "code",
   "execution_count": null,
   "id": "f8df3cb4-d6d0-4f55-817c-62729218b28b",
   "metadata": {},
   "outputs": [],
   "source": []
  }
 ],
 "metadata": {
  "kernelspec": {
   "display_name": "Python 3 (ipykernel)",
   "language": "python",
   "name": "python3"
  },
  "language_info": {
   "codemirror_mode": {
    "name": "ipython",
    "version": 3
   },
   "file_extension": ".py",
   "mimetype": "text/x-python",
   "name": "python",
   "nbconvert_exporter": "python",
   "pygments_lexer": "ipython3",
   "version": "3.10.6"
  }
 },
 "nbformat": 4,
 "nbformat_minor": 5
}

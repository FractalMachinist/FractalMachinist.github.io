{
 "cells": [
  {
   "cell_type": "code",
   "execution_count": 1,
   "id": "c5114826-031f-424d-a22e-471189c33451",
   "metadata": {},
   "outputs": [],
   "source": [
    "# !pip install pandas matplotlib\n",
    "from CurriculumVitae import *\n",
    "from IPython.display import display, HTML, Markdown, clear_output\n",
    "from datetime import date\n",
    "import json\n",
    "from jobs_skills_weights import get_jobs, get_raw_job_details\n",
    "import skill_weights, synonyms, skill_cat\n",
    "import pandas as pd # TODO: Not needed for final export"
   ]
  },
  {
   "cell_type": "code",
   "execution_count": 2,
   "id": "ee253396-6f27-452e-9a82-79a7f4b1250b",
   "metadata": {
    "tags": []
   },
   "outputs": [],
   "source": [
    "my_resume = Resume(\n",
    "    person=Person(name=\"Zach Allen\", pronouns=\"He/Him\", \n",
    "                    contact_info=ContactInfo(\n",
    "                       email=\"fractalmachinist@gmail.com\", \n",
    "                       phone=\"+1 (509)438-8146\", \n",
    "                       link=\"https://fractalmachini.st\",\n",
    "                       link2=\"https://linkedin.com/in/zachallen-fractalmachinist/\")),\n",
    "\n",
    "    headline=' '.join([\"Machine Learning Researcher & Data Engineer with 5 years experience in collaborative AI innovation & infrastructure implementation at scale.\",                       \n",
    "                       \"Expert in Python & TensorFlow since 2015/2017.\",\n",
    "                       \"Passionate about working closely with multidisciplinary partners to shape the future towards global sustainability.\",\n",
    "                       # \"Certified in data-driven integrations of business needs, software engineering, project management, and software development best practices.\",\n",
    "                       \"Excellent writing, speaking, presenting, and technical communication skills.\",\n",
    "                       ]))"
   ]
  },
  {
   "cell_type": "code",
   "execution_count": 3,
   "id": "fe8195e8-9a32-4bab-b186-8f2af3a9e661",
   "metadata": {
    "tags": []
   },
   "outputs": [],
   "source": [
    "my_resume.education = [Occupation(\n",
    "    must_render=True,\n",
    "    title=\"Bachelor's in Computer Science\", location=\"Utah, USA (Online)\",\n",
    "    timespan=Between(start=date(2019, 2, 1), end=date(2022, 8, 31)),\n",
    "    subtitle=\"Western Governors University\", \n",
    "    headline=\"Focused on Machine Learning and Project Management in a fully remote environment\",\n",
    "    skills=my_resume.Skills(\"Remote Work\", \"Project Management\", \"Machine Learning\", \"Computer Science\", \"Software Engineering\"),\n",
    "    sub_tasks=[\n",
    "        Effort(title=\"Diamond Price Prediction Model\",\n",
    "               headline=\"Proposed, implemented, and documented a diamond price prediction ML model\",\n",
    "               website=\"https://github.com/FractalMachinist/WGU-C968\",\n",
    "               skills=my_resume.Skills(\"Machine Learning\", \"Analysis\", \"Statistics\", \"Feature Engineering\", \"End to End\"),\n",
    "               achievements=[\n",
    "                  Achievement(\n",
    "                       headline=\"Demonstrated integration of project management and software engineering best practices.\",\n",
    "                       skills=my_resume.Skills(\"Project Management\", \"Stakeholder Support\", \"Communication Skills\", \"Documentation\", \"Managing Requirements\", \"Technical Communication\")),\n",
    "                   Achievement(\n",
    "                       headline=\"Developed simple Data Pipeline in python/pandas.\",\n",
    "                       skills=my_resume.Skills(\"Python\", \"Data\", \"Software Engineering\", \"NumPy\", \"SciPy\", \"Pandas\")),\n",
    "                   Achievement(\n",
    "                       headline=\"Integrated code and report generation with a Jupyter Notebook.\",\n",
    "                       skills=my_resume.Skills(\"Jupyter\", \"Seaborn\", \"Data Visualization\"))\n",
    "               ]\n",
    "\n",
    "        ), \n",
    "        Effort(title=\"Advanced Java Concepts\",\n",
    "               headline=\"Developed appointment scheduling and customer database tool in Java\",\n",
    "               website=\"https://github.com/FractalMachinist/C195-Scheduling-App\",\n",
    "               skills=my_resume.Skills(\"Java\", \"Software Engineering\", \"Git\", \"SQL\", \"MySQL\"),\n",
    "               achievements=[\n",
    "               Achievement(\n",
    "                   headline=\"Encapsulated Observable state and database connection state into a shared wrapper class, streamlining inheritance, error handling, and UI/Database auto-updates.\",\n",
    "                   skills=my_resume.Skills(\"Java\", \"JavaFX\", \"JDBC\")),\n",
    "               Achievement(\n",
    "                   headline=\"Paid technical debt by finalizing project documentation.\",\n",
    "                   skills=my_resume.Skills(\"Documentation\", \"SDLC\"))\n",
    "               ]),    \n",
    "    ],\n",
    "    \n",
    "    achievements=[\n",
    "        \n",
    "        Certification(name=\"CompTIA Project+\",\n",
    "                      headline=\"Demonstrated understanding of Project Management roles, processes, and documentation.\",\n",
    "                      issuer=\"Pearson VUE\", issue_date=date(2019, 7, 24),\n",
    "                      website=\"https://wsr.pearsonvue.com/testtaker/authenticate/AuthenticateScoreReport.htm\",\n",
    "                      confirmation_info={\"Registration\":\"358639011\", \"Validation\":\"155946649\"},\n",
    "                      skills=my_resume.Skills(\"Project Management\", \"Managing Requirements\", \"SDLC\", \"Agile\", \"Scope\", \"Stakeholder Support\")),\n",
    "        \n",
    "        Certification(name=\"IT Information Library Foundations Certification (ITIL)\", \n",
    "                      headline=\"Demonstrated understanding of designing, deploying, maintaining, and retiring IT resources.\",\n",
    "                      issuer=\"AXELOS\", issue_date=date(2020, 8, 1),\n",
    "                      skills=my_resume.Skills(\"Infrastructure\")),\n",
    "        \n",
    "        Certification(name=\"Site Development Associate\",\n",
    "                      headline=\"Demonstrated ability to design and build websites.\",\n",
    "                      issuer=\"CIW\", issue_date=date(2019, 2, 1),\n",
    "                      skills=my_resume.Skills(\"Web Development\", \"HTML\", \"CSS\", \"JavaScript\",)),\n",
    "        \n",
    "        Achievement(headline=\"Excellence Award for Communication Applications\",\n",
    "                    portfolio_link=\"https://github.com/FractalMachinist/Rust_Business_Presentation\",\n",
    "                    skills=my_resume.Skills(\"Communication Skills\", \"Technical Communication\")),\n",
    "        \n",
    "    ])]"
   ]
  },
  {
   "cell_type": "code",
   "execution_count": 4,
   "id": "be469032-bbd4-4a87-8d9e-5846ce7f4464",
   "metadata": {
    "tags": []
   },
   "outputs": [],
   "source": [
    "my_resume.employment = [\n",
    "    Occupation(title=\"Sofware Engineer\", location=\"St. Louis, Missouri, USA\", website=\"https://PlutonBio.com\",\n",
    "               timespan=Between(start=date(2021, 3, 1), end=date(2021, 8, 31)),\n",
    "               subtitle=\"Pluton Biosciences\", supervisor=Person(name=\"Dr. Boahemaa Adu-Oppong\", pronouns=\"She/Her\",\n",
    "                                                                contact_info=ContactInfo(email=\"BAdu-Oppong@plutonbio.com\")),\n",
    "               headline=\"Data Engineering supporting Bioinformatics Research\",\n",
    "               skills=my_resume.Skills(\"Remote Work\", \"Data\", \"Big Data\", \"Bioinformatics\", \"Genomics\", \"Multidisciplinary\", \"Motivated\", \"Infrastructure\", \"Research\", \"Containerization\"),\n",
    "               sub_tasks=[\n",
    "                   Effort(\n",
    "                       title=\"AWS Genomics Pipeline\",\n",
    "                       headline=\"Independently designed, implemented, and deployed Terabyte-scale AWS genomics pipeline in 4 months part time, from no prior genomics or AWS experience.\",\n",
    "                       skills=my_resume.Skills(\"AWS\", \"Cloud Computing\", \"Data\", \"Big Data\", \"Large Scale\", \"Infrastructure\", \"End to End\", \"Motivated\", \"Multidisciplinary\", \"Problem Solving\", \"Remote Work\", \"Innovation\", \"Curious\", \"Ownership\", \"Project Management\", \"SDLC\", \"Data Architecture\", \"Data Infrastructure\"),\n",
    "                       achievements=[\n",
    "                           Achievement(\n",
    "                               # title=\"Pipeline Design\",\n",
    "                               headline=\"Designed, implemented, and documented gRPC+ProtoBuf pipeline architecture.\",\n",
    "                               skills=my_resume.Skills(\"Infrastructure\", \"Data\", \"Big Data\", \"Large Scale\", \"Tooling\", \"Integration\", \"Automation\", \"Prototyping\", \"Workflows\", \"Innovation\", \"Problem Solving\"),\n",
    "                           ),\n",
    "                           Achievement(\n",
    "                               # title=\"User-Friendly Query Library\",\n",
    "                               # headline=\"Designed, implemented, developed training for, and documented an in-house Python+R library and interface enabling (non-CS) biologists to easily deploy multi-stage genomics queries without relying on the CS team.\",\n",
    "                               headline=\"Accelerated research iteration with an in-house Python+R interface helping non-CS teammates deploy complex, multi-stage genomics queries without relying on the CS team.\",\n",
    "                               skills=my_resume.Skills(\"Python\", \"R\", \"API Design\", \"Libraries\", \"Tooling\", \"Automation\", \"Workflows\", \"Problem Solving\", \"Stakeholder Support\")\n",
    "                           ),\n",
    "                           Achievement(\n",
    "                               # title=\"Aligned Deliverables with Stakeholder Needs\",\n",
    "                               headline=\"Collaborated with SMEs to gather, interpret, and meet data pipeline requirements. Interfaced with Bioinformatics expert for genomics tool selection.\",\n",
    "                               skills=my_resume.Skills(\"Managing Requirements\", \"Communication Skills\", \"Project Management\", \"Collaboration\", \"Multidisciplinary\", \"Scope\", \"Stakeholder Support\", \"Technical Communication\")\n",
    "                           ),\n",
    "                       ],\n",
    "                   ),\n",
    "                       \n",
    "                   Effort(\n",
    "                       title=\"Containerized Deployment & Autoscaling\",\n",
    "                       headline=\"Researched, containerized, documented, and deployed 10+ Computational Genomics tools to AWS ECS and EC2.\",\n",
    "                       skills=my_resume.Skills(\"AWS\", \"Containerization\", \"Large Scale\", \"Bioinformatics\", \"Genomics\", \"ECS\", \"EC2\"),\n",
    "                       achievements=[\n",
    "                           Achievement(\n",
    "                               # title=\"Streamlined Pipeline Development Lifecycle\",\n",
    "                               # headline=\"Developed, documented, and utilized frameworks for automating Computational Genomics tool containerization.\",\n",
    "                               headline=\"Streamlined & automated containerization workflow for Computational Genomics tools.\",\n",
    "                               skills=my_resume.Skills(\"Infrastructure\", \"Tooling\", \"SDLC\", \"Automation\", \"Workflows\", \"Problem Solving\", \"Docker\", \"Containerization\")\n",
    "                           ),\n",
    "                           Achievement(\n",
    "                               headline=\"Constructed and tuned EC2&ECS autoscaling, maximizing cost efficiency and cluster responsiveness.\",\n",
    "                               skills=my_resume.Skills(\"AWS\", \"Infrastructure\", \"Budget\", \"Monitoring\", \"Tracking\", \"Reporting\", \"ECS\", \"EC2\", \"Containerization\")\n",
    "                           ),\n",
    "                           Achievement(\n",
    "                               headline=\"Detected, diagnosed, and resolved compute resource inefficiencies.\",\n",
    "                               skills=my_resume.Skills(\"Optimization\", \"Computer Science\", \"Debugging\", \"Computer Engineering\", \"Iteration\", \"Monitoring\", \"Tracking\", \"Reporting\")\n",
    "                           ),\n",
    "                       ]\n",
    "                   ),    \n",
    "                   \n",
    "                   Achievement(\n",
    "                       # title=\"Spearheaded SDLC & CI/CD\",\n",
    "                       headline=\"Led the CS team in adopting SDLC tools like Git, AWS CodeCommit, and Docker / AWS Elastic Container Registry. Championed utilization of Microsoft Teams Kanban tools for project&process management.\",\n",
    "                       skills=my_resume.Skills(\"Leadership\", \"SDLC\", \"Git\", \"Containerization\", \"Testing\", \"Frameworks\", \"Project Management\", \"Teamwork\", \"Workflows\", \"CI/CD\", \"Organizational Skills\")\n",
    "                   ),\n",
    "                   Achievement(\n",
    "                       # title=\"Microbial Taxonomy Visualizations in R\",\n",
    "                       headline=\"Worked closely with SMEs to perform analysis and visualization of microbial taxonomy data in R.\",\n",
    "                       skills=my_resume.Skills(\"R\", \"Analysis\", \"Statistics\", \"Communication Skills\", \"Collaboration\", \"Multidisciplinary\", \"Teamwork\", \"Iteration\", \"Data Visualization\", \"Technical Communication\")\n",
    "                   ),\n",
    "               ],\n",
    "    ),\n",
    "    \n",
    "    Occupation(title=\"Embedded Systems Engineer\", location=\"Allentown, Pennsylvania, USA\", website=\"https://AppliedSeparations.com\",\n",
    "               timespan=Between(start=date(2019, 1, 1), end=date(2020, 1, 25)),\n",
    "               subtitle=\"Applied Separations\", supervisor=Person(name=\"Aaron Allen\", pronouns=\"He/Him\", \n",
    "                                                                contact_info=ContactInfo(email=\"mnrnln@gmail.com\")),\n",
    "               skills=my_resume.Skills(\"C\", \"C++\", \"Computer Science\", \"Microcontrollers\", \"Algorithms\", \"Software Engineering\"),\n",
    "               \n",
    "               headline=\"Developed custom C++ / Arduino pump control software\",\n",
    "               achievements=[\n",
    "                   Achievement(headline=\"Designed and developed pump control software for chromatography and analytical chemistry systems in C and C++.\",\n",
    "                               skills=my_resume.Skills(\"C\", \"C++\", \"Software Engineering\", \"SDLC\", \"Microcontrollers\", \"Multidisciplinary\")),\n",
    "                   \n",
    "                   Achievement(headline=\"Wrote a simple heuristic scheduler & virtual threading to manage real-time (60Hz+) pump control, touch screen input, and data/control communication, all on a single Arduino Mega.\",\n",
    "                               skills=my_resume.Skills(\"Algorithms\", \"Optimization\", \"Software Engineering\", \"Statistics\", \"Computer Science\", \"Microcontrollers\", \"Computer Engineering\")),\n",
    "                   \n",
    "                   Achievement(headline=\"Designed and validated delivery prediction and smoothing algorithms for nonlinear feedback delay.\",\n",
    "                               skills=my_resume.Skills(\"Algorithms\", \"Algebra\", \"Testing\", \"Computer Science\", \"Prototyping\", \"Analysis\", \"Monitoring\", \"Reporting\")),\n",
    "                   \n",
    "                   Achievement(headline=\"Interfaced with separate development team in charge of chromatography control software. Collected and implemented requirements from instrumentation engineer.\",\n",
    "                               skills=my_resume.Skills(\"Communication Skills\", \"Managing Requirements\", \"Project Management\", \"SDLC\", \"Documentation\", \"Collaboration\", \"Ownership\", \"Integration\", \"Leadership\", \"Git\", \"Reporting\", \"Technical Communication\"))]),\n",
    "              \n",
    "    Occupation(title=\"Service Writer\", location=\"Richland, Washington, USA\", website=\"https://AlphaComputerCenter.com\",\n",
    "               cost=6, # I really don't expect to see this unless I see everything\n",
    "               timespan=Between(start=date(2017, 12, 1), end=date(2018, 11, 30)),\n",
    "               subtitle=\"Alpha Computer Center\", supervisor=Person(name=\"Frank Ward Jr.\", pronouns=\"He/Him\",\n",
    "                                                                   contact_info=ContactInfo(email=\"frankjr@alphacomputercenter.com\",\n",
    "                                                                   phone=\"+1 (509)946-4230\")),\n",
    "               \n",
    "               headline=\"Customer service, sales, and technician support\",\n",
    "               skills=my_resume.Skills(\"Communication Skills\", \"Linux\"),\n",
    "               achievements=[\n",
    "                   Achievement(headline=\"Ensured customers were able to accurately understand and communicate with repair technicians, improving customer service and reducing diagnostic time.\",\n",
    "                               skills=my_resume.Skills(\"Communication Skills\")),\n",
    "                   \n",
    "                   Achievement(headline=\"Leveraged extensive Linux experience to rapidly identify and repair issues that couldn't be fixed by Mac diagnostic tools.\",\n",
    "                               skills=my_resume.Skills(\"Linux\", \"Bash\")),\n",
    "                   \n",
    "                   Achievement(headline=\"Reduced call frequency with an informative website. See it on <a href='https://web.archive.org/web/20180113192132/http://www.alphacomputercenter.com/wordpress1/'>web archive</a>.\",\n",
    "                               skills=my_resume.Skills(\"Web Development\", \"HTML\", \"CSS\", \"JavaScript\"))]),\n",
    "              \n",
    "    Occupation(title=\"Machine Learning Researcher (Intern)\", location=\"Richland, Washington, USA\", website=\"https://pnnl.gov\",\n",
    "               timespan=Between(start=date(2017, 1, 1), end=date(2017, 5, 31)),\n",
    "               subtitle=\"Pacific Northwest National Laboratory\", supervisor=Person(name=\"Dr. Enoch Yeung\", pronouns=\"He/Him\",\n",
    "                                                                                   contact_info=ContactInfo(email=\"eyeung@ucsb.edu\")),\n",
    "               \n",
    "               headline=\"ML Research and Data Engineering\",\n",
    "               skills=my_resume.Skills(\"TensorFlow\", \"Python\", \"Machine Learning\", \"Deep Learning\", \"Neural Network Architectures\", \"Research\", \"Computer Science\", \"Analysis\", \"Statistics\", \"Software Engineering\"),\n",
    "               achievements=[\n",
    "                   Achievement(headline=\"Designed and tested novel Neural Network algorithms, architectures, and error formulations for NLP, image classification, and time-series data classification.\",\n",
    "                               skills=my_resume.Skills(\"Python\", \"TensorFlow\", \"Machine Learning\", \"Deep Learning\", \"Neural Network Architectures\", \"Feature Engineering\",\n",
    "                                                       \"Algorithms\", \"Algebra\", \"NLP\", \"Data\", \"Curious\", \"Research\", \"Frameworks\", \"Computer Science\",\n",
    "                                                       \"MatLab\", \"NumPy\", \"Software Engineering\")),\n",
    "                   \n",
    "                   Achievement(headline=\"Demonstrated increased test accuracy (15% ⇾ 90% detection with higher Bayesian Confidence) on unbalanced (>1000:1) datasets, without duplication, augmentation, or batch filtering.\",\n",
    "                               skills=my_resume.Skills(\"Machine Learning\", \"Algebra\", \"Statistics\", \"Testing\", \"Research\", \"Algorithms\", \"Computer Science\", \"Analysis\", \"Software Engineering\")),\n",
    "                   \n",
    "                   Achievement(headline=\"Worked independently, balancing multiple projects and deliverables with minimal mentor supervision.\",\n",
    "                               skills=my_resume.Skills(\"Project Management\", \"Reporting\", \"Ownership\"))])\n",
    "]"
   ]
  },
  {
   "cell_type": "code",
   "execution_count": 5,
   "id": "5a74bcb3-f941-4353-9a7b-a85c9601e62f",
   "metadata": {
    "tags": []
   },
   "outputs": [],
   "source": [
    "sidebar_chars_per_line = 35.0\n",
    "\n",
    "my_resume.projects = [\n",
    "    Effort(title=\"Neural Cellular Segmentation\",\n",
    "           headline=\"Exploring neural cellular automata and attention (NCA+A) for medical image segmentation in TensorFlow\",\n",
    "           website=\"https://github.com/FractalMachinist/NeuralCellularAutomataAttn\",\n",
    "           skills=my_resume.Skills(\"Software Engineering\", \"Python\", \"TensorFlow\", \"Machine Learning\", \"Research\", \"Analysis\", \"Statistics\", \"Neural Network Architectures\"),\n",
    "           achievements=[\n",
    "               Achievement(headline=\"Developed, tested, and iterated NCA+A models in TensorFlow, balancing system resources and model size.\",\n",
    "                           chars_per_line=sidebar_chars_per_line, # Due to the sidebar. This needs refactored.\n",
    "                           skills=my_resume.Skills(\"Python\", \"TensorFlow\", \"Machine Learning\", \"Neural Network Architectures\", \"Research\", \"Algebra\", \n",
    "                                                   \"Optimization\", \"Statistics\", \"NumPy\", \"Analysis\")),\n",
    "               Achievement(headline=\"Created multiple tf.Data pipelines with preprocessing and data augmentation steps.\",\n",
    "                           chars_per_line=sidebar_chars_per_line, # Due to the sidebar. This needs refactored.\n",
    "                           skills=my_resume.Skills(\"Python\", \"Data\", \"Software Engineering\", \"TensorFlow\", \"Git\", \"Frameworks\", \"Computer Science\")),\n",
    "           ]),\n",
    "    Effort(title=\"Interplan\",\n",
    "           headline=\"Task dependency management from a Graph Database\",\n",
    "           website=\"https://github.com/FractalMachinist/Interplan\",\n",
    "           skills=my_resume.Skills(\"Software Engineering\", \"Neo4J\", \"Web Development\", \"Containerization\", \"Project Management\"),\n",
    "           achievements=[\n",
    "               Achievement(headline=\"Developed a Neo4J+JS dependency resolution and task status tracking API.\",\n",
    "                           chars_per_line=sidebar_chars_per_line, # Due to the sidebar. This needs refactored.\n",
    "                           skills=my_resume.Skills(\"JavaScript\", \"Testing\", \"Project Management\", \"Data Driven\", \"API Design\",\n",
    "                                                   \"Software Engineering\", \"Neo4J\", \"Apache Tinkerpop\")),\n",
    "               Achievement(headline=\"Designed intuitive React app for displaying and interacting with tasks.\",\n",
    "                           chars_per_line=sidebar_chars_per_line, # Due to the sidebar. This needs refactored.\n",
    "                           skills=my_resume.Skills(\"Web Development\", \"HTML\", \"CSS\", \"JavaScript\", \"React\")),\n",
    "               Achievement(headline=\"Packaged Node+Neo4J in Docker & Kubernetes for easy migration.\",\n",
    "                           chars_per_line=sidebar_chars_per_line, # Due to the sidebar. This needs refactored.\n",
    "                           skills=my_resume.Skills(\"Containerization\", \"Infrastructure\"))\n",
    "           ]),\n",
    "    \n",
    "    Effort(title=\"MarkNotes\",\n",
    "           headline=\"Intuitive journaling tool designed to encourage long-term review and introspection\",\n",
    "           website=\"https://github.com/FractalMachinist/MarkNotes\",\n",
    "           skills=my_resume.Skills(\"Software Engineering\", \"Web Development\", \"NoSQL\", \"MongoDB\"),\n",
    "           achievements=[\n",
    "               Achievement(headline=\"Integrated MongoDB and Node API for destructuring, storing, and querying Markdown entries as semi-structured data.\",\n",
    "                           chars_per_line=sidebar_chars_per_line, # Due to the sidebar. This needs refactored.\n",
    "                           skills=my_resume.Skills(\"MongoDB\", \"Data\", \"Data Driven\", \"NoSQL\", \"API Design\")),\n",
    "               Achievement(headline=\"Designed simple, intuitive React web app interface.\",\n",
    "                           chars_per_line=sidebar_chars_per_line, # Due to the sidebar. This needs refactored.\n",
    "                           skills=my_resume.Skills(\"Web Development\", \"HTML\", \"CSS\", \"JavaScript\")),\n",
    "               Achievement(headline=\"Packaged Node+MongoDB in Docker & Kubernetes.\",\n",
    "                           chars_per_line=sidebar_chars_per_line, # Due to the sidebar. This needs refactored.\n",
    "                           skills=my_resume.Skills(\"Containerization\", \"Infrastructure\"))\n",
    "           ]),\n",
    "    \n",
    "    Effort(title=\"NetTimeLog\",\n",
    "           headline=\"Minimalist, accurate time tracking\",\n",
    "           # website=\"https://fractalmachini.st/demos/nettimelog\",\n",
    "           achievements=[\n",
    "               Achievement(headline=\"Created time-tracking web app with Python+Flask which records what you just completed, so you never estimate what you will do or how long it will take.\",\n",
    "                           chars_per_line=sidebar_chars_per_line, # Due to the sidebar. This needs refactored.\n",
    "                           skills=my_resume.Skills(\"Web Development\", \"HTML\", \"CSS\", \"JavaScript\"))])\n",
    "]"
   ]
  },
  {
   "cell_type": "markdown",
   "id": "dd6aa19d-2c2c-46eb-85c5-ab590e7242b2",
   "metadata": {
    "tags": []
   },
   "source": [
    "# Validate Resume Configuration"
   ]
  },
  {
   "cell_type": "code",
   "execution_count": 6,
   "id": "6a1e8bcc-857a-4047-ac54-9070a6fb01d8",
   "metadata": {},
   "outputs": [],
   "source": [
    "resume_skills = pd.DataFrame([{\n",
    "    \"skill\":skill.name.lower(),\n",
    "    \"instances\":skill.get_num_instances()\n",
    "} for skill in my_resume.skills]).set_index(\"skill\")\n",
    "resume_skills['share of representation'] = resume_skills[\"instances\"] / resume_skills[\"instances\"].sum()"
   ]
  },
  {
   "cell_type": "code",
   "execution_count": 7,
   "id": "8ce3be7d-9501-45bc-ab6e-9a3364133388",
   "metadata": {},
   "outputs": [],
   "source": [
    "synonyms._refresh()\n",
    "skill_cat._refresh()"
   ]
  },
  {
   "cell_type": "code",
   "execution_count": 8,
   "id": "a354c1cc-a7b3-4436-874a-982fc1a60b4b",
   "metadata": {},
   "outputs": [
    {
     "data": {
      "text/html": [
       "<div>\n",
       "<style scoped>\n",
       "    .dataframe tbody tr th:only-of-type {\n",
       "        vertical-align: middle;\n",
       "    }\n",
       "\n",
       "    .dataframe tbody tr th {\n",
       "        vertical-align: top;\n",
       "    }\n",
       "\n",
       "    .dataframe thead th {\n",
       "        text-align: right;\n",
       "    }\n",
       "</style>\n",
       "<table border=\"1\" class=\"dataframe\">\n",
       "  <thead>\n",
       "    <tr style=\"text-align: right;\">\n",
       "      <th></th>\n",
       "      <th>instances</th>\n",
       "      <th>share of representation</th>\n",
       "      <th>non root</th>\n",
       "      <th>non category</th>\n",
       "    </tr>\n",
       "    <tr>\n",
       "      <th>skill</th>\n",
       "      <th></th>\n",
       "      <th></th>\n",
       "      <th></th>\n",
       "      <th></th>\n",
       "    </tr>\n",
       "  </thead>\n",
       "  <tbody>\n",
       "    <tr>\n",
       "      <th>react</th>\n",
       "      <td>1</td>\n",
       "      <td>0.003247</td>\n",
       "      <td>True</td>\n",
       "      <td>False</td>\n",
       "    </tr>\n",
       "    <tr>\n",
       "      <th>docker</th>\n",
       "      <td>1</td>\n",
       "      <td>0.003247</td>\n",
       "      <td>True</td>\n",
       "      <td>True</td>\n",
       "    </tr>\n",
       "  </tbody>\n",
       "</table>\n",
       "</div>"
      ],
      "text/plain": [
       "        instances  share of representation  non root  non category\n",
       "skill                                                             \n",
       "react           1                 0.003247      True         False\n",
       "docker          1                 0.003247      True          True"
      ]
     },
     "metadata": {},
     "output_type": "display_data"
    },
    {
     "data": {
      "text/plain": [
       "['oop',\n",
       " 'usability',\n",
       " 'azure databricks',\n",
       " 'spark',\n",
       " 'plotly',\n",
       " 'microsoft azure',\n",
       " 'jenkins',\n",
       " 'strategy',\n",
       " 'product management',\n",
       " 'product design',\n",
       " 'cancer']"
      ]
     },
     "execution_count": 8,
     "metadata": {},
     "output_type": "execute_result"
    }
   ],
   "source": [
    "resume_skills_comparisons = resume_skills.copy()\n",
    "resume_skills_comparisons[\"non root\"] = resume_skills_comparisons.index.isin(synonyms.non_root_synonyms)\n",
    "resume_skills_comparisons[\"non category\"] = ~resume_skills_comparisons.index.isin(skill_cat.skill_to_categories)\n",
    "display(resume_skills_comparisons.query(\"`non root` or `non category`\"))\n",
    "[skill for skill in skill_cat.skill_to_categories.keys() if skill not in resume_skills_comparisons.index]"
   ]
  },
  {
   "cell_type": "markdown",
   "id": "e0760f68-b383-44b8-a82f-d38cd47b0e3e",
   "metadata": {
    "tags": []
   },
   "source": [
    "# Pulling Job Data"
   ]
  },
  {
   "cell_type": "code",
   "execution_count": 9,
   "id": "8ad12e71-1163-4a7f-b976-79b4aa171e57",
   "metadata": {},
   "outputs": [],
   "source": [
    "jobs = get_jobs(bookmarked=False)\n",
    "raw_job_details = get_raw_job_details(jobs)\n",
    "job_descriptions = skill_weights.get_job_descriptions(raw_job_details)"
   ]
  },
  {
   "cell_type": "code",
   "execution_count": 10,
   "id": "fff06ce0-1eab-418a-bf43-64b45aea9f2c",
   "metadata": {},
   "outputs": [],
   "source": [
    "skill_cat._refresh()\n",
    "synonyms._refresh()\n",
    "job_skill_weights = skill_weights.get_job_skill_weights(raw_job_details, collapse_categories=False)"
   ]
  },
  {
   "cell_type": "code",
   "execution_count": 11,
   "id": "4cac3be4-c1b5-4cee-bb9a-535f620e3c99",
   "metadata": {},
   "outputs": [
    {
     "data": {
      "text/plain": [
       "share of job    101.0\n",
       "skill weight    101.0\n",
       "dtype: float64"
      ]
     },
     "execution_count": 11,
     "metadata": {},
     "output_type": "execute_result"
    }
   ],
   "source": [
    "job_skill_weights.sum()"
   ]
  },
  {
   "cell_type": "markdown",
   "id": "07e53ce4-2767-4a51-95de-e8f9acc9ca5c",
   "metadata": {
    "tags": []
   },
   "source": [
    "# Evaluation"
   ]
  },
  {
   "cell_type": "code",
   "execution_count": 12,
   "id": "1835ccde-96f6-4a0b-9149-59c36c229964",
   "metadata": {},
   "outputs": [],
   "source": [
    "# job_skill_weights.xs('Work Closely With', level='skill text')"
   ]
  },
  {
   "cell_type": "code",
   "execution_count": 13,
   "id": "3d8bb111-833e-4085-ba1a-beade50aea01",
   "metadata": {},
   "outputs": [],
   "source": [
    "job_skill_weights[\"share of total\"] = job_skill_weights[\"share of job\"] / job_skill_weights[\"share of job\"].sum()"
   ]
  },
  {
   "cell_type": "code",
   "execution_count": 14,
   "id": "c2eadd8f-9a11-4f2d-ab8c-ee8be64e53d0",
   "metadata": {},
   "outputs": [],
   "source": [
    "job_skill_weights = job_skill_weights.join((resume_skills[\"instances\"] / job_skill_weights.groupby(level=[\"id\", \"skill\"]).size()).rename('instances'))"
   ]
  },
  {
   "cell_type": "code",
   "execution_count": 15,
   "id": "13884d66-8350-4a5c-b510-e56ca8713603",
   "metadata": {},
   "outputs": [],
   "source": [
    "# job_skill_weights.xs(\"object-oriented programming\", level=\"skill\").sum()"
   ]
  },
  {
   "cell_type": "markdown",
   "id": "ea935004-dab0-4035-a3d6-486ce5b48c9b",
   "metadata": {
    "tags": []
   },
   "source": [
    "## Investigation & Review"
   ]
  },
  {
   "cell_type": "code",
   "execution_count": 16,
   "id": "9d8ab97a-06e3-41f6-bb9b-91d687cc7d56",
   "metadata": {},
   "outputs": [],
   "source": [
    "skill_shares = job_skill_weights[[\"share of total\"]]\\\n",
    "                    .groupby(level=\"skill\").sum()\\\n",
    "                    .join(resume_skills[[\"share of representation\"]], how='outer')\\\n",
    "                    .fillna(0)\n",
    "\n",
    "skill_shares[\"representation per weight\"] = skill_shares[\"share of representation\"] / skill_shares[\"share of total\"]"
   ]
  },
  {
   "cell_type": "code",
   "execution_count": 17,
   "id": "88fa3b18-7267-4d92-bcd8-627603f56bb8",
   "metadata": {},
   "outputs": [
    {
     "data": {
      "text/plain": [
       "share of total                0.000658\n",
       "share of representation       0.016234\n",
       "representation per weight    24.686729\n",
       "Name: technical communication, dtype: float64"
      ]
     },
     "execution_count": 17,
     "metadata": {},
     "output_type": "execute_result"
    }
   ],
   "source": [
    "skill_shares.loc[\"technical communication\", :]"
   ]
  },
  {
   "cell_type": "markdown",
   "id": "3476b846-cfb2-49d1-9560-dce78297eedb",
   "metadata": {
    "tags": []
   },
   "source": [
    "### Review against Job Descriptions"
   ]
  },
  {
   "cell_type": "code",
   "execution_count": 18,
   "id": "05d1b209-3036-49f2-8f34-8aa95730a2f3",
   "metadata": {
    "jupyter": {
     "source_hidden": true
    },
    "tags": []
   },
   "outputs": [],
   "source": [
    "def compare_listing_vs_generated_resume(\n",
    "        job_id:str, \n",
    "        skill_cost=None, \n",
    "        # density_threshold=None, \n",
    "        **external_resume_args\n",
    "    ):\n",
    "    # Step 0: Collect information\n",
    "    selected_job_description = job_descriptions.loc[job_id, \"job description\"]#.replace('\\n', '<br/>').replace('•', '- ')\n",
    "    selected_skill_weights = job_skill_weights.loc[job_id, :].drop(\"share of total\", axis=\"columns\")\n",
    "    # Step 1: Export information to HTML w/ styling\n",
    "    \n",
    "    # Step 1.1: Generate the fitted PDF, which selects a density threshold automatically\n",
    "    \n",
    "    resume_args = {\n",
    "        \"skill_text_weights\":selected_skill_weights.groupby(level=[\"skill\", \"skill text\"]).sum().groupby(level=0).apply(lambda df: df.xs(df.name).to_dict('index')).to_dict(), \n",
    "        \"should_render_all\":True,\n",
    "        \"skill_cost\":skill_cost,\n",
    "        # \"density_threshold\":density_threshold,\n",
    "        \"alt_template_prefixes\":{\"*\":\"pdf\"}\n",
    "    }\n",
    "    \n",
    "    resume_args.update(external_resume_args)\n",
    "    \n",
    "    # constructed_resume = my_resume.__repr_html__(**resume_args)\n",
    "    pdf_path_tail = \"test/comapare.pdf\"\n",
    "    fitted_resume_pdf_data = my_resume.export_fitted_pdf(\n",
    "        \"docs/\"+pdf_path_tail, \n",
    "        threadsafe=False,\n",
    "        **resume_args\n",
    "    )\n",
    "    \n",
    "    print(\"frpd:\", fitted_resume_pdf_data)\n",
    "    \n",
    "    # Step 1.2: Generate an HTML resume to interact with\n",
    "    html_docs_subpath=\"test/compare_resume.html\"\n",
    "    my_resume.write_html_to_file(\n",
    "        filepath=\"docs/\"+html_docs_subpath,\n",
    "        goal_small=fitted_resume_pdf_data[\"small\"],\n",
    "        density_threshold=fitted_resume_pdf_data[\"density_threshold\"],\n",
    "        should_render_all=True,\n",
    "        **{k:v for k,v in resume_args.items() if k not in {\"alt_template_prefixes\", \"should_render_all\"}}\n",
    "    )\n",
    "    \n",
    "    with open(\"docs/\"+html_docs_subpath, 'r') as compare_resume_f:\n",
    "        compare_resume = compare_resume_f.read()\n",
    "    density_threshold = fitted_resume_pdf_data[\"density_threshold\"]\n",
    "    # Step 1.2: Use the generated density_threshold to generate all the metadata\n",
    "    \n",
    "    \n",
    "    format_percent = lambda f: \"{:.2%}\".format(f) if f>0 else \"0.--%\"\n",
    "    \n",
    "    formatter_percent = {\n",
    "        \"skill weight\": format_percent,\n",
    "        \"share of job\": format_percent\n",
    "    }\n",
    "    \n",
    "    skill_text_data = selected_skill_weights.groupby(level=\"skill text\").sum()\n",
    "    \n",
    "    format_skill = lambda st: Skill(\n",
    "            synonym_base=\"UNK\",\n",
    "            name=st,\n",
    "            num_instances=None,\n",
    "            weight       =skill_text_data[\"skill weight\"].get(st, None),\n",
    "            share_of_job =skill_text_data[\"share of job\"].get(st, None),\n",
    "        ).__repr_html__(\n",
    "            should_render_all=True,\n",
    "            skill_cost=skill_cost,\n",
    "            density_threshold=density_threshold\n",
    "        )\n",
    "    \n",
    "    format_index_args = {\n",
    "        \"level\":\"skill text\",\n",
    "        \"formatter\":format_skill\n",
    "    }\n",
    "    \n",
    "    format_args = {\n",
    "        \"precision\":1,\n",
    "        \"na_rep\":\"-na-\",\n",
    "        \"formatter\":formatter_percent\n",
    "    }\n",
    "    \n",
    "    sort_args = {\n",
    "        \"by\":[\"share of job\",\"skill weight\"],\n",
    "        \"ascending\":[False, False]\n",
    "    }\n",
    "    \n",
    "    with pd.option_context('display.max_rows', None):\n",
    "        selected_skill_html = selected_skill_weights.sort_values(\n",
    "                by=[\n",
    "                    \"category\",\n",
    "                    \"share of job\",\n",
    "                    \"skill weight\"\n",
    "                ], \n",
    "                ascending=[\n",
    "                    True, \n",
    "                    False, \n",
    "                    False\n",
    "                ]\n",
    "            ).style.format_index(\n",
    "                **format_index_args\n",
    "            ).format(\n",
    "                **format_args\n",
    "            ).background_gradient().to_html()\n",
    "        \n",
    "        selected_skill_sort_html = selected_skill_weights.groupby(\n",
    "                level=\"skill text\", dropna=False\n",
    "            ).sum(min_count=1).sort_values(\n",
    "                **sort_args\n",
    "            ).style.format_index(\n",
    "                **format_index_args\n",
    "            ).format(\n",
    "                **format_args\n",
    "            ).background_gradient().to_html()\n",
    "        \n",
    "        selected_cat_sort_html = selected_skill_weights.groupby(\n",
    "                level=\"category\", dropna=False\n",
    "            ).sum(min_count=1).sort_values(\n",
    "                **sort_args\n",
    "            ).style.format(\n",
    "                **format_args\n",
    "            ).background_gradient().to_html()\n",
    "    \n",
    "    \n",
    "\n",
    "    \n",
    "    # Step 2: Construct HTML we like\n",
    "    \n",
    "    constructed_comparison=f\"\"\"\n",
    "    <head>\n",
    "        <meta http-equiv=\"Content-Type\" content=\"text/html; charset=UTF-8\" />\n",
    "        <link rel='stylesheet' href='/utilities/comparison.css'/>\n",
    "        <link rel='stylesheet' href='/utilities/layout.css'/>\n",
    "        <link rel='stylesheet' href='/utilities/skill_highlight.css'/>\n",
    "        <link rel=\"stylesheet\" href=\"/styles/lighttheme.css\"/>\n",
    "        <script src='/utilities/comparison.js' defer></script>\n",
    "        <!--<script src='/utilities/skill_highlights.js' defer></script>-->\n",
    "    </head>\n",
    "    <body>\n",
    "        <div style=\"display:flex; height:100%;\">\n",
    "            <div id=\"description\" class=\"content\">{selected_job_description}</div>\n",
    "            <!--<div id=\"skill_texts\" class=\"content shrink\">{selected_skill_html}</div>-->\n",
    "            <div id=\"sorted\" class=\"content shrink\" style=\"display:flex; flex-direction:column; height:100%;\">\n",
    "                <div id=\"skill_sorted\" class=\"skill_sort\">{selected_skill_sort_html}</div>\n",
    "                <div id=\"cat_sorted\" class=\"cat_sort\">{selected_cat_sort_html}</div>\n",
    "            </div>\n",
    "            <div id=\"resume_html_div\" class=\"content grow\">{compare_resume}</div>\n",
    "            <div id=\"resume_pdf_div\" class=\"content grow\"><iframe src=\"/{pdf_path_tail}\" width=\"99%\" height=\"99%\"</div>\n",
    "        </div>\n",
    "    </body>\n",
    "    \"\"\"\n",
    "    \n",
    "    with open(\"docs/test/compare.html\", 'w+') as compare_f:\n",
    "        compare_f.write(constructed_comparison)"
   ]
  },
  {
   "cell_type": "code",
   "execution_count": 19,
   "id": "23332483-5577-41fa-b541-3e93e49b82a7",
   "metadata": {
    "tags": []
   },
   "outputs": [
    {
     "name": "stdout",
     "output_type": "stream",
     "text": [
      "Must traverse configuration space.\n",
      "frpd: {'small': True, 'density_threshold': 0.024051757812499998, 'name': 'docs/test/comapare.pdf', 'pages': 1}\n"
     ]
    }
   ],
   "source": [
    "job_id=jobs.index[38]\n",
    "compare_listing_vs_generated_resume(\n",
    "    job_id, \n",
    "    should_render_all=False, \n",
    "    highest_threshold=0.05,\n",
    "    # lowest_threshold=0.023,\n",
    "    lowest_threshold =-1e-3,\n",
    "    # max_iters=3,\n",
    "    \n",
    "    skill_cost=0.1, \n",
    "    should_render_all_skills=True,\n",
    "    # skills_render_by_weight=True,\n",
    "    alt_template_prefixes={\"*\":\"pdf\"}\n",
    ")"
   ]
  },
  {
   "cell_type": "code",
   "execution_count": 20,
   "id": "3fc7a710-39f4-4c51-a60f-4ef20b4db689",
   "metadata": {},
   "outputs": [
    {
     "ename": "AssertionError",
     "evalue": "",
     "output_type": "error",
     "traceback": [
      "\u001b[0;31m---------------------------------------------------------------------------\u001b[0m",
      "\u001b[0;31mAssertionError\u001b[0m                            Traceback (most recent call last)",
      "Input \u001b[0;32mIn [20]\u001b[0m, in \u001b[0;36m<cell line: 1>\u001b[0;34m()\u001b[0m\n\u001b[0;32m----> 1\u001b[0m \u001b[38;5;28;01massert\u001b[39;00m \u001b[38;5;28;01mFalse\u001b[39;00m\n",
      "\u001b[0;31mAssertionError\u001b[0m: "
     ]
    }
   ],
   "source": [
    "assert False"
   ]
  },
  {
   "cell_type": "code",
   "execution_count": null,
   "id": "0a0c095f-89bf-477c-ade0-6d2037efb7ad",
   "metadata": {},
   "outputs": [],
   "source": [
    "# test = my_resume.employment[0].sub_tasks[0].achievements[1]\n",
    "# test_weights = job_skill_weights.loc[job_id, :].drop(\"share of total\", axis=\"columns\").groupby(level=[\"skill\", \"skill text\"]).sum().groupby(level=0).apply(lambda df: df.xs(df.name).to_dict('index')).to_dict()\n",
    "\n",
    "# test.get_cost(\n",
    "#     skill_cost=1,\n",
    "#     skill_text_weights=test_weights,\n",
    "#     should_render_all_skills=True,\n",
    "#     density_threshold=0.00543\n",
    "# )"
   ]
  },
  {
   "cell_type": "code",
   "execution_count": null,
   "id": "227622ab-6c06-4266-82eb-06cf486b898c",
   "metadata": {},
   "outputs": [],
   "source": [
    "# kwargs = {\n",
    "#     \"skill_cost\":1,\n",
    "#     \"skill_text_weights\":test_weights,\n",
    "#     \"should_render_all_skills\":True,\n",
    "#     \"density_threshold\":0.00543\n",
    "# }\n",
    "\n",
    "# for s in test._get_conditional_children(**kwargs):\n",
    "#     print(s.get_weight(**kwargs))\n",
    "#     print(s.get_cost(**kwargs))\n",
    "#     # print(s._should_render(**kwargs))\n",
    "#     # print(s.get_cost(**kwargs))\n",
    "#     print()"
   ]
  },
  {
   "cell_type": "code",
   "execution_count": null,
   "id": "344a9bfa-f7d5-46a9-b3c7-cc78398417b1",
   "metadata": {},
   "outputs": [],
   "source": [
    "# my_resume.write_html_to_file(\n",
    "#     stylesheet=\"darktheme\",\n",
    "#     filepath=\"docs/test.html\",\n",
    "#     should_render_all=True\n",
    "# )"
   ]
  },
  {
   "cell_type": "code",
   "execution_count": null,
   "id": "7e72233d-f817-4633-aaa5-2d97ea2473cf",
   "metadata": {},
   "outputs": [],
   "source": [
    "# for job_id, skill_text_shares in job_skill_weights.groupby(level=[\"id\", \"skill\", \"skill text\"]).sum().groupby(level=\"id\"):\n",
    "#     skill_text_shares = skill_text_shares.droplevel(\"id\")\n",
    "    \n",
    "#     print(job_id)\n",
    "    \n",
    "#     display(HTML(job_descriptions.loc[job_id, \"job description\"]))\n",
    "#     display(skill_text_shares.query(\"`skill weight` > 0\").sort_values(by=\"skill weight\", ascending=False).head(60))\n",
    "#     display(skill_text_shares.query(\"`skill weight` == 0\").sort_values(by=\"skill weight\", ascending=False).head(60))\n",
    "    \n",
    "#     my_resume.write_html_to_file(\n",
    "#         filepath=\"docs/test.html\",\n",
    "#         skill_text_shares=skill_text_shares[\"skill weight\"],\n",
    "#         alt_template_prefixes={\"*\":\"pdf\"}\n",
    "#     )\n",
    "#     break"
   ]
  },
  {
   "cell_type": "markdown",
   "id": "df0b6cec-9c66-49ac-ad25-15f812b55c04",
   "metadata": {
    "tags": []
   },
   "source": [
    "### Investigating Resume Efficiency"
   ]
  },
  {
   "cell_type": "markdown",
   "id": "171def01-002c-4d45-bf9d-32b96bb410a4",
   "metadata": {},
   "source": [
    "This section seems to be revealing significant limitations in the data I'm pulling from teal. Skills like 'C++' and 'Bash' appear to not be present in any job listing.  \n",
    "  \n",
    "To handle this, I'm creating a `set` of skills that I'm excluding from analysis."
   ]
  },
  {
   "cell_type": "code",
   "execution_count": null,
   "id": "5abb8c62-c298-4c2c-8922-21142ed82643",
   "metadata": {},
   "outputs": [],
   "source": [
    "manually_excluded_skills = {\n",
    "    'c++',\n",
    "    'bash',\n",
    "    'javafx',\n",
    "    'jdbc',\n",
    "    'apache tinkerpop',\n",
    "    'experience',\n",
    "    'ecs',\n",
    "    'react',\n",
    "    'pandas',\n",
    "    'oop'\n",
    "}"
   ]
  },
  {
   "cell_type": "code",
   "execution_count": null,
   "id": "6d262bc1-dcbf-4dc7-ad0b-ec258b9ee3c4",
   "metadata": {},
   "outputs": [],
   "source": [
    "ex_skill_shares = skill_shares.loc[~skill_shares.index.isin(manually_excluded_skills), :].sort_values(\"representation per weight\", ascending=False)"
   ]
  },
  {
   "cell_type": "code",
   "execution_count": null,
   "id": "101e7a2b-fe43-4fc6-9eef-541a408a0de6",
   "metadata": {},
   "outputs": [],
   "source": [
    "ex_skill_shares[\"share of total\"].corr(ex_skill_shares[\"share of representation\"])"
   ]
  },
  {
   "cell_type": "code",
   "execution_count": null,
   "id": "17e2898d-df03-4c24-9226-72146d9611ec",
   "metadata": {},
   "outputs": [],
   "source": [
    "ex_skill_shares.plot.scatter(x='share of total', y='share of representation')"
   ]
  },
  {
   "cell_type": "code",
   "execution_count": null,
   "id": "405a1142-fcb4-49c3-ae98-6f35f7565b3a",
   "metadata": {},
   "outputs": [],
   "source": [
    "ex_skill_shares.head(60)"
   ]
  },
  {
   "cell_type": "markdown",
   "id": "fc1a5152-8ef2-4c43-b7d4-716a1faec597",
   "metadata": {
    "jp-MarkdownHeadingCollapsed": true,
    "tags": []
   },
   "source": [
    "### Investingating Missing Skills"
   ]
  },
  {
   "cell_type": "code",
   "execution_count": null,
   "id": "a3e499ea-6505-45a9-a8bc-580fa5c2ac6b",
   "metadata": {},
   "outputs": [],
   "source": [
    "# # Skills which are **not** in my resume (*forehead*)\n",
    "# missing_job_skill_shares_of_total = job_skill_shares_of_total[~job_skill_shares_of_total.index.get_level_values(2).isin(resume_skills.index)]\n",
    "\n",
    "# print(\"missing skills                         share of total:\", f\"\"\"{missing_job_skill_shares_of_total.sum().values[0]*100:.1f}%\"\"\")\n",
    "# print(\"missing skills (non-emphasis)          share of total:\", f\"\"\"{missing_job_skill_shares_of_total.query(\"`teal category` != 'emphasis'\").sum().values[0]*100:.1f}%\"\"\")\n",
    "# print(\"missing skills                @ > 0.1% share of total:\", f\"\"\"{missing_job_skill_shares_of_total.groupby(level=\"skill\").sum().query(\"`share of total` > 0.001\").sum().values[0]*100:.1f}%\"\"\")\n",
    "# print(\"missing skills (non-emphasis) @ > 0.1% share of total:\", f\"\"\"{missing_job_skill_shares_of_total.query(\"`teal category` != 'emphasis'\").groupby(level=\"skill\").sum().query(\"`share of total` > 0.001\").sum().values[0]*100:.1f}%\"\"\")"
   ]
  },
  {
   "cell_type": "code",
   "execution_count": null,
   "id": "885eaa66-aae6-48bb-a841-d041149d45fe",
   "metadata": {
    "tags": []
   },
   "outputs": [],
   "source": [
    "# missing_job_skill_shares_of_total.query(\"`teal category` != 'emphasis'\").groupby(level=\"skill\").sum().sort_values(\"share of total\", ascending=False).head(30)"
   ]
  },
  {
   "cell_type": "code",
   "execution_count": null,
   "id": "0909b5ec-6163-420c-8cae-fa0213de1b4f",
   "metadata": {},
   "outputs": [],
   "source": []
  },
  {
   "cell_type": "markdown",
   "id": "d8db41f1-7ae2-4e53-a0a1-6917398d7f6c",
   "metadata": {},
   "source": [
    "# Generation"
   ]
  },
  {
   "cell_type": "code",
   "execution_count": null,
   "id": "f42ac261-bcb3-4905-8264-ce9b7d846594",
   "metadata": {},
   "outputs": [],
   "source": [
    "# bias_skills = skill_weights.get_job_skill_weights({\"LIB\":{\"attributes\":{\"skills\":{\"tealPhrases\":{\"NO-SKILL\":{\"original\":'NO-SKILL', \"positions\":[], 'category':'NO-SKILL'}}}}}})"
   ]
  },
  {
   "cell_type": "code",
   "execution_count": null,
   "id": "1315cc88-c748-4b3a-996f-81e2f6e338f2",
   "metadata": {},
   "outputs": [],
   "source": [
    "# bias_skills[\"skill weight\"] = bias_skills[\"skill weight\"] / bias_skills[\"skill weight\"].sum()"
   ]
  },
  {
   "cell_type": "code",
   "execution_count": null,
   "id": "4ddf1ab7-a75a-494a-824c-8efafdecd20a",
   "metadata": {},
   "outputs": [],
   "source": [
    "# bias_skills_dict = bias_skills.loc[\"LIB\", :].groupby(level=[\"skill\", \"skill text\"]).sum().groupby(level=0).apply(lambda df: df.xs(df.name).to_dict('index')).to_dict()"
   ]
  },
  {
   "cell_type": "code",
   "execution_count": null,
   "id": "77f88dd5-fdb8-4540-bd8a-78906bd86cf0",
   "metadata": {},
   "outputs": [],
   "source": [
    "# my_resume.write_html_to_file(\n",
    "#     filepath=\"docs/test/bias.html\",\n",
    "#     skill_text_weights=bias_skills_dict,\n",
    "#     alt_template_prefixes={\"*\":\"pdf\"},\n",
    "#     density_threshold=0.05\n",
    "#     # should_render_all=True\n",
    "# )"
   ]
  },
  {
   "cell_type": "code",
   "execution_count": null,
   "id": "48f8ed5e-a5e6-4beb-b227-41b2d7cdf410",
   "metadata": {},
   "outputs": [],
   "source": [
    "# global_skill_text_weights = (job_skill_weights.groupby(level=[\"id\", \"skill\", \"skill text\"]).sum().groupby(level=[\"skill\", \"skill text\"]).sum() / len(jobs)).groupby(level=0).apply(lambda df: df.xs(df.name).to_dict('index')).to_dict()"
   ]
  },
  {
   "cell_type": "code",
   "execution_count": null,
   "id": "72678325-5209-45d7-88d0-7b432ce81ea6",
   "metadata": {},
   "outputs": [],
   "source": [
    "# test_args = {\n",
    "#     \"should_render_all\":False,\n",
    "#     \"density_threshold\":0.024,\n",
    "#     \"skill_cost\":0\n",
    "# }"
   ]
  },
  {
   "cell_type": "code",
   "execution_count": null,
   "id": "182c4e1e-2ab1-4833-bd6b-faef792de8bd",
   "metadata": {},
   "outputs": [],
   "source": [
    "# my_resume.write_html_to_file(\n",
    "#     filepath=\"docs/test/all.html\",\n",
    "#     alt_template_prefixes={\"*\":\"pdf\"},\n",
    "#     skill_text_weights=global_skill_text_weights,\n",
    "#     **test_args\n",
    "# )"
   ]
  },
  {
   "cell_type": "code",
   "execution_count": null,
   "id": "76a6a748-e89e-4eea-b56c-289d3561e03b",
   "metadata": {},
   "outputs": [],
   "source": [
    "# my_resume.get_contained_cost(\n",
    "#     skill_text_weights=global_skill_text_weights,\n",
    "#     **test_args\n",
    "# )"
   ]
  },
  {
   "cell_type": "markdown",
   "id": "e5a672d6-192a-41bd-9292-d62dbd456160",
   "metadata": {},
   "source": [
    "thresh,cost,p,e\n",
    "0.0000,75.0,2,0\n",
    "0.0100,58.0,2,2\n",
    "0.0200,46.0,2,1\n",
    "0.0230,37.0,2,3\n",
    "0.0250,36.0,1,0\n",
    "0.0300,36.0,1,0\n"
   ]
  },
  {
   "cell_type": "code",
   "execution_count": null,
   "id": "37ab4179-28b7-40fe-994e-fd1d033db9d1",
   "metadata": {},
   "outputs": [],
   "source": [
    "# my_resume.write_html_to_file(\n",
    "#     stylesheet='chalkboard',\n",
    "#     filepath=\"docs/test/web.html\",\n",
    "#     should_render_all=True\n",
    "# )"
   ]
  },
  {
   "cell_type": "code",
   "execution_count": null,
   "id": "d5a25664-3b45-4d7d-9587-1e3ca8bd50fd",
   "metadata": {},
   "outputs": [],
   "source": [
    "# assert input(\"Ready to generate? Type 'OK'\") == \"OK\""
   ]
  }
 ],
 "metadata": {
  "kernelspec": {
   "display_name": "Python 3 (ipykernel)",
   "language": "python",
   "name": "python3"
  },
  "language_info": {
   "codemirror_mode": {
    "name": "ipython",
    "version": 3
   },
   "file_extension": ".py",
   "mimetype": "text/x-python",
   "name": "python",
   "nbconvert_exporter": "python",
   "pygments_lexer": "ipython3",
   "version": "3.10.6"
  }
 },
 "nbformat": 4,
 "nbformat_minor": 5
}

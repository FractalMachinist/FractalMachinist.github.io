{
 "cells": [
  {
   "cell_type": "code",
   "execution_count": 1,
   "id": "11571a77-e947-4d32-a5e2-09075a9f4f5b",
   "metadata": {},
   "outputs": [],
   "source": [
    "from resume import my_resume"
   ]
  },
  {
   "cell_type": "code",
   "execution_count": 2,
   "id": "b7082708-afde-4c1b-a454-0c0330746b9d",
   "metadata": {},
   "outputs": [],
   "source": [
    "from IPython.display import display, HTML, Markdown, clear_output, FileLink\n",
    "from jobs_skills_weights import get_jobs, get_raw_job_details\n",
    "import skill_weights\n",
    "import os, shutil, re\n",
    "from mark_status import mark_status\n",
    "import requests\n",
    "\n",
    "import nest_asyncio\n",
    "nest_asyncio.apply()\n",
    "\n",
    "import asyncio\n",
    "from pyppeteer import launch\n",
    "from threading import Thread\n",
    "from queue import Queue as ThreadsafeQueue"
   ]
  },
  {
   "cell_type": "markdown",
   "id": "e0760f68-b383-44b8-a82f-d38cd47b0e3e",
   "metadata": {
    "tags": []
   },
   "source": [
    "# Pulling Job Data"
   ]
  },
  {
   "cell_type": "code",
   "execution_count": 3,
   "id": "7c26e7bd-1be2-4545-bd2b-9d2a9f0e380e",
   "metadata": {},
   "outputs": [],
   "source": [
    "jobs = get_jobs()\n",
    "raw_job_details = get_raw_job_details(jobs)\n",
    "# job_descriptions = skill_weights.get_job_descriptions(raw_job_details)\n",
    "job_skill_weights = skill_weights.get_job_skill_weights(raw_job_details)"
   ]
  },
  {
   "cell_type": "markdown",
   "id": "d8db41f1-7ae2-4e53-a0a1-6917398d7f6c",
   "metadata": {
    "tags": []
   },
   "source": [
    "# Generation"
   ]
  },
  {
   "cell_type": "code",
   "execution_count": 4,
   "id": "41295e00-0159-4c11-b771-bd110618d1b2",
   "metadata": {},
   "outputs": [],
   "source": [
    "skill_text_weights_con = lambda weights, job_id: weights.loc[job_id, :].groupby(level=0).apply(lambda df: df.xs(df.name).to_dict('index')).to_dict()"
   ]
  },
  {
   "cell_type": "code",
   "execution_count": 5,
   "id": "a88f08de-accb-4da2-95f0-6c6610325a03",
   "metadata": {},
   "outputs": [],
   "source": [
    "pdf_upload_path = \"docs/pdf_sources/upload/Zach_Allen_Resume.pdf\"\n",
    "os.makedirs(\"docs/pdf_sources/upload\", exist_ok=True)"
   ]
  },
  {
   "cell_type": "code",
   "execution_count": 6,
   "id": "a86eff74-89b6-4476-acc5-2432dbb6d6ff",
   "metadata": {},
   "outputs": [],
   "source": [
    "# global_skill_text_weights = job_skill_weights.groupby(level=[\"id\", \"skill\", \"skill text\"]\n",
    "#         ).sum().groupby(level=[\"skill\", \"skill text\"]\n",
    "#         ).sum().divide(len(jobs)).groupby(level=0\n",
    "#         ).apply(lambda df: df.xs(df.name).to_dict('index')).to_dict()"
   ]
  },
  {
   "cell_type": "code",
   "execution_count": 7,
   "id": "0bcc504b-543e-46da-9713-0bb2f185971a",
   "metadata": {},
   "outputs": [],
   "source": [
    "async def export_resume(job_id, **kwargs):\n",
    "    os.makedirs(f\"docs/pdf_sources/{job_id}\", exist_ok=True)\n",
    "    pdf_fpath = f\"docs/pdf_sources/{job_id}/Zach_Allen_Resume.pdf\"\n",
    "    \n",
    "    pdf_export_data = await my_resume.export_fitted_pdf(\n",
    "        pdf_fpath,\n",
    "        \n",
    "        highest_threshold=0.05,\n",
    "        lowest_threshold=-1e-3,\n",
    "        skill_cost=0.1,\n",
    "        should_render_all_skills=True,\n",
    "        max_iters=1,##############################\n",
    "        \n",
    "        stylesheet='lighttheme',\n",
    "        alt_template_prefixes={'*':'pdf'},\n",
    "        skill_text_weights = skill_text_weights_con(job_skill_weights, job_id),\n",
    "        trim_skill_html_data=True,\n",
    "        **kwargs\n",
    "    )"
   ]
  },
  {
   "cell_type": "code",
   "execution_count": 8,
   "id": "0a0de2aa-eac5-4534-b914-b7618d25d12b",
   "metadata": {},
   "outputs": [],
   "source": [
    "async def queue_for_page_export_job(page_q, apply_q, job_id):\n",
    "    page = await page_q.get()\n",
    "    await export_resume(job_id, pyppeteer_page = page)\n",
    "    await page_q.put(page)\n",
    "    page_q.task_done()\n",
    "    print(f\"{job_id}: Exported resume; enqueueing job for application.\")\n",
    "    apply_q.put(job_id)"
   ]
  },
  {
   "cell_type": "code",
   "execution_count": 9,
   "id": "a7dea252-6673-4737-a04b-379ba6b89153",
   "metadata": {},
   "outputs": [],
   "source": [
    "def start_background_loop(loop) -> None:\n",
    "    asyncio.set_event_loop(loop)\n",
    "    loop.run_forever()"
   ]
  },
  {
   "cell_type": "code",
   "execution_count": 10,
   "id": "b7351e91-e188-4876-b078-2600f69d0910",
   "metadata": {},
   "outputs": [],
   "source": [
    "async def construct_resumes(jobs, applyQueue, max_parallel=3):\n",
    "    print(\"Launching Browser\")\n",
    "    browser = await launch(\n",
    "        options={\n",
    "            'headless': True,\n",
    "            'args': [\n",
    "                '--no-sandbox',\n",
    "                '--run-all-compositor-stages-before-draw',\n",
    "                '--webkit-print-color-adjust-property',\n",
    "                '--disable-setuid-sandbox',\n",
    "                '--disable-dev-shm-usage',\n",
    "                '--disable-accelerated-2d-canvas',\n",
    "                '--no-first-run',\n",
    "                '--no-zygote',\n",
    "                '--single-process',\n",
    "                '--disable-gpu',\n",
    "            ],\n",
    "        },\n",
    "        handleSIGINT=False,\n",
    "        handleSIGTERM=False,\n",
    "        handleSIGHUP=False\n",
    "    )\n",
    "    \n",
    "    try:\n",
    "        print(\"Starting page queue\")\n",
    "        pageQueue = asyncio.Queue(maxsize=max_parallel)\n",
    "        print(\"Constructing page queue\")\n",
    "        for i in range(max_parallel):\n",
    "            await pageQueue.put(await browser.newPage())\n",
    "\n",
    "        print(\"Queueing for page export\")\n",
    "        export_tasks = []\n",
    "        for job_id, job_data in jobs.sort_index().iterrows():\n",
    "            export_tasks.append(\n",
    "                asyncio.create_task(\n",
    "                    queue_for_page_export_job(pageQueue, applyQueue, job_id)\n",
    "                )\n",
    "            )\n",
    "\n",
    "    finally:\n",
    "        await asyncio.gather(*export_tasks)\n",
    "\n",
    "        print(f\"pageQueue ended with {pageQueue.qsize()}             pages.\")\n",
    "        for i in range(max_parallel):\n",
    "            await pageQueue.get()\n",
    "            pageQueue.task_done() # We have to count all the elements of the queue in and out\n",
    "        print(f\"pageQueue ended with {pageQueue.qsize()} unaccounted pages.\")\n",
    "        for i in range(pageQueue.qsize()):\n",
    "            await pageQueue.get()\n",
    "            pageQueue.task_done()\n",
    "        await pageQueue.join()\n",
    "        \n",
    "        await browser.close()"
   ]
  },
  {
   "cell_type": "code",
   "execution_count": 11,
   "id": "f1dadb05-3f63-4eaf-8a21-0429ba5e9faa",
   "metadata": {},
   "outputs": [
    {
     "name": "stdout",
     "output_type": "stream",
     "text": [
      "Started Threadsafe\n",
      "Launching Browser\n"
     ]
    }
   ],
   "source": [
    "applyQueue = ThreadsafeQueue()\n",
    "loop = asyncio.new_event_loop()\n",
    "t = Thread(target=start_background_loop, args=(loop,), daemon=True)\n",
    "t.start()\n",
    "\n",
    "export_task = asyncio.run_coroutine_threadsafe(construct_resumes(jobs, applyQueue), loop)\n",
    "print(\"Started Threadsafe\")\n",
    "export_task.add_done_callback(lambda x: print(\"Export task is Done\"))"
   ]
  },
  {
   "cell_type": "code",
   "execution_count": 12,
   "id": "4da16d20-bed9-43d9-93c8-a76cfa0a714d",
   "metadata": {},
   "outputs": [
    {
     "name": "stdout",
     "output_type": "stream",
     "text": [
      "5150e149-c79c-43d3-92b4-a04fc0102780\n",
      "INRIX\n"
     ]
    },
    {
     "data": {
      "text/html": [
       "<a href='https://www.linkedin.com/jobs/search/?currentJobId=3305778121&f_E=2%2C3&f_JT=F&f_TPR=r86400&f_WT=3%2C2&geoId=100506914&keywords=data%20engineer%20-senior%20-spotify%20-glovo&location=Europe&refresh=true&start=25'>job</a>"
      ],
      "text/plain": [
       "<IPython.core.display.HTML object>"
      ]
     },
     "metadata": {},
     "output_type": "display_data"
    },
    {
     "name": "stdout",
     "output_type": "stream",
     "text": [
      "47ac287c-6d04-48a8-880d-7bd2fb65f79f: Exported resume; enqueueing job for application.\n",
      "4c73950e-c311-4e91-acec-f9a8df9dc71f: Exported resume; enqueueing job for application.\n",
      "575ebbbe-9dcc-4e67-afb5-3f55418c3bb4: Exported resume; enqueueing job for application.\n",
      "53e4e72d-e847-4512-aadc-74cb068874a9: Exported resume; enqueueing job for application.\n",
      "529c5294-4f9c-4893-a38c-cc1f02524973: Exported resume; enqueueing job for application.\n",
      "60cc30ac-5ef2-4c53-a5db-340ab9c713c7: Exported resume; enqueueing job for application.\n",
      "5f39653f-69d9-4045-aac9-152b63a54356: Exported resume; enqueueing job for application.\n",
      "582e7b45-241c-48c2-afa4-f269add19ff9: Exported resume; enqueueing job for application.\n",
      "7a62be2b-9b6f-4bed-b772-683ea8d5c39d: Exported resume; enqueueing job for application.\n",
      "685d51ae-39d0-4673-8727-b6f582d639a6: Exported resume; enqueueing job for application.\n",
      "648ee1af-51e1-4a40-a010-5038e4e81881: Exported resume; enqueueing job for application.\n",
      "822d9506-4cb1-4dbb-ae1e-01aa46c97388: Exported resume; enqueueing job for application.\n",
      "8015b8a1-ec12-4e77-a017-abdc0aaff640: Exported resume; enqueueing job for application.\n",
      "7e336fe3-dfe8-40f7-ae50-46d29224804e: Exported resume; enqueueing job for application.\n",
      "93cefcf3-3637-4209-a95a-6f99f2fad711: Exported resume; enqueueing job for application.\n",
      "9301b586-cbea-4dd3-8cfa-f5e779d50187: Exported resume; enqueueing job for application.\n",
      "8953f570-c924-46e2-8e89-ab4c050cb05d: Exported resume; enqueueing job for application.\n",
      "b55483c0-7214-4223-83a5-be9a976b42ca: Exported resume; enqueueing job for application.\n",
      "98881505-0beb-43cb-aeaf-1976f5862926: Exported resume; enqueueing job for application.\n",
      "95fcd4c0-891a-4eea-ab50-2acd7d06864f: Exported resume; enqueueing job for application.\n",
      "c2c1736f-7408-4cb8-861a-66aa44a1a525: Exported resume; enqueueing job for application.\n",
      "c253212f-3870-4273-bea8-7d14a6b2f16d: Exported resume; enqueueing job for application.\n",
      "b949db1c-d7ad-4dd6-b6c7-72d06445dcba: Exported resume; enqueueing job for application.\n",
      "ddc27ac5-3f7c-47a8-8b18-fd5ed49df358: Exported resume; enqueueing job for application.\n",
      "d1f69da0-5bee-4298-91cb-d3aee6f4d809: Exported resume; enqueueing job for application.\n",
      "d0512eb1-48ff-452e-a8ad-fe9dc57b56da: Exported resume; enqueueing job for application.\n",
      "f1ffab41-e4dc-46a6-a848-2b6428b15f0b: Exported resume; enqueueing job for application.\n",
      "e9c09351-d3df-4356-9923-ec17c2819f07: Exported resume; enqueueing job for application.\n",
      "e091a457-8b14-4e42-83db-eeca49bff266: Exported resume; enqueueing job for application.\n",
      "fa6f43ed-cfb0-4f8d-b5ae-5e395c5c2166: Exported resume; enqueueing job for application.\n",
      "f83e9764-1b72-4e36-9251-dee30066cf39: Exported resume; enqueueing job for application.\n",
      "f76f4936-0ba2-4553-a7d5-74da905d0453: Exported resume; enqueueing job for application.\n",
      "fa87f0ae-42fa-4912-aab7-120a0ee6d666: Exported resume; enqueueing job for application.\n",
      "pageQueue ended with 3             pages.\n",
      "pageQueue ended with 0 unaccounted pages.\n"
     ]
    },
    {
     "ename": "KeyboardInterrupt",
     "evalue": "Interrupted by user",
     "output_type": "error",
     "traceback": [
      "\u001b[0;31m---------------------------------------------------------------------------\u001b[0m",
      "\u001b[0;31mKeyboardInterrupt\u001b[0m                         Traceback (most recent call last)",
      "Input \u001b[0;32mIn [12]\u001b[0m, in \u001b[0;36m<cell line: 3>\u001b[0;34m()\u001b[0m\n\u001b[1;32m     19\u001b[0m     \u001b[38;5;28;01mpass\u001b[39;00m\n\u001b[1;32m     21\u001b[0m \u001b[38;5;66;03m# Wait for feedback on submission status\u001b[39;00m\n\u001b[0;32m---> 22\u001b[0m status \u001b[38;5;241m=\u001b[39m \u001b[38;5;28;43minput\u001b[39;49m\u001b[43m(\u001b[49m\u001b[38;5;124;43m\"\u001b[39;49m\u001b[38;5;124;43mStatus:\u001b[39;49m\u001b[38;5;124;43m\"\u001b[39;49m\u001b[43m)\u001b[49m\n\u001b[1;32m     23\u001b[0m \u001b[38;5;28;01mif\u001b[39;00m status \u001b[38;5;241m==\u001b[39m \u001b[38;5;124m\"\u001b[39m\u001b[38;5;124mskip\u001b[39m\u001b[38;5;124m\"\u001b[39m:\n\u001b[1;32m     24\u001b[0m     \u001b[38;5;28;01mcontinue\u001b[39;00m;\n",
      "File \u001b[0;32m/opt/conda/lib/python3.10/site-packages/ipykernel/kernelbase.py:1177\u001b[0m, in \u001b[0;36mKernel.raw_input\u001b[0;34m(self, prompt)\u001b[0m\n\u001b[1;32m   1173\u001b[0m \u001b[38;5;28;01mif\u001b[39;00m \u001b[38;5;129;01mnot\u001b[39;00m \u001b[38;5;28mself\u001b[39m\u001b[38;5;241m.\u001b[39m_allow_stdin:\n\u001b[1;32m   1174\u001b[0m     \u001b[38;5;28;01mraise\u001b[39;00m StdinNotImplementedError(\n\u001b[1;32m   1175\u001b[0m         \u001b[38;5;124m\"\u001b[39m\u001b[38;5;124mraw_input was called, but this frontend does not support input requests.\u001b[39m\u001b[38;5;124m\"\u001b[39m\n\u001b[1;32m   1176\u001b[0m     )\n\u001b[0;32m-> 1177\u001b[0m \u001b[38;5;28;01mreturn\u001b[39;00m \u001b[38;5;28;43mself\u001b[39;49m\u001b[38;5;241;43m.\u001b[39;49m\u001b[43m_input_request\u001b[49m\u001b[43m(\u001b[49m\n\u001b[1;32m   1178\u001b[0m \u001b[43m    \u001b[49m\u001b[38;5;28;43mstr\u001b[39;49m\u001b[43m(\u001b[49m\u001b[43mprompt\u001b[49m\u001b[43m)\u001b[49m\u001b[43m,\u001b[49m\n\u001b[1;32m   1179\u001b[0m \u001b[43m    \u001b[49m\u001b[38;5;28;43mself\u001b[39;49m\u001b[38;5;241;43m.\u001b[39;49m\u001b[43m_parent_ident\u001b[49m\u001b[43m[\u001b[49m\u001b[38;5;124;43m\"\u001b[39;49m\u001b[38;5;124;43mshell\u001b[39;49m\u001b[38;5;124;43m\"\u001b[39;49m\u001b[43m]\u001b[49m\u001b[43m,\u001b[49m\n\u001b[1;32m   1180\u001b[0m \u001b[43m    \u001b[49m\u001b[38;5;28;43mself\u001b[39;49m\u001b[38;5;241;43m.\u001b[39;49m\u001b[43mget_parent\u001b[49m\u001b[43m(\u001b[49m\u001b[38;5;124;43m\"\u001b[39;49m\u001b[38;5;124;43mshell\u001b[39;49m\u001b[38;5;124;43m\"\u001b[39;49m\u001b[43m)\u001b[49m\u001b[43m,\u001b[49m\n\u001b[1;32m   1181\u001b[0m \u001b[43m    \u001b[49m\u001b[43mpassword\u001b[49m\u001b[38;5;241;43m=\u001b[39;49m\u001b[38;5;28;43;01mFalse\u001b[39;49;00m\u001b[43m,\u001b[49m\n\u001b[1;32m   1182\u001b[0m \u001b[43m\u001b[49m\u001b[43m)\u001b[49m\n",
      "File \u001b[0;32m/opt/conda/lib/python3.10/site-packages/ipykernel/kernelbase.py:1219\u001b[0m, in \u001b[0;36mKernel._input_request\u001b[0;34m(self, prompt, ident, parent, password)\u001b[0m\n\u001b[1;32m   1216\u001b[0m             \u001b[38;5;28;01mbreak\u001b[39;00m\n\u001b[1;32m   1217\u001b[0m \u001b[38;5;28;01mexcept\u001b[39;00m \u001b[38;5;167;01mKeyboardInterrupt\u001b[39;00m:\n\u001b[1;32m   1218\u001b[0m     \u001b[38;5;66;03m# re-raise KeyboardInterrupt, to truncate traceback\u001b[39;00m\n\u001b[0;32m-> 1219\u001b[0m     \u001b[38;5;28;01mraise\u001b[39;00m \u001b[38;5;167;01mKeyboardInterrupt\u001b[39;00m(\u001b[38;5;124m\"\u001b[39m\u001b[38;5;124mInterrupted by user\u001b[39m\u001b[38;5;124m\"\u001b[39m) \u001b[38;5;28;01mfrom\u001b[39;00m \u001b[38;5;28mNone\u001b[39m\n\u001b[1;32m   1220\u001b[0m \u001b[38;5;28;01mexcept\u001b[39;00m \u001b[38;5;167;01mException\u001b[39;00m:\n\u001b[1;32m   1221\u001b[0m     \u001b[38;5;28mself\u001b[39m\u001b[38;5;241m.\u001b[39mlog\u001b[38;5;241m.\u001b[39mwarning(\u001b[38;5;124m\"\u001b[39m\u001b[38;5;124mInvalid Message:\u001b[39m\u001b[38;5;124m\"\u001b[39m, exc_info\u001b[38;5;241m=\u001b[39m\u001b[38;5;28;01mTrue\u001b[39;00m)\n",
      "\u001b[0;31mKeyboardInterrupt\u001b[0m: Interrupted by user"
     ]
    }
   ],
   "source": [
    "for i in range(len(jobs.index)):\n",
    "    job_id = applyQueue.get()\n",
    "    job_data = jobs.loc[job_id, :]\n",
    "    clear_output()\n",
    "    \n",
    "    # Display links to job info\n",
    "    print(job_id)\n",
    "    print(job_data['company_name'])\n",
    "    display(HTML(f\"<a href='{job_data['url']}'>job</a>\"))\n",
    "    \n",
    "    pdf_fpath = f\"docs/pdf_sources/{job_id}/Zach_Allen_Resume.pdf\"\n",
    "    \n",
    "    # Copy the output PDF to a single location for easy upload\n",
    "    try:\n",
    "        shutil.copyfile(pdf_fpath, pdf_upload_path);\n",
    "    except shutil.SameFileError: # Sometimes this comes up when re-running a job\n",
    "        pass\n",
    "    \n",
    "    # Wait for feedback on submission status\n",
    "    status = input(\"Status:\")\n",
    "    if status == \"skip\":\n",
    "        continue;\n",
    "    if status == \"\":\n",
    "        status = \"applied\"\n",
    "    \n",
    "    mark_status(job_id, status_key_or_id = status)\n",
    "    applyQueue.task_done()"
   ]
  },
  {
   "cell_type": "code",
   "execution_count": 13,
   "id": "98bf252b-c595-4f5a-956b-ea796f4a25e1",
   "metadata": {},
   "outputs": [
    {
     "name": "stdout",
     "output_type": "stream",
     "text": [
      "ApplyQueue closing w/ size 33\n",
      "ApplyQueue: Drained 47ac287c-6d04-48a8-880d-7bd2fb65f79f (#0)\n",
      "ApplyQueue: Drained 4c73950e-c311-4e91-acec-f9a8df9dc71f (#1)\n",
      "ApplyQueue: Drained 575ebbbe-9dcc-4e67-afb5-3f55418c3bb4 (#2)\n",
      "ApplyQueue: Drained 53e4e72d-e847-4512-aadc-74cb068874a9 (#3)\n",
      "ApplyQueue: Drained 529c5294-4f9c-4893-a38c-cc1f02524973 (#4)\n",
      "ApplyQueue: Drained 60cc30ac-5ef2-4c53-a5db-340ab9c713c7 (#5)\n",
      "ApplyQueue: Drained 5f39653f-69d9-4045-aac9-152b63a54356 (#6)\n",
      "ApplyQueue: Drained 582e7b45-241c-48c2-afa4-f269add19ff9 (#7)\n",
      "ApplyQueue: Drained 7a62be2b-9b6f-4bed-b772-683ea8d5c39d (#8)\n",
      "ApplyQueue: Drained 685d51ae-39d0-4673-8727-b6f582d639a6 (#9)\n",
      "ApplyQueue: Drained 648ee1af-51e1-4a40-a010-5038e4e81881 (#10)\n",
      "ApplyQueue: Drained 822d9506-4cb1-4dbb-ae1e-01aa46c97388 (#11)\n",
      "ApplyQueue: Drained 8015b8a1-ec12-4e77-a017-abdc0aaff640 (#12)\n",
      "ApplyQueue: Drained 7e336fe3-dfe8-40f7-ae50-46d29224804e (#13)\n",
      "ApplyQueue: Drained 93cefcf3-3637-4209-a95a-6f99f2fad711 (#14)\n",
      "ApplyQueue: Drained 9301b586-cbea-4dd3-8cfa-f5e779d50187 (#15)\n",
      "ApplyQueue: Drained 8953f570-c924-46e2-8e89-ab4c050cb05d (#16)\n",
      "ApplyQueue: Drained b55483c0-7214-4223-83a5-be9a976b42ca (#17)\n",
      "ApplyQueue: Drained 98881505-0beb-43cb-aeaf-1976f5862926 (#18)\n",
      "ApplyQueue: Drained 95fcd4c0-891a-4eea-ab50-2acd7d06864f (#19)\n",
      "ApplyQueue: Drained c2c1736f-7408-4cb8-861a-66aa44a1a525 (#20)\n",
      "ApplyQueue: Drained c253212f-3870-4273-bea8-7d14a6b2f16d (#21)\n",
      "ApplyQueue: Drained b949db1c-d7ad-4dd6-b6c7-72d06445dcba (#22)\n",
      "ApplyQueue: Drained ddc27ac5-3f7c-47a8-8b18-fd5ed49df358 (#23)\n",
      "ApplyQueue: Drained d1f69da0-5bee-4298-91cb-d3aee6f4d809 (#24)\n",
      "ApplyQueue: Drained d0512eb1-48ff-452e-a8ad-fe9dc57b56da (#25)\n",
      "ApplyQueue: Drained f1ffab41-e4dc-46a6-a848-2b6428b15f0b (#26)\n",
      "ApplyQueue: Drained e9c09351-d3df-4356-9923-ec17c2819f07 (#27)\n",
      "ApplyQueue: Drained e091a457-8b14-4e42-83db-eeca49bff266 (#28)\n",
      "ApplyQueue: Drained fa6f43ed-cfb0-4f8d-b5ae-5e395c5c2166 (#29)\n",
      "ApplyQueue: Drained f83e9764-1b72-4e36-9251-dee30066cf39 (#30)\n",
      "ApplyQueue: Drained f76f4936-0ba2-4553-a7d5-74da905d0453 (#31)\n",
      "ApplyQueue: Drained fa87f0ae-42fa-4912-aab7-120a0ee6d666 (#32)\n",
      "ApplyQueue: Joined\n"
     ]
    }
   ],
   "source": [
    "print(f\"ApplyQueue closing w/ size {applyQueue.qsize()}\")\n",
    "\n",
    "i = 0\n",
    "while not applyQueue.empty():\n",
    "    try:\n",
    "        drained = applyQueue.get_nowait()\n",
    "        print(f\"ApplyQueue: Drained {drained} (#{i})\")\n",
    "    except Exception as e:\n",
    "        print(f\"ApplyQueue: Can't get_nowait. Finally will mark task done.\")\n",
    "    finally:\n",
    "        applyQueue.task_done()\n",
    "        i += 1\n",
    "\n",
    "while True:\n",
    "    try:\n",
    "        applyQueue.task_done()\n",
    "    except:\n",
    "        break\n",
    "    \n",
    "applyQueue.join()\n",
    "print(\"ApplyQueue: Joined\")\n",
    "loop.stop()"
   ]
  },
  {
   "cell_type": "code",
   "execution_count": 15,
   "id": "b168c1c4-31db-4f65-b879-15359043c885",
   "metadata": {},
   "outputs": [],
   "source": [
    "export_task.result()"
   ]
  },
  {
   "cell_type": "code",
   "execution_count": 17,
   "id": "87e65869-66ad-4d4a-88ec-f803917ab721",
   "metadata": {},
   "outputs": [],
   "source": [
    "t.join()"
   ]
  },
  {
   "cell_type": "code",
   "execution_count": 16,
   "id": "4671d2fc-26e0-4365-974a-560f5a8e9da2",
   "metadata": {},
   "outputs": [
    {
     "name": "stdout",
     "output_type": "stream",
     "text": [
      "{<Task pending name='Task-1' coro=<Kernel.dispatch_queue() running at /opt/conda/lib/python3.10/site-packages/ipykernel/kernelbase.py:510> cb=[IOLoop.add_future.<locals>.<lambda>() at /opt/conda/lib/python3.10/site-packages/tornado/ioloop.py:687]>}\n"
     ]
    }
   ],
   "source": [
    "print(asyncio.all_tasks())"
   ]
  }
 ],
 "metadata": {
  "kernelspec": {
   "display_name": "Python 3 (ipykernel)",
   "language": "python",
   "name": "python3"
  },
  "language_info": {
   "codemirror_mode": {
    "name": "ipython",
    "version": 3
   },
   "file_extension": ".py",
   "mimetype": "text/x-python",
   "name": "python",
   "nbconvert_exporter": "python",
   "pygments_lexer": "ipython3",
   "version": "3.10.6"
  }
 },
 "nbformat": 4,
 "nbformat_minor": 5
}

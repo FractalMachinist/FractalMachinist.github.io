{
 "cells": [
  {
   "cell_type": "code",
   "execution_count": 1,
   "id": "11571a77-e947-4d32-a5e2-09075a9f4f5b",
   "metadata": {},
   "outputs": [],
   "source": [
    "from resume import my_resume"
   ]
  },
  {
   "cell_type": "code",
   "execution_count": 1,
   "id": "b7082708-afde-4c1b-a454-0c0330746b9d",
   "metadata": {},
   "outputs": [],
   "source": [
    "from IPython.display import display, HTML, Markdown, clear_output, FileLink\n",
    "from jobs_skills_weights import get_jobs, get_raw_job_details\n",
    "import skill_weights\n",
    "import os, shutil, re\n",
    "from mark_status import mark_status\n",
    "import requests"
   ]
  },
  {
   "cell_type": "code",
   "execution_count": 6,
   "id": "37ab4179-28b7-40fe-994e-fd1d033db9d1",
   "metadata": {},
   "outputs": [],
   "source": [
    "my_resume.write_html_to_file(\n",
    "    stylesheet='chalkboard',\n",
    "    filepath=\"docs/index.html\",\n",
    "    should_render_all=True\n",
    ")"
   ]
  },
  {
   "cell_type": "code",
   "execution_count": 7,
   "id": "84e1dc1e-583f-49fa-bf85-1b2974bfbcd8",
   "metadata": {},
   "outputs": [],
   "source": [
    "my_resume.write_html_to_file(\n",
    "    stylesheet='lighttheme',\n",
    "    filepath=\"docs/resumes/index.html\",\n",
    "    should_render_all=True\n",
    ")"
   ]
  },
  {
   "cell_type": "code",
   "execution_count": 25,
   "id": "02cc8a95-a2f5-473b-9284-a9ca63fcdd90",
   "metadata": {},
   "outputs": [],
   "source": [
    "my_resume.export_pdf(\n",
    "    \"docs/resumes/full.pdf\",\n",
    "    alt_template_prefixes={\"*\":\"pdf\"},\n",
    "    should_render_all=True,\n",
    "    goal_small=True\n",
    ")"
   ]
  },
  {
   "cell_type": "markdown",
   "id": "e0760f68-b383-44b8-a82f-d38cd47b0e3e",
   "metadata": {
    "tags": []
   },
   "source": [
    "# Pulling Job Data"
   ]
  },
  {
   "cell_type": "code",
   "execution_count": 10,
   "id": "5a3774dc-246b-4409-91f9-e2689674d8b8",
   "metadata": {},
   "outputs": [
    {
     "ename": "NameError",
     "evalue": "name 'jobs' is not defined",
     "output_type": "error",
     "traceback": [
      "\u001b[0;31m---------------------------------------------------------------------------\u001b[0m",
      "\u001b[0;31mNameError\u001b[0m                                 Traceback (most recent call last)",
      "Input \u001b[0;32mIn [6]\u001b[0m, in \u001b[0;36m<cell line: 5>\u001b[0;34m()\u001b[0m\n\u001b[1;32m      3\u001b[0m \u001b[38;5;28;01mexcept\u001b[39;00m \u001b[38;5;167;01mKeyError\u001b[39;00m: \u001b[38;5;66;03m# Bad check for no data\u001b[39;00m\n\u001b[1;32m      4\u001b[0m     exit()\n\u001b[0;32m----> 5\u001b[0m raw_job_details \u001b[38;5;241m=\u001b[39m get_raw_job_details(\u001b[43mjobs\u001b[49m)\n\u001b[1;32m      6\u001b[0m \u001b[38;5;66;03m# job_descriptions = skill_weights.get_job_descriptions(raw_job_details)\u001b[39;00m\n\u001b[1;32m      7\u001b[0m job_skill_weights \u001b[38;5;241m=\u001b[39m skill_weights\u001b[38;5;241m.\u001b[39mget_job_skill_weights(raw_job_details)\n",
      "\u001b[0;31mNameError\u001b[0m: name 'jobs' is not defined"
     ]
    }
   ],
   "source": [
    "jobs = get_jobs()\n",
    "raw_job_details = get_raw_job_details(jobs)\n",
    "# job_descriptions = skill_weights.get_job_descriptions(raw_job_details)\n",
    "job_skill_weights = skill_weights.get_job_skill_weights(raw_job_details)"
   ]
  },
  {
   "cell_type": "code",
   "execution_count": 11,
   "id": "9696bdad-64c7-41d1-8d1a-7e51b2af1dcc",
   "metadata": {},
   "outputs": [],
   "source": []
  },
  {
   "cell_type": "markdown",
   "id": "d8db41f1-7ae2-4e53-a0a1-6917398d7f6c",
   "metadata": {
    "tags": []
   },
   "source": [
    "# Generation"
   ]
  },
  {
   "cell_type": "code",
   "execution_count": 12,
   "id": "41295e00-0159-4c11-b771-bd110618d1b2",
   "metadata": {},
   "outputs": [],
   "source": [
    "skill_text_weights_con = lambda weights, job_id: weights.loc[job_id, :].groupby(level=0).apply(lambda df: df.xs(df.name).to_dict('index')).to_dict()"
   ]
  },
  {
   "cell_type": "code",
   "execution_count": null,
   "id": "45305c8c-e83a-4f66-8873-1cdd8c081721",
   "metadata": {},
   "outputs": [],
   "source": [
    "# assert input(\"Ready to generate? Type 'OK'\") == \"OK\"\n",
    "# for job_id, job_data in jobs.iterrows():\n",
    "#     private_path = f\"docs/pdf_sources/{job_id}\"\n",
    "#     os.makedirs(private_path, exist_ok=True)\n",
    "#     my_resume.write_html_to_file(\n",
    "#         stylesheet='lighttheme',\n",
    "#         filepath=f\"{private_path}/Zach_Allen_Resume.html\",\n",
    "#         alt_template_prefixes={'*':'pdf'},\n",
    "#         skill_text_weights = skill_text_weights_con(job_skill_weights, job_id)\n",
    "#     )"
   ]
  },
  {
   "cell_type": "code",
   "execution_count": null,
   "id": "a88f08de-accb-4da2-95f0-6c6610325a03",
   "metadata": {},
   "outputs": [],
   "source": [
    "pdf_upload_path = \"docs/pdf_sources/upload/Zach_Allen_Resume.pdf\"\n",
    "os.makedirs(\"docs/pdf_sources/upload\", exist_ok=True)"
   ]
  },
  {
   "cell_type": "code",
   "execution_count": null,
   "id": "a86eff74-89b6-4476-acc5-2432dbb6d6ff",
   "metadata": {},
   "outputs": [],
   "source": [
    "# global_skill_text_weights = job_skill_weights.groupby(level=[\"id\", \"skill\", \"skill text\"]\n",
    "#         ).sum().groupby(level=[\"skill\", \"skill text\"]\n",
    "#         ).sum().divide(len(jobs)).groupby(level=0\n",
    "#         ).apply(lambda df: df.xs(df.name).to_dict('index')).to_dict()"
   ]
  },
  {
   "cell_type": "code",
   "execution_count": null,
   "id": "f3bcc2e8-5047-48b1-b796-407a909a90f5",
   "metadata": {},
   "outputs": [],
   "source": [
    "for job_id, job_data in jobs.sort_index().iterrows():\n",
    "    clear_output()\n",
    "    \n",
    "    # Display links to job info\n",
    "    print(job_id)\n",
    "    print(job_data['company_name'])\n",
    "    display(HTML(f\"<a href='{job_data['url']}'>job</a>\"))\n",
    "    \n",
    "    # Construct the PDF\n",
    "    os.makedirs(f\"docs/pdf_sources/{job_id}\", exist_ok=True)\n",
    "    pdf_fpath = f\"docs/pdf_sources/{job_id}/Zach_Allen_Resume.pdf\"\n",
    "    my_resume.export_fitted_pdf(\n",
    "        pdf_fpath,\n",
    "        \n",
    "        highest_threshold=0.05,\n",
    "        lowest_threshold=-1e-3,\n",
    "        skill_cost=0.1,\n",
    "        should_render_all_skills=True,\n",
    "        \n",
    "        stylesheet='lighttheme',\n",
    "        alt_template_prefixes={'*':'pdf'},\n",
    "        skill_text_weights = skill_text_weights_con(job_skill_weights, job_id)\n",
    "    )\n",
    "    \n",
    "    # Copy the output PDF to a single location for easy upload\n",
    "    try:\n",
    "        shutil.copyfile(pdf_fpath, pdf_upload_path);\n",
    "    except shutil.SameFileError: # Sometimes this comes up when re-running a job\n",
    "        pass\n",
    "    \n",
    "    # Wait for feedback on submission status\n",
    "    status = input(\"Status:\")\n",
    "    if status == \"skip\":\n",
    "        continue;\n",
    "    if status == \"\":\n",
    "        status = \"applied\"\n",
    "    \n",
    "    mark_status(job_id, status_key_or_id = status)\n",
    "    "
   ]
  },
  {
   "cell_type": "code",
   "execution_count": null,
   "id": "c5b573eb-8bb8-4ac1-977b-c07c214eb584",
   "metadata": {},
   "outputs": [],
   "source": []
  }
 ],
 "metadata": {
  "kernelspec": {
   "display_name": "Python 3 (ipykernel)",
   "language": "python",
   "name": "python3"
  },
  "language_info": {
   "codemirror_mode": {
    "name": "ipython",
    "version": 3
   },
   "file_extension": ".py",
   "mimetype": "text/x-python",
   "name": "python",
   "nbconvert_exporter": "python",
   "pygments_lexer": "ipython3",
   "version": "3.10.6"
  }
 },
 "nbformat": 4,
 "nbformat_minor": 5
}

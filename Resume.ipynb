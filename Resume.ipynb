{
 "cells": [
  {
   "cell_type": "code",
   "execution_count": 1,
   "id": "11571a77-e947-4d32-a5e2-09075a9f4f5b",
   "metadata": {},
   "outputs": [],
   "source": [
    "from resume import my_resume"
   ]
  },
  {
   "cell_type": "code",
   "execution_count": 2,
   "id": "b7082708-afde-4c1b-a454-0c0330746b9d",
   "metadata": {},
   "outputs": [],
   "source": [
    "from IPython.display import display, HTML, Markdown, clear_output, FileLink\n",
    "from jobs_skills_weights import get_jobs, get_raw_job_details\n",
    "import skill_weights\n",
    "import os, shutil, re\n",
    "from mark_status import mark_status\n",
    "import requests"
   ]
  },
  {
   "cell_type": "code",
   "execution_count": 3,
   "id": "37ab4179-28b7-40fe-994e-fd1d033db9d1",
   "metadata": {},
   "outputs": [],
   "source": [
    "# my_resume.write_html_to_file(\n",
    "#     stylesheet='chalkboard',\n",
    "#     filepath=\"docs/index.html\",\n",
    "#     should_render_all=True\n",
    "# )"
   ]
  },
  {
   "cell_type": "code",
   "execution_count": 4,
   "id": "84e1dc1e-583f-49fa-bf85-1b2974bfbcd8",
   "metadata": {},
   "outputs": [],
   "source": [
    "# my_resume.write_html_to_file(\n",
    "#     stylesheet='lighttheme',\n",
    "#     filepath=\"docs/resumes/index.html\",\n",
    "#     should_render_all=True\n",
    "# )"
   ]
  },
  {
   "cell_type": "code",
   "execution_count": 5,
   "id": "e283011e-f701-4887-83a4-2d845773a8d3",
   "metadata": {},
   "outputs": [],
   "source": [
    "# my_resume.write_html_to_file(\n",
    "#     stylesheet='lighttheme',\n",
    "#     filepath=\"docs/resumes/full.html\",\n",
    "#     should_render_all=True,\n",
    "#     alt_template_prefixes={'*':'pdf'},\n",
    "# )"
   ]
  },
  {
   "cell_type": "code",
   "execution_count": 6,
   "id": "56f39e91-a0eb-4c4b-881c-74a990f467a7",
   "metadata": {},
   "outputs": [],
   "source": [
    "# my_resume.export_pdf(\n",
    "#     \"docs/resumes/full.pdf\",\n",
    "#     # html_docs_subpath=\"resumes/full.html\",\n",
    "\n",
    "#     should_render_all=True,\n",
    "\n",
    "#     stylesheet='lighttheme',\n",
    "#     alt_template_prefixes={'*':'pdf'}\n",
    "# )"
   ]
  },
  {
   "cell_type": "markdown",
   "id": "e0760f68-b383-44b8-a82f-d38cd47b0e3e",
   "metadata": {
    "tags": []
   },
   "source": [
    "# Pulling Job Data"
   ]
  },
  {
   "cell_type": "code",
   "execution_count": 7,
   "id": "5a3774dc-246b-4409-91f9-e2689674d8b8",
   "metadata": {},
   "outputs": [],
   "source": [
    "jobs = get_jobs().query(\"company_name=='Sandia National Laboratories'\")\n",
    "raw_job_details = get_raw_job_details(jobs)"
   ]
  },
  {
   "cell_type": "code",
   "execution_count": 8,
   "id": "9696bdad-64c7-41d1-8d1a-7e51b2af1dcc",
   "metadata": {},
   "outputs": [],
   "source": [
    "job_descriptions = skill_weights.get_job_descriptions(raw_job_details)\n",
    "job_skill_weights = skill_weights.get_job_skill_weights(raw_job_details)"
   ]
  },
  {
   "cell_type": "markdown",
   "id": "d8db41f1-7ae2-4e53-a0a1-6917398d7f6c",
   "metadata": {
    "tags": []
   },
   "source": [
    "# Generation"
   ]
  },
  {
   "cell_type": "code",
   "execution_count": 9,
   "id": "41295e00-0159-4c11-b771-bd110618d1b2",
   "metadata": {},
   "outputs": [],
   "source": [
    "skill_text_weights_con = lambda weights, job_id: weights.loc[job_id, :].groupby(level=0).apply(lambda df: df.xs(df.name).to_dict('index')).to_dict()"
   ]
  },
  {
   "cell_type": "code",
   "execution_count": 10,
   "id": "d635c3d6-5871-45ff-95f1-f89b75122df2",
   "metadata": {},
   "outputs": [],
   "source": [
    "os.makedirs(\"docs/resumes/samples/sandia/v1/\", exist_ok=True)"
   ]
  },
  {
   "cell_type": "code",
   "execution_count": 11,
   "id": "67585e1d-f3f3-4f73-b7e7-964396afc8fe",
   "metadata": {},
   "outputs": [],
   "source": [
    "get_jobid = re.compile(r\"(?<=Job ID: )\\d+\")\n",
    "jobs['Sandia job ID'] = job_descriptions[\"job description\"].apply(lambda desc: get_jobid.search(desc)[0])"
   ]
  },
  {
   "cell_type": "code",
   "execution_count": 12,
   "id": "0d4d185e-487f-4119-b50e-9008e9bdb4e1",
   "metadata": {},
   "outputs": [
    {
     "data": {
      "text/plain": [
       "id\n",
       "8953f570-c924-46e2-8e89-ab4c050cb05d    686026\n",
       "1d871c9a-89c2-415c-bb05-caf7cd7dad70    685688\n",
       "4c73950e-c311-4e91-acec-f9a8df9dc71f    685916\n",
       "900d0476-89ca-421c-9d90-4bf8e42ac878    685883\n",
       "4e222212-339d-442d-ae42-c3fd0cc2adf3    685897\n",
       "Name: Sandia job ID, dtype: object"
      ]
     },
     "execution_count": 12,
     "metadata": {},
     "output_type": "execute_result"
    }
   ],
   "source": [
    "jobs[\"Sandia job ID\"]"
   ]
  },
  {
   "cell_type": "code",
   "execution_count": 13,
   "id": "e43732a3-0222-46f2-a1db-b89ae8053e9c",
   "metadata": {},
   "outputs": [
    {
     "data": {
      "text/plain": [
       "id\n",
       "8953f570-c924-46e2-8e89-ab4c050cb05d    [{'job': {'name': 'projects/cloudjobsearch-256...\n",
       "1d871c9a-89c2-415c-bb05-caf7cd7dad70    [{'job': {'name': 'projects/cloudjobsearch-256...\n",
       "4c73950e-c311-4e91-acec-f9a8df9dc71f    [{'job': {'name': 'projects/cloudjobsearch-256...\n",
       "900d0476-89ca-421c-9d90-4bf8e42ac878    [{'job': {'name': 'projects/cloudjobsearch-256...\n",
       "4e222212-339d-442d-ae42-c3fd0cc2adf3    [{'job': {'name': 'projects/cloudjobsearch-256...\n",
       "Name: Sandia job ID, dtype: object"
      ]
     },
     "execution_count": 13,
     "metadata": {},
     "output_type": "execute_result"
    }
   ],
   "source": [
    "jobs['Sandia job ID'].apply(lambda sandia_job_id_str: requests.get(\n",
    "    f\"https://sandia.jobs/talent/search?q={sandia_job_id_str}\", \n",
    "    headers={\"Content-type\":'application/json', \"Accept\":'application/json'}\n",
    ").json()['jobs'])"
   ]
  },
  {
   "cell_type": "code",
   "execution_count": 14,
   "id": "d5e2abb1-4056-4ab4-943e-50a1da107338",
   "metadata": {},
   "outputs": [],
   "source": [
    "jobs['Sandia url'] = jobs['Sandia job ID'].apply(lambda sandia_job_id_str: \"https://sandia.jobs\"+requests.get(\n",
    "    f\"https://sandia.jobs/talent/search?q={sandia_job_id_str}\", \n",
    "    headers={\"Content-type\":'application/json', \"Accept\":'application/json'}\n",
    ").json()['jobs'][0]['job']['detailLink'])"
   ]
  },
  {
   "cell_type": "code",
   "execution_count": 15,
   "id": "6d079799-69ea-4885-81e4-8becf9f93c78",
   "metadata": {},
   "outputs": [],
   "source": [
    "jobs['comparison'] = jobs['Sandia job ID'].apply(\"<a href='/resumes/samples/sandia/v1/{0}_compare.html'>Compare</a>\".format)"
   ]
  },
  {
   "cell_type": "code",
   "execution_count": 16,
   "id": "6114cc7d-aacf-426c-aa97-9be66f23a1b5",
   "metadata": {},
   "outputs": [],
   "source": [
    "jobs['note'] = jobs.apply(lambda row: raw_job_details[row.name][\"attributes\"]['note'], axis='columns')"
   ]
  },
  {
   "cell_type": "code",
   "execution_count": 17,
   "id": "8b707cfc-a034-4d06-a53e-7345e41c1795",
   "metadata": {
    "tags": []
   },
   "outputs": [
    {
     "name": "stdout",
     "output_type": "stream",
     "text": [
      "Must traverse configuration space.\n",
      "Must traverse configuration space.\n",
      "Must traverse configuration space.\n",
      "Must traverse configuration space.\n",
      "Must traverse configuration space.\n"
     ]
    }
   ],
   "source": [
    "for job_id, job_data in jobs.iterrows():\n",
    "    sandia_id = job_data['Sandia job ID']\n",
    "    pdf_url = f\"/resumes/samples/sandia/v1/{sandia_id}_Zach_Allen_Resume.pdf\"\n",
    "    my_resume.export_fitted_pdf(\n",
    "        \"docs\"+pdf_url,\n",
    "\n",
    "        highest_threshold=0.05,\n",
    "        lowest_threshold=-1e-3,\n",
    "        skill_cost=0.1,\n",
    "        should_render_all_skills=True,\n",
    "\n",
    "        stylesheet='lighttheme',\n",
    "        alt_template_prefixes={'*':'pdf'},\n",
    "        skill_text_weights = skill_text_weights_con(job_skill_weights, job_id)\n",
    "    )\n",
    "    \n",
    "    with open(f\"docs/resumes/samples/sandia/v1/{sandia_id}_compare.html\", 'w+') as compare_f:\n",
    "        compare_f.write(f\"<div style='display:flex; width:100%; height:100%;'><iframe src='{job_data['Sandia url']}' style='flex:auto'></iframe><iframe src='{pdf_url}#toolbar=0' style='aspect-ratio: 8.5 / 11;'></iframe></div>\")\n"
   ]
  },
  {
   "cell_type": "code",
   "execution_count": 18,
   "id": "45305c8c-e83a-4f66-8873-1cdd8c081721",
   "metadata": {},
   "outputs": [],
   "source": [
    "# assert input(\"Ready to generate? Type 'OK'\") == \"OK\"\n",
    "with open(f\"docs/resumes/samples/sandia/v1/index.html\", 'w+') as sandia_index:\n",
    "    sandia_index.write(\"<h1>Customized Resumes for Sandia Postings</h1><p>Below are links to resumes which have been paired with and customized for selected job postings at Sandia National Laboratories.</p>\")\n",
    "    jobs.set_index(\"Sandia job ID\")[[\"location\", \"role\", 'note', \"comparison\"]].sort_index().to_html(buf=sandia_index, escape=False)"
   ]
  },
  {
   "cell_type": "code",
   "execution_count": 19,
   "id": "3afa9aa2-7bbe-47ce-883c-0ba015304553",
   "metadata": {},
   "outputs": [
    {
     "ename": "AssertionError",
     "evalue": "",
     "output_type": "error",
     "traceback": [
      "\u001b[0;31m---------------------------------------------------------------------------\u001b[0m",
      "\u001b[0;31mAssertionError\u001b[0m                            Traceback (most recent call last)",
      "Input \u001b[0;32mIn [19]\u001b[0m, in \u001b[0;36m<cell line: 1>\u001b[0;34m()\u001b[0m\n\u001b[0;32m----> 1\u001b[0m \u001b[38;5;28;01massert\u001b[39;00m \u001b[38;5;28;01mFalse\u001b[39;00m\n",
      "\u001b[0;31mAssertionError\u001b[0m: "
     ]
    }
   ],
   "source": [
    "assert False"
   ]
  },
  {
   "cell_type": "code",
   "execution_count": null,
   "id": "a88f08de-accb-4da2-95f0-6c6610325a03",
   "metadata": {},
   "outputs": [],
   "source": [
    "pdf_upload_path = \"docs/pdf_sources/upload/Zach_Allen_Resume.pdf\"\n",
    "os.makedirs(\"docs/pdf_sources/upload\", exist_ok=True)"
   ]
  },
  {
   "cell_type": "code",
   "execution_count": null,
   "id": "a86eff74-89b6-4476-acc5-2432dbb6d6ff",
   "metadata": {},
   "outputs": [],
   "source": [
    "# global_skill_text_weights = job_skill_weights.groupby(level=[\"id\", \"skill\", \"skill text\"]\n",
    "#         ).sum().groupby(level=[\"skill\", \"skill text\"]\n",
    "#         ).sum().divide(len(jobs)).groupby(level=0\n",
    "#         ).apply(lambda df: df.xs(df.name).to_dict('index')).to_dict()"
   ]
  },
  {
   "cell_type": "code",
   "execution_count": null,
   "id": "f3bcc2e8-5047-48b1-b796-407a909a90f5",
   "metadata": {},
   "outputs": [],
   "source": [
    "for job_id, job_data in jobs.sort_index().iterrows():\n",
    "    clear_output()\n",
    "    \n",
    "    # Display links to job info\n",
    "    print(job_id)\n",
    "    print(job_data['company_name'])\n",
    "    display(HTML(f\"<a href='{job_data['url']}'>job</a>\"))\n",
    "    \n",
    "    # Construct the PDF\n",
    "    os.makedirs(f\"docs/pdf_sources/{job_id}\", exist_ok=True)\n",
    "    pdf_fpath = f\"docs/pdf_sources/{job_id}/Zach_Allen_Resume.pdf\"\n",
    "    my_resume.export_fitted_pdf(\n",
    "        pdf_fpath,\n",
    "        \n",
    "        highest_threshold=0.05,\n",
    "        lowest_threshold=-1e-3,\n",
    "        skill_cost=0.1,\n",
    "        should_render_all_skills=True,\n",
    "        \n",
    "        stylesheet='lighttheme',\n",
    "        alt_template_prefixes={'*':'pdf'},\n",
    "        skill_text_weights = skill_text_weights_con(job_skill_weights, job_id)\n",
    "    )\n",
    "    \n",
    "    # Copy the output PDF to a single location for easy upload\n",
    "    try:\n",
    "        shutil.copyfile(pdf_fpath, pdf_upload_path);\n",
    "    except shutil.SameFileError: # Sometimes this comes up when re-running a job\n",
    "        pass\n",
    "    \n",
    "    # Wait for feedback on submission status\n",
    "    status = input(\"Status:\")\n",
    "    if status == \"skip\":\n",
    "        continue;\n",
    "    if status == \"\":\n",
    "        status = \"applied\"\n",
    "    \n",
    "    mark_status(job_id, status_key_or_id = status)\n",
    "    "
   ]
  },
  {
   "cell_type": "code",
   "execution_count": null,
   "id": "c5b573eb-8bb8-4ac1-977b-c07c214eb584",
   "metadata": {},
   "outputs": [],
   "source": []
  }
 ],
 "metadata": {
  "kernelspec": {
   "display_name": "Python 3 (ipykernel)",
   "language": "python",
   "name": "python3"
  },
  "language_info": {
   "codemirror_mode": {
    "name": "ipython",
    "version": 3
   },
   "file_extension": ".py",
   "mimetype": "text/x-python",
   "name": "python",
   "nbconvert_exporter": "python",
   "pygments_lexer": "ipython3",
   "version": "3.10.6"
  }
 },
 "nbformat": 4,
 "nbformat_minor": 5
}

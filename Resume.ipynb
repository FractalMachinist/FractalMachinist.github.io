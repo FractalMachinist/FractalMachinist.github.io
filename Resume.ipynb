{
 "cells": [
  {
   "cell_type": "code",
   "execution_count": 1,
   "id": "c5114826-031f-424d-a22e-471189c33451",
   "metadata": {},
   "outputs": [],
   "source": [
    "from CurriculumVitae import *\n",
    "from IPython.display import display, HTML, Markdown, clear_output, FileLink\n",
    "from datetime import date\n",
    "from jobs_skills_weights import get_jobs, get_raw_job_details\n",
    "import skill_weights\n",
    "import os\n",
    "from mark_status import mark_status"
   ]
  },
  {
   "cell_type": "code",
   "execution_count": 2,
   "id": "ee253396-6f27-452e-9a82-79a7f4b1250b",
   "metadata": {
    "jupyter": {
     "source_hidden": true
    },
    "tags": []
   },
   "outputs": [],
   "source": [
    "my_resume = Resume(\n",
    "    person=Person(name=\"Zach Allen\", pronouns=\"He/Him\", \n",
    "                    contact_info=ContactInfo(\n",
    "                       email=\"fractalmachinist@gmail.com\", \n",
    "                       phone=\"+1 (509)438-8146\", \n",
    "                       link=\"https://fractalmachini.st\",\n",
    "                       link2=\"https://linkedin.com/in/zachallen-fractalmachinist/\")),\n",
    "\n",
    "    headline=' '.join([\"Machine Learning Researcher & Data Engineer with 5 years experience in collaborative AI innovation & infrastructure implementation at scale.\",                       \n",
    "                       \"Expert in Python & TensorFlow since 2015/2017.\",\n",
    "                       \"Passionate about working closely with multidisciplinary partners to shape the future towards global sustainability.\",\n",
    "                       \"Certified in data-driven integrations of business needs, software engineering, project management, and software development best practices.\",\n",
    "                       \"Excellent writing, speaking, presenting, and technical communication skills.\",\n",
    "                       ]))"
   ]
  },
  {
   "cell_type": "code",
   "execution_count": 3,
   "id": "fe8195e8-9a32-4bab-b186-8f2af3a9e661",
   "metadata": {
    "jupyter": {
     "source_hidden": true
    },
    "tags": []
   },
   "outputs": [],
   "source": [
    "my_resume.education = [Occupation(\n",
    "    title=\"Bachelor's in Computer Science\", location=\"Utah, USA (Online)\",\n",
    "    timespan=Between(start=date(2019, 2, 1), end=date(2022, 8, 31)),\n",
    "    subtitle=\"Western Governors University\", \n",
    "    headline=\"Focused on Machine Learning and Project Management in a fully remote environment\",\n",
    "    skills=my_resume.Skills(\"Remote Work\", \"Project Management\", \"Machine Learning\"),\n",
    "    sub_tasks=[\n",
    "        Effort(title=\"Diamond Price Prediction Model\",\n",
    "               headline=\"Proposed, implemented, and documented a diamond price prediction ML model\",\n",
    "               website=\"https://github.com/FractalMachinist/WGU-C968\",\n",
    "               skills=my_resume.Skills(\"Machine Learning\", \"Analysis\", \"Statistics\", \"Feature Engineering\", \"End to End\"),\n",
    "               achievements=[\n",
    "                  Achievement(\n",
    "                       headline=\"Demonstrated integration of project management and software engineering best practices.\",\n",
    "                       skills=my_resume.Skills(\"Project Management\", \"Stakeholder Support\", \"Written Communication\", \"Documentation\", \"Managing Requirements\", \"Technical Communication\")),\n",
    "                   Achievement(\n",
    "                       headline=\"Developed simple Data Pipeline in python/pandas.\",\n",
    "                       skills=my_resume.Skills(\"Python\", \"Data\", \"Software Engineering\", \"NumPy\", \"SciPy\", \"Pandas\")),\n",
    "                   Achievement(\n",
    "                       headline=\"Integrated code and report generation with a Jupyter Notebook.\",\n",
    "                       skills=my_resume.Skills(\"Jupyter\", \"Seaborn\", \"Data Visualization\"))\n",
    "               ]\n",
    "\n",
    "        ), \n",
    "        Effort(title=\"Advanced Java Concepts\",\n",
    "               headline=\"Developed appointment scheduling and customer database tool in Java\",\n",
    "               website=\"https://github.com/FractalMachinist/C195-Scheduling-App\",\n",
    "               skills=my_resume.Skills(\"Java\", \"Software Engineering\", \"Git\", \"SQL\"),\n",
    "               achievements=[\n",
    "               Achievement(\n",
    "                   headline=\"Encapsulated Observable state and database connection state into a shared wrapper class, streamlining inheritance, error handling, and UI/Database auto-updates.\",\n",
    "                   skills=my_resume.Skills(\"Java\", \"JavaFX\", \"JDBC\", \"Integration\", \"API Design\", \"MySQL\")),\n",
    "               Achievement(\n",
    "                   headline=\"Paid technical debt by finalizing project documentation.\",\n",
    "                   skills=my_resume.Skills(\"Documentation\", \"Written Communication\", \"Ownership\", \"SDLC\", \"Project Management\", \"Scope\"))\n",
    "               ]),    \n",
    "    ],\n",
    "    \n",
    "    achievements=[\n",
    "        \n",
    "        Certification(name=\"CompTIA Project+\",\n",
    "                      headline=\"Demonstrated understanding of Project Management roles, processes, and documentation.\",\n",
    "                      issuer=\"Pearson VUE\", issue_date=date(2019, 7, 24),\n",
    "                      website=\"https://wsr.pearsonvue.com/testtaker/authenticate/AuthenticateScoreReport.htm\",\n",
    "                      confirmation_info={\"Registration\":\"358639011\", \"Validation\":\"155946649\"},\n",
    "                      skills=my_resume.Skills(\"Project Management\", \"Managing Requirements\", \"SDLC\", \"Integration\", \"Agile\", \"Scope\", \"Stakeholder Support\")),\n",
    "        \n",
    "        Certification(name=\"IT Information Library Foundations Certification (ITIL)\", \n",
    "                      headline=\"Demonstrated understanding of designing, deploying, maintaining, and retiring IT resources.\",\n",
    "                      issuer=\"AXELOS\", issue_date=date(2020, 8, 1),\n",
    "                      skills=my_resume.Skills(\"Project Management\", \"Managing Requirements\", \"SDLC\", \"Integration\")),\n",
    "        \n",
    "        Certification(name=\"Site Development Associate\",\n",
    "                      headline=\"Demonstrated ability to design and build websites.\",\n",
    "                      issuer=\"CIW\", issue_date=date(2019, 2, 1),\n",
    "                      skills=my_resume.Skills(\"Web Development\", \"HTML\", \"CSS\", \"JavaScript\",)),\n",
    "        \n",
    "        Achievement(headline=\"Excellence Award for Communication Applications\",\n",
    "                    portfolio_link=\"https://github.com/FractalMachinist/Rust_Business_Presentation\",\n",
    "                    skills=my_resume.Skills(\"Written Communication\", \"Technical Communication\")),\n",
    "        \n",
    "    ])]"
   ]
  },
  {
   "cell_type": "code",
   "execution_count": 4,
   "id": "be469032-bbd4-4a87-8d9e-5846ce7f4464",
   "metadata": {
    "jupyter": {
     "source_hidden": true
    },
    "tags": []
   },
   "outputs": [],
   "source": [
    "my_resume.employment = [\n",
    "    Occupation(title=\"Sofware Engineer\", location=\"St. Louis, Missouri, USA\", website=\"https://PlutonBio.com\",\n",
    "               timespan=Between(start=date(2021, 3, 1), end=date(2021, 8, 31)),\n",
    "               subtitle=\"Pluton Biosciences\", supervisor=Person(name=\"Dr. Boahemaa Adu-Oppong\", pronouns=\"She/Her\",\n",
    "                                                                contact_info=ContactInfo(email=\"BAdu-Oppong@plutonbio.com\")),\n",
    "               headline=\"Data Engineering supporting Bioinformatics Research\",\n",
    "               skills=my_resume.Skills(\"Remote Work\", \"Big Data\", \"Bioinformatics\", \"Genetics\", \"Multidisciplinary\", \"Motivated\"),\n",
    "               sub_tasks=[\n",
    "                   Effort(\n",
    "                       title=\"AWS Genomics Pipeline\",\n",
    "                       headline=\"Independently designed, implemented, and deployed Terabyte-scale AWS genomics pipeline in 4 months part time, from no prior genomics or AWS experience.\",\n",
    "                       skills=my_resume.Skills(\"AWS\", \"Cloud Computing\", \"Data\", \"Big Data\", \"Large Scale\", \"Infrastructure\", \"End to End\", \"Motivated\", \"Multidisciplinary\", \"Problem Solving\", \"Remote Work\", \"Innovation\", \"Curious\", \"Ownership\", \"Project Management\", \"SDLC\", \"Data Architecture\", \"Data Infrastructure\"),\n",
    "                       achievements=[\n",
    "                           Achievement(\n",
    "                               # title=\"Pipeline Design\",\n",
    "                               headline=\"Designed, implemented, and documented gRPC+ProtoBuf pipeline architecture.\",\n",
    "                               skills=my_resume.Skills(\"Infrastructure\", \"Data\", \"Big Data\", \"Large Scale\", \"Tooling\", \"Integration\", \"Automation\", \"Prototyping\", \"Workflows\", \"Innovation\", \"Problem Solving\"),\n",
    "                           ),\n",
    "                           Achievement(\n",
    "                               # title=\"User-Friendly Query Library\",\n",
    "                               # headline=\"Designed, implemented, developed training for, and documented an in-house Python+R library and interface enabling (non-CS) biologists to easily deploy multi-stage genomics queries without relying on the CS team.\",\n",
    "                               headline=\"Accelerated research iteration with an in-house Python+R interface helping non-CS teammates deploy complex, multi-stage genomics queries without relying on the CS team.\",\n",
    "                               skills=my_resume.Skills(\"Python\", \"R\", \"API Design\", \"Libraries\", \"Tooling\", \"Automation\", \"Workflows\", \"Problem Solving\", \"Stakeholder Support\")\n",
    "                           ),\n",
    "                           Achievement(\n",
    "                               # title=\"Aligned Deliverables with Stakeholder Needs\",\n",
    "                               headline=\"Collaborated with SMEs to gather, interpret, and meet data pipeline requirements. Interfaced with Bioinformatics expert for genomics tool selection.\",\n",
    "                               skills=my_resume.Skills(\"Managing Requirements\", \"Written Communication\", \"Project Management\", \"Collaboration\", \"Multidisciplinary\", \"Scope\", \"Stakeholder Support\", \"Technical Communication\")\n",
    "                           ),\n",
    "                       ],\n",
    "                   ),\n",
    "                       \n",
    "                   Effort(\n",
    "                       title=\"Containerized Deployment & Autoscaling\",\n",
    "                       headline=\"Researched, containerized, documented, and deployed 10+ Computational Genomics tools to AWS ECS and EC2.\",\n",
    "                       skills=my_resume.Skills(\"Integration\", \"Bash\", \"Linux\", \"AWS\", \"Containerization\", \"Large Scale\", \"Frameworks\", \"Infrastructure\", \"Bioinformatics\", \"Genetics\", \"ECS\", \"EC2\"),\n",
    "                       achievements=[\n",
    "                           Achievement(\n",
    "                               # title=\"Streamlined Pipeline Development Lifecycle\",\n",
    "                               # headline=\"Developed, documented, and utilized frameworks for automating Computational Genomics tool containerization.\",\n",
    "                               headline=\"Streamlined & automated containerization of Computational Genomics tools.\",\n",
    "                               skills=my_resume.Skills(\"Frameworks\", \"Infrastructure\", \"Tooling\", \"SDLC\", \"Automation\", \"Workflows\", \"Innovation\", \"Problem Solving\")\n",
    "                           ),\n",
    "                           Achievement(\n",
    "                               headline=\"Constructed and tuned EC2&ECS autoscaling, maximizing cost efficiency and cluster responsiveness.\",\n",
    "                               skills=my_resume.Skills(\"AWS\", \"Infrastructure\", \"Budget\", \"Monitoring\", \"Tracking\", \"Reporting\")\n",
    "                           ),\n",
    "                           Achievement(\n",
    "                               headline=\"Detected, diagnosed, and resolved compute resource inefficiencies.\",\n",
    "                               skills=my_resume.Skills(\"Optimization\", \"Software Engineering\", \"Computer Science\", \"Debugging\", \"Computer Engineering\", \"Iteration\", \"Monitoring\", \"Tracking\", \"Reporting\")\n",
    "                           ),\n",
    "                       ]\n",
    "                   ),    \n",
    "                   \n",
    "                   Achievement(\n",
    "                       # title=\"Spearheaded SDLC & CI/CD\",\n",
    "                       headline=\"Led the CS team in adopting SDLC tools like Git, AWS CodeCommit, and Docker / AWS Elastic Container Registry. Championed utilization of Microsoft Teams Kanban tools for project&process management.\",\n",
    "                       skills=my_resume.Skills(\"Leadership\", \"SDLC\", \"Git\", \"Containerization\", \"Testing\", \"Integration\", \"Frameworks\", \"Project Management\", \"Teamwork\", \"Workflows\", \"CI/CD\", \"Organizational Skills\")\n",
    "                   ),\n",
    "                   Achievement(\n",
    "                       # title=\"Microbial Taxonomy Visualizations in R\",\n",
    "                       headline=\"Worked closely with SMEs to perform analysis and visualization of microbial taxonomy data in R.\",\n",
    "                       skills=my_resume.Skills(\"R\", \"Analysis\", \"Statistics\", \"Written Communication\", \"Collaboration\", \"Multidisciplinary\", \"Teamwork\", \"Iteration\", \"Data Visualization\", \"Technical Communication\")\n",
    "                   ),\n",
    "               ],\n",
    "    ),\n",
    "    \n",
    "    Occupation(title=\"Embedded Systems Engineer\", location=\"Allentown, Pennsylvania, USA\", website=\"https://AppliedSeparations.com\",\n",
    "               timespan=Between(start=date(2019, 1, 1), end=date(2020, 1, 25)),\n",
    "               subtitle=\"Applied Separations\", supervisor=Person(name=\"Aaron Allen\", pronouns=\"He/Him\", \n",
    "                                                                contact_info=ContactInfo(email=\"mnrnln@gmail.com\")),\n",
    "               \n",
    "               headline=\"Developed custom C++ / Arduino pump control software\",\n",
    "               achievements=[\n",
    "                   Achievement(headline=\"Designed and developed pump control software for chromatography and analytical chemistry systems in C and C++.\",\n",
    "                               skills=my_resume.Skills(\"C\", \"C++\", \"Software Engineering\", \"SDLC\", \"Microcontrollers\", \"Multidisciplinary\")),\n",
    "                   \n",
    "                   Achievement(headline=\"Wrote a simple heuristic scheduler & virtual threading to manage real-time (60Hz+) pump control, touch screen input, and data/control communication, all on a single Arduino Mega.\",\n",
    "                               skills=my_resume.Skills(\"Algorithms\", \"Optimization\", \"Software Engineering\", \"Statistics\", \"Computer Science\", \"Microcontrollers\", \"Computer Engineering\")),\n",
    "                   \n",
    "                   Achievement(headline=\"Designed and validated mass delivery tracking, prediction, and smoothing algorithms, to handle nonlinear feedback delay.\",\n",
    "                               skills=my_resume.Skills(\"Algorithms\", \"Algebra\", \"Software Engineering\", \"Testing\", \"Computer Science\", \"Prototyping\", \"Analysis\", \"Monitoring\", \"Reporting\")),\n",
    "                   \n",
    "                   Achievement(headline=\"Interfaced with separate development team in charge of chromatography control software. Collected and implemented requirements from instrumentation engineer.\",\n",
    "                               skills=my_resume.Skills(\"Written Communication\", \"Managing Requirements\", \"Project Management\", \"SDLC\", \"Documentation\", \"Collaboration\", \"Ownership\", \"Integration\", \"Leadership\", \"Git\", \"Reporting\", \"Technical Communication\"))]),\n",
    "              \n",
    "    Occupation(title=\"Service Writer\", location=\"Richland, Washington, USA\", website=\"https://AlphaComputerCenter.com\",\n",
    "               timespan=Between(start=date(2017, 12, 1), end=date(2018, 11, 30)),\n",
    "               subtitle=\"Alpha Computer Center\", supervisor=Person(name=\"Frank Ward Jr.\", pronouns=\"He/Him\",\n",
    "                                                                   contact_info=ContactInfo(email=\"frankjr@alphacomputercenter.com\",\n",
    "                                                                   phone=\"+1 (509)946-4230\")),\n",
    "               \n",
    "               headline=\"Customer service, sales, and technician support\",\n",
    "               achievements=[\n",
    "                   Achievement(headline=\"Ensured customers were able to accurately understand and communicate with repair technicians, improving customer service and reducing diagnostic time.\",\n",
    "                               skills=my_resume.Skills(\"Written Communication\")),\n",
    "                   \n",
    "                   Achievement(headline=\"Leveraged extensive Linux experience to rapidly identify and repair issues that couldn't be fixed by Mac diagnostic tools.\",\n",
    "                               skills=my_resume.Skills(\"Linux\", \"Bash\")),\n",
    "                   \n",
    "                   Achievement(headline=\"Reduced call frequency with an informative website. See it on <a href='https://web.archive.org/web/20180113192132/http://www.alphacomputercenter.com/wordpress1/'>web archive</a>.\",\n",
    "                               skills=my_resume.Skills(\"Web Development\", \"HTML\", \"CSS\", \"JavaScript\", \"Graphic Design\"))]),\n",
    "              \n",
    "    Occupation(title=\"Machine Learning Researcher (Intern)\", location=\"Richland, Washington, USA\", website=\"https://pnnl.gov\",\n",
    "               timespan=Between(start=date(2017, 1, 1), end=date(2017, 5, 31)),\n",
    "               subtitle=\"Pacific Northwest National Laboratory\", supervisor=Person(name=\"Dr. Enoch Yeung\", pronouns=\"He/Him\",\n",
    "                                                                                   contact_info=ContactInfo(email=\"eyeung@ucsb.edu\")),\n",
    "               \n",
    "               headline=\"ML Research and Data Engineering intern\",\n",
    "               achievements=[\n",
    "                   Achievement(headline=\"Designed and tested novel Neural Network algorithms, architectures, and error formulations for NLP, image classification, and time-series data classification.\",\n",
    "                               skills=my_resume.Skills(\"Python\", \"TensorFlow\", \"Machine Learning\", \"Deep Learning\", \"Neural Network Architectures\", \"Feature Engineering\",\n",
    "                                                       \"Algorithms\", \"Algebra\", \"NLP\", \"Data\", \"Curious\", \"Research\", \"Frameworks\", \"Computer Science\",\n",
    "                                                       \"MatLab\", \"NumPy\", \"Software Engineering\")),\n",
    "                   \n",
    "                   Achievement(headline=\"Demonstrated increased test accuracy (15% ⇾ 90% detection with higher Bayesian Confidence) on unbalanced (>1000:1) datasets, without duplication, augmentation, or batch filtering.\",\n",
    "                               skills=my_resume.Skills(\"Machine Learning\", \"Algebra\", \"Statistics\", \"Testing\", \"Research\", \"Algorithms\", \"Computer Science\", \"Analysis\")),\n",
    "                   \n",
    "                   Achievement(headline=\"Worked independently, balancing multiple projects and deliverables with minimal mentor supervision.\",\n",
    "                               skills=my_resume.Skills(\"Project Management\", \"Reporting\", \"Ownership\"))])\n",
    "]"
   ]
  },
  {
   "cell_type": "code",
   "execution_count": 5,
   "id": "5a74bcb3-f941-4353-9a7b-a85c9601e62f",
   "metadata": {
    "jupyter": {
     "source_hidden": true
    },
    "tags": []
   },
   "outputs": [],
   "source": [
    "my_resume.projects = [\n",
    "    Effort(title=\"Neural Cellular Segmentation\",\n",
    "           headline=\"Exploring neural cellular automata and attention (NCA+A) for medical image segmentation\",\n",
    "           website=\"https://github.com/FractalMachinist/NeuralCellularAutomataAttn\",\n",
    "           achievements=[\n",
    "               Achievement(headline=\"Developed, tested, and iterated NCA+A models, balancing system resources and model size.\",\n",
    "                           skills=my_resume.Skills(\"Python\", \"TensorFlow\", \"Machine Learning\", \"Neural Network Architectures\", \"Research\", \"Algebra\", \n",
    "                                                   \"Optimization\", \"Statistics\", \"NumPy\", \"Analysis\")),\n",
    "               Achievement(headline=\"Created multiple tf.Data pipelines with preprocessing and data augmentation steps.\",\n",
    "                           skills=my_resume.Skills(\"Python\", \"Data\", \"Software Engineering\", \"TensorFlow\", \"Git\", \"Frameworks\", \"Computer Science\")),\n",
    "           ]),\n",
    "    Effort(title=\"Interplan\",\n",
    "           headline=\"Task dependency management from a Graph Database\",\n",
    "           website=\"https://github.com/FractalMachinist/Interplan\",\n",
    "           achievements=[\n",
    "               Achievement(headline=\"Developed a Neo4J+JS dependency resolution and task status tracking API.\",\n",
    "                           skills=my_resume.Skills(\"JavaScript\", \"Testing\", \"Project Management\", \"Data Driven\", \"API Design\",\n",
    "                                                   \"Software Engineering\", \"Neo4J\", \"Apache Tinkerpop\")),\n",
    "               Achievement(headline=\"Designed intuitive React app for displaying and interacting with tasks.\",\n",
    "                           skills=my_resume.Skills(\"Web Development\", \"HTML\", \"CSS\", \"JavaScript\", \"React\")),\n",
    "               Achievement(headline=\"Packaged Node+Neo4J in Docker & Kubernetes for easy migration.\",\n",
    "                           skills=my_resume.Skills(\"Containerization\", \"Infrastructure\"))\n",
    "           ]),\n",
    "    \n",
    "    Effort(title=\"MarkNotes\",\n",
    "           headline=\"Intuitive journaling tool designed to encourage long-term review and introspection\",\n",
    "           website=\"https://github.com/FractalMachinist/MarkNotes\",\n",
    "           achievements=[\n",
    "               Achievement(headline=\"Implemented MongoDB and Node API for destructuring, storing, and querying Markdown entries as semi-structured data.\",\n",
    "                           skills=my_resume.Skills(\"MongoDB\", \"Data\", \"Data Driven\", \"NoSQL\", \"API Design\", \"Software Engineering\")),\n",
    "               Achievement(headline=\"Designed simple, intuitive React web app interface.\",\n",
    "                            skills=my_resume.Skills(\"Web Development\", \"HTML\", \"CSS\", \"JavaScript\", \"Graphic Design\")),\n",
    "               Achievement(headline=\"Packaged Node+MongoDB in Docker & Kubernetes.\",\n",
    "                           skills=my_resume.Skills(\"Containerization\", \"Infrastructure\"))\n",
    "           ]),\n",
    "    \n",
    "    # Effort(title=\"NetTimeLog\",\n",
    "    #        headline=\"Minimalist, accurate time tracking\",\n",
    "    #        # website=\"https://fractalmachini.st/demos/nettimelog\",\n",
    "    #        achievements=[\n",
    "    #            Achievement(headline=\"Created time-tracking web app with Python+Flask which records what you just completed, so you never estimate what you will do or how long it will take.\",\n",
    "    #                        skills=my_resume.Skills(\"Web Development\", \"HTML\", \"CSS\", \"JavaScript\"))])\n",
    "]"
   ]
  },
  {
   "cell_type": "markdown",
   "id": "e0760f68-b383-44b8-a82f-d38cd47b0e3e",
   "metadata": {
    "tags": []
   },
   "source": [
    "# Pulling Job Data"
   ]
  },
  {
   "cell_type": "code",
   "execution_count": 6,
   "id": "8ad12e71-1163-4a7f-b976-79b4aa171e57",
   "metadata": {},
   "outputs": [],
   "source": [
    "jobs = get_jobs()\n",
    "raw_job_details = get_raw_job_details(jobs)\n",
    "# job_descriptions = skill_weights.get_job_descriptions(raw_job_details)\n",
    "job_skill_weights = skill_weights.get_job_skill_weights(raw_job_details)"
   ]
  },
  {
   "cell_type": "code",
   "execution_count": null,
   "id": "fff06ce0-1eab-418a-bf43-64b45aea9f2c",
   "metadata": {},
   "outputs": [],
   "source": []
  },
  {
   "cell_type": "markdown",
   "id": "d8db41f1-7ae2-4e53-a0a1-6917398d7f6c",
   "metadata": {
    "tags": []
   },
   "source": [
    "# Generation"
   ]
  },
  {
   "cell_type": "code",
   "execution_count": 7,
   "id": "41295e00-0159-4c11-b771-bd110618d1b2",
   "metadata": {},
   "outputs": [],
   "source": [
    "skill_text_weights_con = lambda weights, job_id: weights.loc[job_id, :].groupby(level=0).apply(lambda df: df.xs(df.name).to_dict('index')).to_dict()"
   ]
  },
  {
   "cell_type": "code",
   "execution_count": 8,
   "id": "37ab4179-28b7-40fe-994e-fd1d033db9d1",
   "metadata": {},
   "outputs": [],
   "source": [
    "# my_resume.write_html_to_file(\n",
    "#     stylesheet='chalkboard',\n",
    "#     filepath=\"docs/test/web.html\",\n",
    "#     should_render_all=True\n",
    "# )"
   ]
  },
  {
   "cell_type": "code",
   "execution_count": 9,
   "id": "45305c8c-e83a-4f66-8873-1cdd8c081721",
   "metadata": {},
   "outputs": [],
   "source": [
    "# assert input(\"Ready to generate? Type 'OK'\") == \"OK\"\n",
    "# for job_id, job_data in jobs.iterrows():\n",
    "#     private_path = f\"docs/pdf_sources/{job_id}\"\n",
    "#     os.makedirs(private_path, exist_ok=True)\n",
    "#     my_resume.write_html_to_file(\n",
    "#         stylesheet='lighttheme',\n",
    "#         filepath=f\"{private_path}/Zach_Allen_Resume.html\",\n",
    "#         alt_template_prefixes={'*':'pdf'},\n",
    "#         skill_text_weights = skill_text_weights_con(job_skill_weights, job_id)\n",
    "#     )"
   ]
  },
  {
   "cell_type": "code",
   "execution_count": 22,
   "id": "80f90bc0-74c7-41ca-9f3b-8db4a307475f",
   "metadata": {},
   "outputs": [
    {
     "name": "stdout",
     "output_type": "stream",
     "text": [
      "e7276640-0bab-43b7-b635-894fd691b9b5\n",
      "Tapad\n"
     ]
    },
    {
     "data": {
      "text/html": [
       "<a href='https://www.linkedin.com/jobs/search/?currentJobId=3275081180&f_E=2%2C3&f_JT=F&f_WT=3%2C2&geoId=100506914&keywords=software%20engineer%20machine%20learning%20tensorflow&location=Europe&refresh=true'>job</a>"
      ],
      "text/plain": [
       "<IPython.core.display.HTML object>"
      ]
     },
     "metadata": {},
     "output_type": "display_data"
    },
    {
     "data": {
      "text/html": [
       "<a href='./docs/pdf_sources/e7276640-0bab-43b7-b635-894fd691b9b5/Zach_Allen_Resume.pdf' target='_blank'>./docs/pdf_sources/e7276640-0bab-43b7-b635-894fd691b9b5/Zach_Allen_Resume.pdf</a><br>"
      ],
      "text/plain": [
       "/experiments/FractalMachinist.github.io/docs/pdf_sources/e7276640-0bab-43b7-b635-894fd691b9b5/Zach_Allen_Resume.pdf"
      ]
     },
     "metadata": {},
     "output_type": "display_data"
    }
   ],
   "source": [
    "for job_id, job_data in jobs.sort_index().iterrows():\n",
    "    clear_output()\n",
    "    \n",
    "    # Construct the PDF\n",
    "    os.makedirs(f\"docs/pdf_sources/{job_id}\", exist_ok=True)\n",
    "    pdf_fpath = f\"./docs/pdf_sources/{job_id}/Zach_Allen_Resume.pdf\"\n",
    "    my_resume.export_fitted_pdf(\n",
    "        pdf_fpath,\n",
    "        stylesheet='lighttheme',\n",
    "        alt_template_prefixes={'*':'pdf'},\n",
    "        skill_text_weights = skill_text_weights_con(job_skill_weights, job_id),\n",
    "    )\n",
    "    \n",
    "    # Display links to job info\n",
    "    print(job_id)\n",
    "    print(job_data['company_name'])\n",
    "    display(HTML(f\"<a href='{job_data['url']}'>job</a>\"))\n",
    "    display(FileLink(pdf_fpath))\n",
    "    \n",
    "    # Wait for feedback on submission status\n",
    "    status = input(\"Status:\")\n",
    "    if status == \"skip\":\n",
    "        continue;\n",
    "    if status == \"\":\n",
    "        status = \"applied\"\n",
    "    \n",
    "    mark_status(job_id, status_key_or_id = status)\n",
    "    "
   ]
  },
  {
   "cell_type": "code",
   "execution_count": null,
   "id": "c5b573eb-8bb8-4ac1-977b-c07c214eb584",
   "metadata": {},
   "outputs": [],
   "source": []
  }
 ],
 "metadata": {
  "kernelspec": {
   "display_name": "Python 3 (ipykernel)",
   "language": "python",
   "name": "python3"
  },
  "language_info": {
   "codemirror_mode": {
    "name": "ipython",
    "version": 3
   },
   "file_extension": ".py",
   "mimetype": "text/x-python",
   "name": "python",
   "nbconvert_exporter": "python",
   "pygments_lexer": "ipython3",
   "version": "3.10.6"
  }
 },
 "nbformat": 4,
 "nbformat_minor": 5
}

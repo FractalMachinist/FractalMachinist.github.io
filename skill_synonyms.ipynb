{
 "cells": [
  {
   "cell_type": "markdown",
   "id": "04c9040e-39a8-46f4-8ca5-9f2fd6138eba",
   "metadata": {},
   "source": [
    "# What do I want?\n",
    "Skills get listed by many names - they have many homonyms. However, I shouldn't list myself as having every homonym of every skill. Preferably, I'd use the homonym the job post uses.\n",
    "\n",
    "Ideally, I'd list one homonym on my resume base, and the data from a job listing will be used replace that homonym with some?all of that skill's homonyms which appear in the job listing.\n",
    "\n",
    "## Do job listings use multiple homonyms of the same skill?\n",
    "Yes, obviously. What do I do about it?\n",
    "- Include all of them all the time\n",
    "- Include all of them in different places\n",
    "- ~~Only include the most popular~~\n",
    "\n",
    "## What role does `stemming` play?\n",
    "- ~~Nothing~~\n",
    "- Superset some keywords\n",
    "\n",
    "\n",
    "## Implied Skills\n",
    "If a skill gets implied, there should be some process for selecting what to put on the resume.\n",
    "- Easy solution: I select a best homonym\n",
    "- Middle solution: Automatically select the most popular homonym based on all listings\n",
    "- Hard solution: Automatically select the most popular homonym based on similar listings\n",
    "- Vague solution: Automatically select multiple homonyms to include based on some criteria\n",
    "\n",
    "## Changes from previous paradigms\n",
    "- `skill`s and `skill name`s\n",
    "    - `skill` and `skill name` are now conceptually different things.\n",
    "        - A `skill name` is one of many homonyms used to refer to a `skill`.\n",
    "    - The `skill name`s that used to be on my resume are no longer the exact text which might end up in an HTML element.\n",
    "    - The `skill name`s on my resume may map to multiple HTML elements.\n",
    "- stemming\n",
    "    - Stemming now only supersets.\n",
    "- Resume Skill objects\n",
    "    - There is now a pre-render process for Skill objects which depends on the parameters of the render.\n",
    "        - A single Skill object needs to split itself into some N HTML elements for each homonym it needs to display.\n",
    "        - Priority needs to be based on how often that homonym was used in the job listing"
   ]
  },
  {
   "cell_type": "markdown",
   "id": "dcff6165-a785-413a-8843-ba93d78c819f",
   "metadata": {},
   "source": [
    "# Changeover Process\n",
    "1. [x] Update `stemming.md` to reflect the new rules\n",
    "    - [x] Check how badly that performs on its own\n",
    "        - Not bad, it got replaced by synonyms\n",
    "2. [ ] Rework `skill_weights` to distribute weight among synonyms"
   ]
  },
  {
   "cell_type": "code",
   "execution_count": null,
   "id": "a6d54a40-dcb5-4d05-9120-770a3cdff15e",
   "metadata": {},
   "outputs": [],
   "source": []
  }
 ],
 "metadata": {
  "kernelspec": {
   "display_name": "Python 3 (ipykernel)",
   "language": "python",
   "name": "python3"
  },
  "language_info": {
   "codemirror_mode": {
    "name": "ipython",
    "version": 3
   },
   "file_extension": ".py",
   "mimetype": "text/x-python",
   "name": "python",
   "nbconvert_exporter": "python",
   "pygments_lexer": "ipython3",
   "version": "3.10.6"
  }
 },
 "nbformat": 4,
 "nbformat_minor": 5
}

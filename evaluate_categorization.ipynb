{
 "cells": [
  {
   "cell_type": "code",
   "execution_count": 1,
   "id": "2d19ce3b-d746-4e75-9a66-e14e6d46f914",
   "metadata": {},
   "outputs": [],
   "source": [
    "from jobs_skills_weights import get_jobs, get_raw_job_details\n",
    "import skill_weights, synonyms, skill_cat, pandas as pd"
   ]
  },
  {
   "cell_type": "code",
   "execution_count": 18,
   "id": "d2d67019-9988-490b-bdab-13342eead112",
   "metadata": {},
   "outputs": [],
   "source": [
    "jobs = get_jobs(bookmarked=False)\n",
    "raw_job_details = get_raw_job_details(jobs)\n",
    "# job_descriptions = skill_weights.get_job_descriptions(raw_job_details)"
   ]
  },
  {
   "cell_type": "code",
   "execution_count": 19,
   "id": "d2e89c8c-d212-44c8-935a-599d022ac0c4",
   "metadata": {},
   "outputs": [
    {
     "data": {
      "text/plain": [
       "100"
      ]
     },
     "execution_count": 19,
     "metadata": {},
     "output_type": "execute_result"
    }
   ],
   "source": [
    "len(jobs)"
   ]
  },
  {
   "cell_type": "code",
   "execution_count": 20,
   "id": "95c0ed1f-6898-4369-9e8a-03ff4d4983fc",
   "metadata": {},
   "outputs": [
    {
     "data": {
      "text/html": [
       "<div>\n",
       "<style scoped>\n",
       "    .dataframe tbody tr th:only-of-type {\n",
       "        vertical-align: middle;\n",
       "    }\n",
       "\n",
       "    .dataframe tbody tr th {\n",
       "        vertical-align: top;\n",
       "    }\n",
       "\n",
       "    .dataframe thead th {\n",
       "        text-align: right;\n",
       "    }\n",
       "</style>\n",
       "<table border=\"1\" class=\"dataframe\">\n",
       "  <thead>\n",
       "    <tr style=\"text-align: right;\">\n",
       "      <th></th>\n",
       "      <th>company_name</th>\n",
       "      <th>location</th>\n",
       "      <th>role</th>\n",
       "      <th>url</th>\n",
       "      <th>excitement</th>\n",
       "    </tr>\n",
       "    <tr>\n",
       "      <th>id</th>\n",
       "      <th></th>\n",
       "      <th></th>\n",
       "      <th></th>\n",
       "      <th></th>\n",
       "      <th></th>\n",
       "    </tr>\n",
       "  </thead>\n",
       "  <tbody>\n",
       "    <tr>\n",
       "      <th>bd59469c-29f4-41b9-9001-5b7902d766e1</th>\n",
       "      <td>Ansys</td>\n",
       "      <td>Madrid, Community of Madrid, Spain</td>\n",
       "      <td>R&amp;D Engineer II - Python f/m</td>\n",
       "      <td>https://www.linkedin.com/jobs/search/?currentJ...</td>\n",
       "      <td>4</td>\n",
       "    </tr>\n",
       "    <tr>\n",
       "      <th>0124e218-2d33-41e8-907b-5228ea386455</th>\n",
       "      <td>Treibacher Industrie AG</td>\n",
       "      <td>Althofen, Carinthia, Austria</td>\n",
       "      <td>AI/ML Specialist – Software Engineer (m/f/d)</td>\n",
       "      <td>https://www.linkedin.com/jobs/search/?geoId=91...</td>\n",
       "      <td>4</td>\n",
       "    </tr>\n",
       "    <tr>\n",
       "      <th>35b60a7d-f9a3-4f63-b8ab-4db8db49fca8</th>\n",
       "      <td>Helsing</td>\n",
       "      <td>Paris, Île-de-France, France</td>\n",
       "      <td>Deployed AI Engineer</td>\n",
       "      <td>https://www.linkedin.com/jobs/search/?currentJ...</td>\n",
       "      <td>5</td>\n",
       "    </tr>\n",
       "  </tbody>\n",
       "</table>\n",
       "</div>"
      ],
      "text/plain": [
       "                                                 company_name  \\\n",
       "id                                                              \n",
       "bd59469c-29f4-41b9-9001-5b7902d766e1                    Ansys   \n",
       "0124e218-2d33-41e8-907b-5228ea386455  Treibacher Industrie AG   \n",
       "35b60a7d-f9a3-4f63-b8ab-4db8db49fca8                  Helsing   \n",
       "\n",
       "                                                                location  \\\n",
       "id                                                                         \n",
       "bd59469c-29f4-41b9-9001-5b7902d766e1  Madrid, Community of Madrid, Spain   \n",
       "0124e218-2d33-41e8-907b-5228ea386455        Althofen, Carinthia, Austria   \n",
       "35b60a7d-f9a3-4f63-b8ab-4db8db49fca8        Paris, Île-de-France, France   \n",
       "\n",
       "                                                                              role  \\\n",
       "id                                                                                   \n",
       "bd59469c-29f4-41b9-9001-5b7902d766e1                  R&D Engineer II - Python f/m   \n",
       "0124e218-2d33-41e8-907b-5228ea386455  AI/ML Specialist – Software Engineer (m/f/d)   \n",
       "35b60a7d-f9a3-4f63-b8ab-4db8db49fca8                          Deployed AI Engineer   \n",
       "\n",
       "                                                                                    url  \\\n",
       "id                                                                                        \n",
       "bd59469c-29f4-41b9-9001-5b7902d766e1  https://www.linkedin.com/jobs/search/?currentJ...   \n",
       "0124e218-2d33-41e8-907b-5228ea386455  https://www.linkedin.com/jobs/search/?geoId=91...   \n",
       "35b60a7d-f9a3-4f63-b8ab-4db8db49fca8  https://www.linkedin.com/jobs/search/?currentJ...   \n",
       "\n",
       "                                      excitement  \n",
       "id                                                \n",
       "bd59469c-29f4-41b9-9001-5b7902d766e1           4  \n",
       "0124e218-2d33-41e8-907b-5228ea386455           4  \n",
       "35b60a7d-f9a3-4f63-b8ab-4db8db49fca8           5  "
      ]
     },
     "execution_count": 20,
     "metadata": {},
     "output_type": "execute_result"
    }
   ],
   "source": [
    "jobs.head(3)"
   ]
  },
  {
   "cell_type": "markdown",
   "id": "d7731507-fe47-4194-a662-58f927bc91fc",
   "metadata": {},
   "source": [
    "# What is the goal here?\n",
    "How well do we categorize the skills in listings?"
   ]
  },
  {
   "cell_type": "code",
   "execution_count": 53,
   "id": "1d2077c6-0352-47f9-9f99-8c50430efc9a",
   "metadata": {},
   "outputs": [],
   "source": [
    "skill_cat._refresh()\n",
    "synonyms._refresh()"
   ]
  },
  {
   "cell_type": "code",
   "execution_count": 54,
   "id": "37773d6b-61de-4d49-b02f-5fef29aad2bd",
   "metadata": {},
   "outputs": [],
   "source": [
    "job_skills_data = skill_weights.get_job_skills_data(raw_job_details=raw_job_details, collapse_teal_names=False)\n",
    "job_skills_data[\"category\"] = [skill_cat.skill_to_categories.get(skill, {\"UNK\"}) for skill in job_skills_data.index.get_level_values(2)]\n",
    "jsd_count = job_skills_data.pop(\"count\")\n",
    "job_skills_data[\"share of job\"] = jsd_count / (job_skills_data[\"category\"].str.len() * jsd_count.groupby(level=0).sum())\n",
    "job_skills_data = job_skills_data.explode(\"category\").reset_index().set_index([\"id\", \"teal category\", \"category\", \"skill\", \"tealPhrase\"]).sort_index()"
   ]
  },
  {
   "cell_type": "code",
   "execution_count": 55,
   "id": "bb192605-6cef-4001-86fe-5b4ed86d3cc5",
   "metadata": {},
   "outputs": [
    {
     "data": {
      "text/html": [
       "<div>\n",
       "<style scoped>\n",
       "    .dataframe tbody tr th:only-of-type {\n",
       "        vertical-align: middle;\n",
       "    }\n",
       "\n",
       "    .dataframe tbody tr th {\n",
       "        vertical-align: top;\n",
       "    }\n",
       "\n",
       "    .dataframe thead th {\n",
       "        text-align: right;\n",
       "    }\n",
       "</style>\n",
       "<table border=\"1\" class=\"dataframe\">\n",
       "  <thead>\n",
       "    <tr style=\"text-align: right;\">\n",
       "      <th></th>\n",
       "      <th></th>\n",
       "      <th></th>\n",
       "      <th></th>\n",
       "      <th></th>\n",
       "      <th>share of job</th>\n",
       "    </tr>\n",
       "    <tr>\n",
       "      <th>id</th>\n",
       "      <th>teal category</th>\n",
       "      <th>category</th>\n",
       "      <th>skill</th>\n",
       "      <th>tealPhrase</th>\n",
       "      <th></th>\n",
       "    </tr>\n",
       "  </thead>\n",
       "  <tbody>\n",
       "    <tr>\n",
       "      <th rowspan=\"5\" valign=\"top\">0124e218-2d33-41e8-907b-5228ea386455</th>\n",
       "      <th rowspan=\"3\" valign=\"top\">emphasis</th>\n",
       "      <th>Project</th>\n",
       "      <th>managing requirements</th>\n",
       "      <th>requirements</th>\n",
       "      <td>0.018519</td>\n",
       "    </tr>\n",
       "    <tr>\n",
       "      <th rowspan=\"2\" valign=\"top\">UNK</th>\n",
       "      <th>excellent</th>\n",
       "      <th>excellent</th>\n",
       "      <td>0.018519</td>\n",
       "    </tr>\n",
       "    <tr>\n",
       "      <th>knowledge</th>\n",
       "      <th>knowledge</th>\n",
       "      <td>0.037037</td>\n",
       "    </tr>\n",
       "    <tr>\n",
       "      <th rowspan=\"2\" valign=\"top\">functional abilities</th>\n",
       "      <th>Academic</th>\n",
       "      <th>computer science</th>\n",
       "      <th>computer science</th>\n",
       "      <td>0.009259</td>\n",
       "    </tr>\n",
       "    <tr>\n",
       "      <th>Admin</th>\n",
       "      <th>automation</th>\n",
       "      <th>automating</th>\n",
       "      <td>0.018519</td>\n",
       "    </tr>\n",
       "    <tr>\n",
       "      <th>...</th>\n",
       "      <th>...</th>\n",
       "      <th>...</th>\n",
       "      <th>...</th>\n",
       "      <th>...</th>\n",
       "      <td>...</td>\n",
       "    </tr>\n",
       "    <tr>\n",
       "      <th rowspan=\"5\" valign=\"top\">fdd15faa-0804-4b07-9f55-715436213e75</th>\n",
       "      <th rowspan=\"3\" valign=\"top\">general abilities</th>\n",
       "      <th rowspan=\"2\" valign=\"top\">UNK</th>\n",
       "      <th>team performance</th>\n",
       "      <th>team performance</th>\n",
       "      <td>0.007874</td>\n",
       "    </tr>\n",
       "    <tr>\n",
       "      <th>trusted</th>\n",
       "      <th>trusted</th>\n",
       "      <td>0.007874</td>\n",
       "    </tr>\n",
       "    <tr>\n",
       "      <th>Unix</th>\n",
       "      <th>containerization</th>\n",
       "      <th>deployment</th>\n",
       "      <td>0.007874</td>\n",
       "    </tr>\n",
       "    <tr>\n",
       "      <th rowspan=\"2\" valign=\"top\">platform</th>\n",
       "      <th>Code</th>\n",
       "      <th>python</th>\n",
       "      <th>python</th>\n",
       "      <td>0.003937</td>\n",
       "    </tr>\n",
       "    <tr>\n",
       "      <th>Python</th>\n",
       "      <th>python</th>\n",
       "      <th>python</th>\n",
       "      <td>0.003937</td>\n",
       "    </tr>\n",
       "  </tbody>\n",
       "</table>\n",
       "<p>6677 rows × 1 columns</p>\n",
       "</div>"
      ],
      "text/plain": [
       "                                                                                                           share of job\n",
       "id                                   teal category        category skill                 tealPhrase                    \n",
       "0124e218-2d33-41e8-907b-5228ea386455 emphasis             Project  managing requirements requirements          0.018519\n",
       "                                                          UNK      excellent             excellent             0.018519\n",
       "                                                                   knowledge             knowledge             0.037037\n",
       "                                     functional abilities Academic computer science      computer science      0.009259\n",
       "                                                          Admin    automation            automating            0.018519\n",
       "...                                                                                                                 ...\n",
       "fdd15faa-0804-4b07-9f55-715436213e75 general abilities    UNK      team performance      team performance      0.007874\n",
       "                                                                   trusted               trusted               0.007874\n",
       "                                                          Unix     containerization      deployment            0.007874\n",
       "                                     platform             Code     python                python                0.003937\n",
       "                                                          Python   python                python                0.003937\n",
       "\n",
       "[6677 rows x 1 columns]"
      ]
     },
     "execution_count": 55,
     "metadata": {},
     "output_type": "execute_result"
    }
   ],
   "source": [
    "job_skills_data"
   ]
  },
  {
   "cell_type": "code",
   "execution_count": 56,
   "id": "9b988ea2-630b-4361-ac47-b1af9ed43e79",
   "metadata": {},
   "outputs": [],
   "source": [
    "global_shares = (job_skills_data.groupby(level=[1,2,3,4]).sum() / job_skills_data.sum())[\"share of job\"].sort_values(ascending=False)"
   ]
  },
  {
   "cell_type": "code",
   "execution_count": 57,
   "id": "d1a7f3b9-fde4-48b5-aa4f-b4ad548b4398",
   "metadata": {},
   "outputs": [
    {
     "data": {
      "text/plain": [
       "teal category         category             skill             tealPhrase             \n",
       "emphasis              UNK                  experience        experience                 0.063014\n",
       "functional abilities  ML                   machine learning  machine learning           0.036887\n",
       "                                                             ai                         0.019050\n",
       "general abilities     Databases            data              data                       0.018170\n",
       "                      Data Infrastructure  data              data                       0.018170\n",
       "                                                                                          ...   \n",
       "functional abilities  Soft                 agile             agile methodology          0.000050\n",
       "company attributes    Soft                 agile             agile teams                0.000050\n",
       "functional abilities  Project              agile             agile methodology          0.000050\n",
       "                      Unix                 infrastructure    scalable infrastructure    0.000040\n",
       "                      Admin                infrastructure    scalable infrastructure    0.000040\n",
       "Name: share of job, Length: 1376, dtype: float64"
      ]
     },
     "execution_count": 57,
     "metadata": {},
     "output_type": "execute_result"
    }
   ],
   "source": [
    "global_shares"
   ]
  },
  {
   "cell_type": "code",
   "execution_count": 58,
   "id": "e154a861-57b6-4c2b-b3dd-5f8dc6d14c01",
   "metadata": {},
   "outputs": [],
   "source": [
    "uncategorized = global_shares.loc[:, \"UNK\"]"
   ]
  },
  {
   "cell_type": "code",
   "execution_count": 59,
   "id": "8a42bfe8-20da-4d2f-adfd-cc0453d874bf",
   "metadata": {},
   "outputs": [
    {
     "data": {
      "text/plain": [
       "0.5397382347899691"
      ]
     },
     "execution_count": 59,
     "metadata": {},
     "output_type": "execute_result"
    }
   ],
   "source": [
    "# What fraction of mentioned skills are uncategorized?\n",
    "uncategorized.sum() / global_shares.sum()"
   ]
  },
  {
   "cell_type": "code",
   "execution_count": 60,
   "id": "07e90f4d-9a80-4b5d-9df6-26a9def10751",
   "metadata": {},
   "outputs": [
    {
     "data": {
      "text/plain": [
       "0.6256780211213121"
      ]
     },
     "execution_count": 60,
     "metadata": {},
     "output_type": "execute_result"
    }
   ],
   "source": [
    "# How many times more popular are uncategorized skills vs the average?\n",
    "uncategorized.mean() / global_shares.mean()"
   ]
  },
  {
   "cell_type": "code",
   "execution_count": 70,
   "id": "8af52afe-b710-407d-bd68-f3939f8f2369",
   "metadata": {},
   "outputs": [
    {
     "data": {
      "text/plain": [
       "teal category\n",
       "certifications          1.000000\n",
       "company attributes      0.959138\n",
       "emphasis                0.956904\n",
       "functional abilities    0.501841\n",
       "general abilities       0.323855\n",
       "platform                0.231662\n",
       "Name: share of job, dtype: float64"
      ]
     },
     "execution_count": 70,
     "metadata": {},
     "output_type": "execute_result"
    }
   ],
   "source": [
    "# What fraction of skills in each teal category are uncategorized?\n",
    "(uncategorized.groupby(\"teal category\").sum() / global_shares.groupby(\"teal category\").sum()).sort_values(ascending=False)"
   ]
  },
  {
   "cell_type": "code",
   "execution_count": 61,
   "id": "2f4e806d-01fc-4fcf-9047-fe9ca1506e80",
   "metadata": {},
   "outputs": [
    {
     "data": {
      "text/plain": [
       "teal category\n",
       "functional abilities    0.227514\n",
       "emphasis                0.189847\n",
       "general abilities       0.090150\n",
       "company attributes      0.020059\n",
       "platform                0.011094\n",
       "certifications          0.001074\n",
       "Name: share of job, dtype: float64"
      ]
     },
     "execution_count": 61,
     "metadata": {},
     "output_type": "execute_result"
    }
   ],
   "source": [
    "# What share of all skills are uncategorized, broken down by teal category?\n",
    "# Read: {'functional abilities': 0.22...} -> 22% of all skill mentions got the teal category 'functional abilities' and have not been categorized by me.\n",
    "uncategorized.groupby(\"teal category\").sum().sort_values(ascending=False)"
   ]
  },
  {
   "cell_type": "code",
   "execution_count": 72,
   "id": "89fd98de-e951-4861-a0da-a04cb2f93f78",
   "metadata": {},
   "outputs": [
    {
     "data": {
      "text/plain": [
       "skill                     tealPhrase              \n",
       "white space               white space                 0.005680\n",
       "paid                      paid                        0.003701\n",
       "computer vision           computer vision             0.003338\n",
       "monitoring                monitoring                  0.002953\n",
       "enterprise                enterprise                  0.002647\n",
       "events                    events                      0.002444\n",
       "consideration             consideration               0.002109\n",
       "professional development  professional development    0.001855\n",
       "mental health             mental health               0.001730\n",
       "acquisition               acquisition                 0.001689\n",
       "foundry                   foundry                     0.001662\n",
       "development experience    development experience      0.001498\n",
       "signal processing         signal processing           0.001477\n",
       "real time                 real time                   0.001454\n",
       "interview process         interview process           0.001414\n",
       "hiring process            hiring process              0.001376\n",
       "physics                   physics                     0.001270\n",
       "social                    social                      0.001260\n",
       "airflow                   airflow                     0.001219\n",
       "sustainability            sustainability              0.001203\n",
       "Name: share of job, dtype: float64"
      ]
     },
     "execution_count": 72,
     "metadata": {},
     "output_type": "execute_result"
    }
   ],
   "source": [
    "# Among the (currently) most popular teal category, what are the most popular skills?\n",
    "# 'white space' is an artifact of skills-ml, a tool used by teal.\n",
    "# Read: {'computer vision':0.0033} -> Computer Vision is a functional ability I have not categorized, and it accounts for 0.33% of all skill mentions.\n",
    "uncategorized.loc[\"functional abilities\"].sort_values(ascending=False).head(20)"
   ]
  },
  {
   "cell_type": "code",
   "execution_count": null,
   "id": "8e0a87b7-b5f8-4d62-ae9c-c92960b76e51",
   "metadata": {},
   "outputs": [],
   "source": []
  }
 ],
 "metadata": {
  "kernelspec": {
   "display_name": "Python 3 (ipykernel)",
   "language": "python",
   "name": "python3"
  },
  "language_info": {
   "codemirror_mode": {
    "name": "ipython",
    "version": 3
   },
   "file_extension": ".py",
   "mimetype": "text/x-python",
   "name": "python",
   "nbconvert_exporter": "python",
   "pygments_lexer": "ipython3",
   "version": "3.10.6"
  }
 },
 "nbformat": 4,
 "nbformat_minor": 5
}

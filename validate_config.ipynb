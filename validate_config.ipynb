{
 "cells": [
  {
   "cell_type": "code",
   "execution_count": 1,
   "id": "bb14d0d6-0219-4f1b-ab89-15e8150085b8",
   "metadata": {},
   "outputs": [],
   "source": [
    "import skill_cat, synonyms"
   ]
  },
  {
   "cell_type": "code",
   "execution_count": 2,
   "id": "37f28b87-cecf-4b3a-bd05-aa3fb4db5cc6",
   "metadata": {},
   "outputs": [
    {
     "data": {
      "text/plain": [
       "[]"
      ]
     },
     "execution_count": 2,
     "metadata": {},
     "output_type": "execute_result"
    }
   ],
   "source": [
    "skill_cat._refresh();synonyms._refresh()\n",
    "\n",
    "sorted([(skill, synonyms.synonym(skill)) \n",
    "    for skill in skill_cat.skill_to_categories.keys()\n",
    "    if skill in synonyms.non_root_synonyms\n",
    "], key=lambda x:x[1])"
   ]
  },
  {
   "cell_type": "code",
   "execution_count": null,
   "id": "149952bd-2dd3-4292-a33a-a7a6f282bdd1",
   "metadata": {},
   "outputs": [],
   "source": []
  }
 ],
 "metadata": {
  "kernelspec": {
   "display_name": "Python 3 (ipykernel)",
   "language": "python",
   "name": "python3"
  },
  "language_info": {
   "codemirror_mode": {
    "name": "ipython",
    "version": 3
   },
   "file_extension": ".py",
   "mimetype": "text/x-python",
   "name": "python",
   "nbconvert_exporter": "python",
   "pygments_lexer": "ipython3",
   "version": "3.10.6"
  }
 },
 "nbformat": 4,
 "nbformat_minor": 5
}

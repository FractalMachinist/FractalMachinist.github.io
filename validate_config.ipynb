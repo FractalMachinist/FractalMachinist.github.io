{
 "cells": [
  {
   "cell_type": "code",
   "execution_count": 1,
   "id": "bb14d0d6-0219-4f1b-ab89-15e8150085b8",
   "metadata": {},
   "outputs": [],
   "source": [
    "import skill_cat, homonyms"
   ]
  },
  {
   "cell_type": "code",
   "execution_count": 2,
   "id": "d23861bd-435a-4794-b77d-cc8ebcc988b9",
   "metadata": {},
   "outputs": [
    {
     "data": {
      "text/plain": [
       "dict_keys(['machine learning', 'feature engineering', 'network architectures', 'neural networks', 'nlp', 'algorithms', 'algebra', 'mathematics', 'tensorflow', 'deep learning', 'microcontrollers', 'coding', 'bash', 'jupyter', 'python', 'java', 'documentation', 'javascript', 'implementation', 'r', 'software engineering', 'api design', 'frameworks', 'numpy', 'c', 'computer science', 'matlab', 'debugging', 'c++', 'optimization', 'linux', 'oop', 'data', 'nosql', 'aws neptune', 'neo4j', 'data engineering', 'sql', 'jdbc', 'apache tinkerpop', 'mongodb', 'aws', 'azure databricks', 'analysis', 'data pipelines', 'data manipulation', 'scale', 'data science', 'mysql', 'big data', 'computer engineering', 'git', 'kubernetes', 'infrastructure', 'build tools', 'docker', 'tooling', 'unix', 'devops', 'integration', 'containerization', 'service management', 'testing', 'jenkins', 'automation', 'microsoft azure', 'sdlc', 'cloud computing', 'deployment', 'operations', 'end to end', 'ci/cd', 'javafx', 'agile', 'scope', 'value creation', 'iteration', 'management', 'product requirements', 'budget', 'new tools', 'product design', 'project management', 'workflows', 'prototyping', 'stakeholder support', 'business requirements', 'requirements', 'strategy', 'bioinformatics', 'genetics', 'cancer', 'experimentation', 'research', 'multidisciplinary', 'innovation', 'motivated', 'data driven', 'technical communication', 'collaboration', 'ownership', 'problem solving', 'curious', 'leadership', 'agile team', 'communication', 'teamwork', 'remote work', 'graphic design', 'usability', 'web applications', 'css', 'flask', 'html', 'web development', 'react'])"
      ]
     },
     "execution_count": 2,
     "metadata": {},
     "output_type": "execute_result"
    }
   ],
   "source": [
    "skill_cat.skill_to_categories.keys()"
   ]
  },
  {
   "cell_type": "code",
   "execution_count": 3,
   "id": "1a0b9c0b-f24c-483f-95c8-2bf2d0da9348",
   "metadata": {},
   "outputs": [
    {
     "data": {
      "text/plain": [
       "dict_keys(['analytical', 'analyzing', 'analytics', 'automating', 'automate', 'collaborate', 'collaborative', 'collaborating', 'experimenting', 'genetic', 'implementing', 'implement', 'integrations', 'optimizing', 'optimizations', 'optimize', 'agile team', 'agile teams', 'agile methodology', 'business needs', 'business problems', 'github', 'version control', 'implement solutions', 'machine learning algorithms', 'artificial intelligence', 'ai', 'linear algebra', 'matrix algebra', 'cross functional', 'high performance', 'cs', 'technical writing', 'communicate results', 'written communication', 'professional communication', 'communication skills', 'presentation skills', 'writing', 'solving problems', 'problem solvers', 'problem solver', 'rapid prototyping', 'research and development', 'researching', 'requirements', 'product requirements', 'business requirements', 'scalable', 'large scale', 'software development', 'bayesian statistics', 'pipelines', 'pipeline', 'api', 'stakeholders', 'fully remote', 'work independently', 'databricks', 'scalable infrastructure', 'partners', 'convolutional neural networks', 'embedded systems', 'docker', 'kubernetes', 'operations', 'deployment', 'devops', 'javascript', 'react', 'html', 'css', 'flask', 'service management', 'management'])"
      ]
     },
     "execution_count": 3,
     "metadata": {},
     "output_type": "execute_result"
    }
   ],
   "source": [
    "homonyms.homonym_map.keys()"
   ]
  },
  {
   "cell_type": "code",
   "execution_count": 12,
   "id": "37f28b87-cecf-4b3a-bd05-aa3fb4db5cc6",
   "metadata": {},
   "outputs": [
    {
     "data": {
      "text/plain": [
       "[]"
      ]
     },
     "execution_count": 12,
     "metadata": {},
     "output_type": "execute_result"
    }
   ],
   "source": [
    "skill_cat._refresh();homonyms._refresh()\n",
    "\n",
    "sorted([(skill, homonyms.homonym(skill)) \n",
    "    for skill in skill_cat.skill_to_categories.keys()\n",
    "    if skill in homonyms.homonym_map\n",
    "], key=lambda x:x[1])"
   ]
  },
  {
   "cell_type": "code",
   "execution_count": null,
   "id": "149952bd-2dd3-4292-a33a-a7a6f282bdd1",
   "metadata": {},
   "outputs": [],
   "source": []
  }
 ],
 "metadata": {
  "kernelspec": {
   "display_name": "Python 3 (ipykernel)",
   "language": "python",
   "name": "python3"
  },
  "language_info": {
   "codemirror_mode": {
    "name": "ipython",
    "version": 3
   },
   "file_extension": ".py",
   "mimetype": "text/x-python",
   "name": "python",
   "nbconvert_exporter": "python",
   "pygments_lexer": "ipython3",
   "version": "3.10.6"
  }
 },
 "nbformat": 4,
 "nbformat_minor": 5
}

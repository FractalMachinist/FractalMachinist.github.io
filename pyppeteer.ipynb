{
 "cells": [
  {
   "cell_type": "code",
   "execution_count": 1,
   "id": "1eb5dbf6-caac-433b-8efd-a1fa69efb41f",
   "metadata": {},
   "outputs": [],
   "source": [
    "# !pip install nest_asyncio\n",
    "import nest_asyncio\n",
    "nest_asyncio.apply()\n",
    "import asyncio\n",
    "from pyppeteer import launch"
   ]
  },
  {
   "cell_type": "code",
   "execution_count": 7,
   "id": "d6d313dc-55f7-41df-9471-0395d8750632",
   "metadata": {},
   "outputs": [],
   "source": [
    "pairs = [(\n",
    "    # \"http://localhost:8000/pdf_sources/tmp/00a5c9cd-32f7-4564-8613-28bc29f89556.html\", \n",
    "    \"http://localhost:8000/test/pyppeteer/basepage.html\",\n",
    "    f\"/experiments/FractalMachinist.github.io/docs/test/pyppeteer/export_{i}.pdf\"\n",
    ") for i in range(10)]"
   ]
  },
  {
   "cell_type": "code",
   "execution_count": null,
   "id": "484a303f-312d-4767-8e31-95e8a8f47f88",
   "metadata": {},
   "outputs": [],
   "source": []
  },
  {
   "cell_type": "code",
   "execution_count": 8,
   "id": "6b236402-a8b8-456c-8b6d-0b39d69f1582",
   "metadata": {},
   "outputs": [],
   "source": [
    "async def run_browser(pairs:tuple[str, str]):\n",
    "    print(\"Awaiting browser\")\n",
    "    browser = await launch(\n",
    "        options={\n",
    "            'headless': True,\n",
    "            'args': [\n",
    "                '--no-sandbox',\n",
    "                '--run-all-compositor-stages-before-draw',\n",
    "                '--webkit-print-color-adjust-property',\n",
    "                '--disable-setuid-sandbox',\n",
    "                '--disable-dev-shm-usage',\n",
    "                '--disable-accelerated-2d-canvas',\n",
    "                '--no-first-run',\n",
    "                '--no-zygote',\n",
    "                '--single-process',\n",
    "                '--disable-gpu',\n",
    "            ],\n",
    "        },\n",
    "    )\n",
    "    print(\"Awaiting page\")\n",
    "    try:\n",
    "        page = await browser.newPage()\n",
    "        for URL, pdf_path in pairs:\n",
    "            print(f\"Printing {URL} to {pdf_path}\")\n",
    "            await page.goto(URL)\n",
    "            await asyncio.sleep(0.1)\n",
    "            await page.screenshot({'path':pdf_path+\".png\"})\n",
    "            await page.pdf({\n",
    "                'path':pdf_path,\n",
    "                'printBackground':True\n",
    "            })\n",
    "    finally:\n",
    "        print(\"Awaiting browser close\")\n",
    "        await browser.close()\n",
    "        print(\"Browser Closed\")"
   ]
  },
  {
   "cell_type": "code",
   "execution_count": 9,
   "id": "749f2ecd-d59d-44c0-befc-d2febdf4082f",
   "metadata": {},
   "outputs": [
    {
     "name": "stdout",
     "output_type": "stream",
     "text": [
      "Awaiting browser\n",
      "Awaiting page\n",
      "Printing http://localhost:8000/test/pyppeteer/basepage.html to /experiments/FractalMachinist.github.io/docs/test/pyppeteer/export_0.pdf\n",
      "Printing http://localhost:8000/test/pyppeteer/basepage.html to /experiments/FractalMachinist.github.io/docs/test/pyppeteer/export_1.pdf\n",
      "Printing http://localhost:8000/test/pyppeteer/basepage.html to /experiments/FractalMachinist.github.io/docs/test/pyppeteer/export_2.pdf\n",
      "Printing http://localhost:8000/test/pyppeteer/basepage.html to /experiments/FractalMachinist.github.io/docs/test/pyppeteer/export_3.pdf\n",
      "Printing http://localhost:8000/test/pyppeteer/basepage.html to /experiments/FractalMachinist.github.io/docs/test/pyppeteer/export_4.pdf\n",
      "Printing http://localhost:8000/test/pyppeteer/basepage.html to /experiments/FractalMachinist.github.io/docs/test/pyppeteer/export_5.pdf\n",
      "Printing http://localhost:8000/test/pyppeteer/basepage.html to /experiments/FractalMachinist.github.io/docs/test/pyppeteer/export_6.pdf\n",
      "Printing http://localhost:8000/test/pyppeteer/basepage.html to /experiments/FractalMachinist.github.io/docs/test/pyppeteer/export_7.pdf\n",
      "Printing http://localhost:8000/test/pyppeteer/basepage.html to /experiments/FractalMachinist.github.io/docs/test/pyppeteer/export_8.pdf\n",
      "Printing http://localhost:8000/test/pyppeteer/basepage.html to /experiments/FractalMachinist.github.io/docs/test/pyppeteer/export_9.pdf\n",
      "Awaiting browser close\n",
      "Browser Closed\n"
     ]
    }
   ],
   "source": [
    "asyncio.get_event_loop().run_until_complete(run_browser(pairs))"
   ]
  },
  {
   "cell_type": "code",
   "execution_count": 85,
   "id": "ba280fe1-22f1-4687-aff7-058c14b7c43c",
   "metadata": {},
   "outputs": [],
   "source": [
    "# async def run_browser(URL, pdf_path):\n",
    "#     print(\"Awaiting browser\")\n",
    "#     browser = await launch(\n",
    "#         options={\n",
    "#             'headless': True,\n",
    "#             'args': [\n",
    "#                 '--no-sandbox',\n",
    "#                 '--run-all-compositor-stages-before-draw',\n",
    "#                 '--webkit-print-color-adjust-property',\n",
    "#                 '--disable-setuid-sandbox',\n",
    "#                 '--disable-dev-shm-usage',\n",
    "#                 '--disable-accelerated-2d-canvas',\n",
    "#                 '--no-first-run',\n",
    "#                 '--no-zygote',\n",
    "#                 '--single-process',\n",
    "#                 '--disable-gpu',\n",
    "#             ],\n",
    "#         },\n",
    "#     )\n",
    "#     print(\"Awaiting page\")\n",
    "#     try:\n",
    "#         page = await browser.newPage()\n",
    "#         await page.emulateMedia('print')\n",
    "#         # for URL, pdf_path in pairs:\n",
    "#         while input(\"Enter to continue, all else breaks\") == \"\":\n",
    "#             # print(f\"Printing {URL} to {pdf_path}\")\n",
    "#             await page.goto(URL)\n",
    "#             await asyncio.sleep(0.1)\n",
    "#             await page.pdf({\n",
    "#                 'path':pdf_path,\n",
    "#                 'printBackground':True\n",
    "#             })\n",
    "#     finally:\n",
    "#         print(\"Awaiting browser close\")\n",
    "#         await browser.close()\n",
    "#         print(\"Browser Closed\")"
   ]
  },
  {
   "cell_type": "code",
   "execution_count": null,
   "id": "b5cc6bda-8d8a-465a-80aa-1a8d51395d7d",
   "metadata": {},
   "outputs": [
    {
     "name": "stdout",
     "output_type": "stream",
     "text": [
      "Awaiting browser\n",
      "Awaiting page\n"
     ]
    },
    {
     "name": "stdin",
     "output_type": "stream",
     "text": [
      "Enter to continue, all else breaks \n"
     ]
    }
   ],
   "source": [
    "# asyncio.get_event_loop().run_until_complete(run_browser(\n",
    "#     \"http://localhost:8000/test/pyppeteer/basepage.html\",\n",
    "#     \"/experiments/FractalMachinist.github.io/docs/test/pyppeteer/export.pdf\"\n",
    "# ))"
   ]
  },
  {
   "cell_type": "code",
   "execution_count": null,
   "id": "5f5f6105-8ddf-43a0-889f-bf7d396cc8ca",
   "metadata": {},
   "outputs": [],
   "source": []
  }
 ],
 "metadata": {
  "kernelspec": {
   "display_name": "Python 3 (ipykernel)",
   "language": "python",
   "name": "python3"
  },
  "language_info": {
   "codemirror_mode": {
    "name": "ipython",
    "version": 3
   },
   "file_extension": ".py",
   "mimetype": "text/x-python",
   "name": "python",
   "nbconvert_exporter": "python",
   "pygments_lexer": "ipython3",
   "version": "3.10.6"
  }
 },
 "nbformat": 4,
 "nbformat_minor": 5
}

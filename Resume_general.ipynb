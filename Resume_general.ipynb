{
 "cells": [
  {
   "cell_type": "code",
   "execution_count": 1,
   "id": "11571a77-e947-4d32-a5e2-09075a9f4f5b",
   "metadata": {},
   "outputs": [],
   "source": [
    "from resume import my_resume"
   ]
  },
  {
   "cell_type": "code",
   "execution_count": 2,
   "id": "b7082708-afde-4c1b-a454-0c0330746b9d",
   "metadata": {},
   "outputs": [],
   "source": [
    "from IPython.display import display, HTML, Markdown, clear_output, FileLink\n",
    "from jobs_skills_weights import get_jobs, get_raw_job_details\n",
    "import skill_weights\n",
    "import os, shutil, re\n",
    "from mark_status import mark_status\n",
    "import requests"
   ]
  },
  {
   "cell_type": "markdown",
   "id": "e0760f68-b383-44b8-a82f-d38cd47b0e3e",
   "metadata": {
    "tags": []
   },
   "source": [
    "# Pulling Job Data"
   ]
  },
  {
   "cell_type": "code",
   "execution_count": 3,
   "id": "5a3774dc-246b-4409-91f9-e2689674d8b8",
   "metadata": {},
   "outputs": [],
   "source": [
    "jobs = get_jobs(bookmarked=False)\n",
    "raw_job_details = get_raw_job_details(jobs)\n",
    "job_skill_weights = skill_weights.get_job_skill_weights(raw_job_details)"
   ]
  },
  {
   "cell_type": "markdown",
   "id": "d8db41f1-7ae2-4e53-a0a1-6917398d7f6c",
   "metadata": {
    "tags": []
   },
   "source": [
    "# Generation"
   ]
  },
  {
   "cell_type": "code",
   "execution_count": 4,
   "id": "41295e00-0159-4c11-b771-bd110618d1b2",
   "metadata": {},
   "outputs": [],
   "source": [
    "skill_text_weights_con = lambda weights, job_id: weights.loc[job_id, :].groupby(level=0).apply(lambda df: df.xs(df.name).to_dict('index')).to_dict()"
   ]
  },
  {
   "cell_type": "code",
   "execution_count": 5,
   "id": "9b422779-3bfd-4fb9-92d9-3612283df8bb",
   "metadata": {},
   "outputs": [],
   "source": [
    "popular_weights = job_skill_weights.mul(jobs[\"excitement\"]/5.0, axis=\"index\")\n",
    "popular_weights = popular_weights.groupby(level=[\"skill\", \"skill text\"]).sum() / popular_weights.sum()\n",
    "popular_weights_dict = popular_weights.groupby(level=0).apply(lambda df: df.xs(df.name).to_dict('index')).to_dict()"
   ]
  },
  {
   "cell_type": "code",
   "execution_count": 6,
   "id": "1e7f7966-ef85-4c9c-8154-a7e9f410df38",
   "metadata": {},
   "outputs": [],
   "source": [
    "base_args = {\n",
    "    \"should_render_all\":True,\n",
    "    \"trim_skill_html_data\":True,\n",
    "    \"goal_small\":True,\n",
    "    \"skill_text_weights\":popular_weights_dict\n",
    "}"
   ]
  },
  {
   "cell_type": "code",
   "execution_count": 7,
   "id": "37ab4179-28b7-40fe-994e-fd1d033db9d1",
   "metadata": {},
   "outputs": [],
   "source": [
    "my_resume.write_html_to_file(\n",
    "    stylesheet='chalkboard',\n",
    "    filepath=\"docs/index.html\",\n",
    "    **base_args\n",
    ")"
   ]
  },
  {
   "cell_type": "code",
   "execution_count": 8,
   "id": "84e1dc1e-583f-49fa-bf85-1b2974bfbcd8",
   "metadata": {},
   "outputs": [],
   "source": [
    "my_resume.write_html_to_file(\n",
    "    stylesheet='lighttheme',\n",
    "    filepath=\"docs/resumes/index.html\",\n",
    "    **base_args\n",
    ")"
   ]
  },
  {
   "cell_type": "code",
   "execution_count": 9,
   "id": "02cc8a95-a2f5-473b-9284-a9ca63fcdd90",
   "metadata": {},
   "outputs": [],
   "source": [
    "my_resume.export_pdf(\n",
    "    \"docs/resumes/full.pdf\",\n",
    "    alt_template_prefixes={\"*\":\"pdf\"},\n",
    "    **base_args\n",
    ")"
   ]
  },
  {
   "cell_type": "code",
   "execution_count": null,
   "id": "c5b573eb-8bb8-4ac1-977b-c07c214eb584",
   "metadata": {},
   "outputs": [],
   "source": []
  }
 ],
 "metadata": {
  "kernelspec": {
   "display_name": "Python 3 (ipykernel)",
   "language": "python",
   "name": "python3"
  },
  "language_info": {
   "codemirror_mode": {
    "name": "ipython",
    "version": 3
   },
   "file_extension": ".py",
   "mimetype": "text/x-python",
   "name": "python",
   "nbconvert_exporter": "python",
   "pygments_lexer": "ipython3",
   "version": "3.10.6"
  }
 },
 "nbformat": 4,
 "nbformat_minor": 5
}

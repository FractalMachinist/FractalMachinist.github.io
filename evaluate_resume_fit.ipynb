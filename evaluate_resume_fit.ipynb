{
 "cells": [
  {
   "cell_type": "code",
   "execution_count": 1,
   "id": "2d19ce3b-d746-4e75-9a66-e14e6d46f914",
   "metadata": {},
   "outputs": [],
   "source": [
    "from jobs_skills_weights import get_jobs, get_raw_job_details\n",
    "import skill_weights, homonyms, skill_cat, pandas as pd"
   ]
  },
  {
   "cell_type": "code",
   "execution_count": 2,
   "id": "1d2077c6-0352-47f9-9f99-8c50430efc9a",
   "metadata": {},
   "outputs": [],
   "source": [
    "skill_cat._refresh()\n",
    "homonyms._refresh()"
   ]
  },
  {
   "cell_type": "code",
   "execution_count": 3,
   "id": "d2d67019-9988-490b-bdab-13342eead112",
   "metadata": {},
   "outputs": [],
   "source": [
    "jobs = get_jobs(bookmarked=False)\n",
    "raw_job_details = get_raw_job_details(jobs)\n",
    "# job_descriptions = skill_weights.get_job_descriptions(raw_job_details)"
   ]
  },
  {
   "cell_type": "code",
   "execution_count": 4,
   "id": "d2e89c8c-d212-44c8-935a-599d022ac0c4",
   "metadata": {},
   "outputs": [
    {
     "data": {
      "text/plain": [
       "100"
      ]
     },
     "execution_count": 4,
     "metadata": {},
     "output_type": "execute_result"
    }
   ],
   "source": [
    "len(jobs)"
   ]
  },
  {
   "cell_type": "code",
   "execution_count": 5,
   "id": "95c0ed1f-6898-4369-9e8a-03ff4d4983fc",
   "metadata": {},
   "outputs": [
    {
     "data": {
      "text/html": [
       "<div>\n",
       "<style scoped>\n",
       "    .dataframe tbody tr th:only-of-type {\n",
       "        vertical-align: middle;\n",
       "    }\n",
       "\n",
       "    .dataframe tbody tr th {\n",
       "        vertical-align: top;\n",
       "    }\n",
       "\n",
       "    .dataframe thead th {\n",
       "        text-align: right;\n",
       "    }\n",
       "</style>\n",
       "<table border=\"1\" class=\"dataframe\">\n",
       "  <thead>\n",
       "    <tr style=\"text-align: right;\">\n",
       "      <th></th>\n",
       "      <th>company_name</th>\n",
       "      <th>location</th>\n",
       "      <th>role</th>\n",
       "      <th>url</th>\n",
       "      <th>excitement</th>\n",
       "    </tr>\n",
       "    <tr>\n",
       "      <th>id</th>\n",
       "      <th></th>\n",
       "      <th></th>\n",
       "      <th></th>\n",
       "      <th></th>\n",
       "      <th></th>\n",
       "    </tr>\n",
       "  </thead>\n",
       "  <tbody>\n",
       "    <tr>\n",
       "      <th>bd59469c-29f4-41b9-9001-5b7902d766e1</th>\n",
       "      <td>Ansys</td>\n",
       "      <td>Madrid, Community of Madrid, Spain</td>\n",
       "      <td>R&amp;D Engineer II - Python f/m</td>\n",
       "      <td>https://www.linkedin.com/jobs/search/?currentJ...</td>\n",
       "      <td>4</td>\n",
       "    </tr>\n",
       "    <tr>\n",
       "      <th>0124e218-2d33-41e8-907b-5228ea386455</th>\n",
       "      <td>Treibacher Industrie AG</td>\n",
       "      <td>Althofen, Carinthia, Austria</td>\n",
       "      <td>AI/ML Specialist – Software Engineer (m/f/d)</td>\n",
       "      <td>https://www.linkedin.com/jobs/search/?geoId=91...</td>\n",
       "      <td>4</td>\n",
       "    </tr>\n",
       "    <tr>\n",
       "      <th>35b60a7d-f9a3-4f63-b8ab-4db8db49fca8</th>\n",
       "      <td>Helsing</td>\n",
       "      <td>Paris, Île-de-France, France</td>\n",
       "      <td>Deployed AI Engineer</td>\n",
       "      <td>https://www.linkedin.com/jobs/search/?currentJ...</td>\n",
       "      <td>5</td>\n",
       "    </tr>\n",
       "  </tbody>\n",
       "</table>\n",
       "</div>"
      ],
      "text/plain": [
       "                                                 company_name  \\\n",
       "id                                                              \n",
       "bd59469c-29f4-41b9-9001-5b7902d766e1                    Ansys   \n",
       "0124e218-2d33-41e8-907b-5228ea386455  Treibacher Industrie AG   \n",
       "35b60a7d-f9a3-4f63-b8ab-4db8db49fca8                  Helsing   \n",
       "\n",
       "                                                                location  \\\n",
       "id                                                                         \n",
       "bd59469c-29f4-41b9-9001-5b7902d766e1  Madrid, Community of Madrid, Spain   \n",
       "0124e218-2d33-41e8-907b-5228ea386455        Althofen, Carinthia, Austria   \n",
       "35b60a7d-f9a3-4f63-b8ab-4db8db49fca8        Paris, Île-de-France, France   \n",
       "\n",
       "                                                                              role  \\\n",
       "id                                                                                   \n",
       "bd59469c-29f4-41b9-9001-5b7902d766e1                  R&D Engineer II - Python f/m   \n",
       "0124e218-2d33-41e8-907b-5228ea386455  AI/ML Specialist – Software Engineer (m/f/d)   \n",
       "35b60a7d-f9a3-4f63-b8ab-4db8db49fca8                          Deployed AI Engineer   \n",
       "\n",
       "                                                                                    url  \\\n",
       "id                                                                                        \n",
       "bd59469c-29f4-41b9-9001-5b7902d766e1  https://www.linkedin.com/jobs/search/?currentJ...   \n",
       "0124e218-2d33-41e8-907b-5228ea386455  https://www.linkedin.com/jobs/search/?geoId=91...   \n",
       "35b60a7d-f9a3-4f63-b8ab-4db8db49fca8  https://www.linkedin.com/jobs/search/?currentJ...   \n",
       "\n",
       "                                      excitement  \n",
       "id                                                \n",
       "bd59469c-29f4-41b9-9001-5b7902d766e1           4  \n",
       "0124e218-2d33-41e8-907b-5228ea386455           4  \n",
       "35b60a7d-f9a3-4f63-b8ab-4db8db49fca8           5  "
      ]
     },
     "execution_count": 5,
     "metadata": {},
     "output_type": "execute_result"
    }
   ],
   "source": [
    "jobs.head(3)"
   ]
  },
  {
   "cell_type": "markdown",
   "id": "d7731507-fe47-4194-a662-58f927bc91fc",
   "metadata": {},
   "source": [
    "# What is the goal here?\n",
    "How well do we categorize the skills in listings?"
   ]
  },
  {
   "cell_type": "code",
   "execution_count": 6,
   "id": "37773d6b-61de-4d49-b02f-5fef29aad2bd",
   "metadata": {},
   "outputs": [],
   "source": [
    "job_skills_data = skill_weights.get_job_skills_data(raw_job_details=raw_job_details, collapse_teal_names=False)\n",
    "job_skills_data[\"category\"] = [skill_cat.skill_to_categories.get(skill, {\"UNK\"}) for skill in job_skills_data.index.get_level_values(2)]\n",
    "jsd_count = job_skills_data.pop(\"count\")\n",
    "job_skills_data[\"share of job\"] = jsd_count / (job_skills_data[\"category\"].str.len() * jsd_count.groupby(level=0).sum())\n",
    "job_skills_data = job_skills_data.explode(\"category\").reset_index().set_index([\"id\", \"teal category\", \"category\", \"skill\", \"tealPhrase\"]).sort_index()"
   ]
  },
  {
   "cell_type": "code",
   "execution_count": 7,
   "id": "bb192605-6cef-4001-86fe-5b4ed86d3cc5",
   "metadata": {},
   "outputs": [
    {
     "data": {
      "text/html": [
       "<div>\n",
       "<style scoped>\n",
       "    .dataframe tbody tr th:only-of-type {\n",
       "        vertical-align: middle;\n",
       "    }\n",
       "\n",
       "    .dataframe tbody tr th {\n",
       "        vertical-align: top;\n",
       "    }\n",
       "\n",
       "    .dataframe thead th {\n",
       "        text-align: right;\n",
       "    }\n",
       "</style>\n",
       "<table border=\"1\" class=\"dataframe\">\n",
       "  <thead>\n",
       "    <tr style=\"text-align: right;\">\n",
       "      <th></th>\n",
       "      <th></th>\n",
       "      <th></th>\n",
       "      <th></th>\n",
       "      <th></th>\n",
       "      <th>share of job</th>\n",
       "    </tr>\n",
       "    <tr>\n",
       "      <th>id</th>\n",
       "      <th>teal category</th>\n",
       "      <th>category</th>\n",
       "      <th>skill</th>\n",
       "      <th>tealPhrase</th>\n",
       "      <th></th>\n",
       "    </tr>\n",
       "  </thead>\n",
       "  <tbody>\n",
       "    <tr>\n",
       "      <th rowspan=\"5\" valign=\"top\">0124e218-2d33-41e8-907b-5228ea386455</th>\n",
       "      <th rowspan=\"3\" valign=\"top\">emphasis</th>\n",
       "      <th rowspan=\"3\" valign=\"top\">UNK</th>\n",
       "      <th>excellent</th>\n",
       "      <th>excellent</th>\n",
       "      <td>0.018519</td>\n",
       "    </tr>\n",
       "    <tr>\n",
       "      <th>knowledge</th>\n",
       "      <th>knowledge</th>\n",
       "      <td>0.037037</td>\n",
       "    </tr>\n",
       "    <tr>\n",
       "      <th>managing requirements</th>\n",
       "      <th>requirements</th>\n",
       "      <td>0.018519</td>\n",
       "    </tr>\n",
       "    <tr>\n",
       "      <th rowspan=\"2\" valign=\"top\">functional abilities</th>\n",
       "      <th>Academic</th>\n",
       "      <th>computer science</th>\n",
       "      <th>computer science</th>\n",
       "      <td>0.009259</td>\n",
       "    </tr>\n",
       "    <tr>\n",
       "      <th>Admin</th>\n",
       "      <th>automation</th>\n",
       "      <th>automating</th>\n",
       "      <td>0.018519</td>\n",
       "    </tr>\n",
       "    <tr>\n",
       "      <th>...</th>\n",
       "      <th>...</th>\n",
       "      <th>...</th>\n",
       "      <th>...</th>\n",
       "      <th>...</th>\n",
       "      <td>...</td>\n",
       "    </tr>\n",
       "    <tr>\n",
       "      <th rowspan=\"5\" valign=\"top\">fdd15faa-0804-4b07-9f55-715436213e75</th>\n",
       "      <th rowspan=\"4\" valign=\"top\">general abilities</th>\n",
       "      <th rowspan=\"4\" valign=\"top\">UNK</th>\n",
       "      <th>resilience</th>\n",
       "      <th>resilience</th>\n",
       "      <td>0.007874</td>\n",
       "    </tr>\n",
       "    <tr>\n",
       "      <th>strong relationships</th>\n",
       "      <th>strong relationships</th>\n",
       "      <td>0.007874</td>\n",
       "    </tr>\n",
       "    <tr>\n",
       "      <th>team performance</th>\n",
       "      <th>team performance</th>\n",
       "      <td>0.007874</td>\n",
       "    </tr>\n",
       "    <tr>\n",
       "      <th>trusted</th>\n",
       "      <th>trusted</th>\n",
       "      <td>0.007874</td>\n",
       "    </tr>\n",
       "    <tr>\n",
       "      <th>platform</th>\n",
       "      <th>Code</th>\n",
       "      <th>python</th>\n",
       "      <th>python</th>\n",
       "      <td>0.007874</td>\n",
       "    </tr>\n",
       "  </tbody>\n",
       "</table>\n",
       "<p>6248 rows × 1 columns</p>\n",
       "</div>"
      ],
      "text/plain": [
       "                                                                                                               share of job\n",
       "id                                   teal category        category skill                 tealPhrase                        \n",
       "0124e218-2d33-41e8-907b-5228ea386455 emphasis             UNK      excellent             excellent                 0.018519\n",
       "                                                                   knowledge             knowledge                 0.037037\n",
       "                                                                   managing requirements requirements              0.018519\n",
       "                                     functional abilities Academic computer science      computer science          0.009259\n",
       "                                                          Admin    automation            automating                0.018519\n",
       "...                                                                                                                     ...\n",
       "fdd15faa-0804-4b07-9f55-715436213e75 general abilities    UNK      resilience            resilience                0.007874\n",
       "                                                                   strong relationships  strong relationships      0.007874\n",
       "                                                                   team performance      team performance          0.007874\n",
       "                                                                   trusted               trusted                   0.007874\n",
       "                                     platform             Code     python                python                    0.007874\n",
       "\n",
       "[6248 rows x 1 columns]"
      ]
     },
     "execution_count": 7,
     "metadata": {},
     "output_type": "execute_result"
    }
   ],
   "source": [
    "job_skills_data"
   ]
  },
  {
   "cell_type": "code",
   "execution_count": 8,
   "id": "9b988ea2-630b-4361-ac47-b1af9ed43e79",
   "metadata": {},
   "outputs": [],
   "source": [
    "global_shares = (job_skills_data.groupby(level=[1,2,3,4]).sum() / job_skills_data.sum())[\"share of job\"].sort_values(ascending=False)"
   ]
  },
  {
   "cell_type": "code",
   "execution_count": 9,
   "id": "d1a7f3b9-fde4-48b5-aa4f-b4ad548b4398",
   "metadata": {},
   "outputs": [
    {
     "data": {
      "text/plain": [
       "teal category         category  skill             tealPhrase             \n",
       "emphasis              UNK       experience        experience                 0.063014\n",
       "general abilities     Data      data              data                       0.054511\n",
       "functional abilities  ML        machine learning  machine learning           0.036887\n",
       "                                                  ai                         0.019050\n",
       "general abilities     Academic  research          research                   0.017116\n",
       "                                                                               ...   \n",
       "functional abilities  UNK       dissemination     dissemination              0.000054\n",
       "general abilities     UNK       special projects  special projects           0.000054\n",
       "functional abilities  UNK       process analysis  process analysis           0.000054\n",
       "                      Unix      infrastructure    scalable infrastructure    0.000040\n",
       "                      Admin     infrastructure    scalable infrastructure    0.000040\n",
       "Name: share of job, Length: 1361, dtype: float64"
      ]
     },
     "execution_count": 9,
     "metadata": {},
     "output_type": "execute_result"
    }
   ],
   "source": [
    "global_shares"
   ]
  },
  {
   "cell_type": "code",
   "execution_count": 16,
   "id": "2f4e806d-01fc-4fcf-9047-fe9ca1506e80",
   "metadata": {},
   "outputs": [
    {
     "ename": "KeyError",
     "evalue": "'bash'",
     "output_type": "error",
     "traceback": [
      "\u001b[0;31m---------------------------------------------------------------------------\u001b[0m",
      "\u001b[0;31mKeyError\u001b[0m                                  Traceback (most recent call last)",
      "File \u001b[0;32m/opt/conda/lib/python3.10/site-packages/pandas/core/indexes/base.py:3629\u001b[0m, in \u001b[0;36mIndex.get_loc\u001b[0;34m(self, key, method, tolerance)\u001b[0m\n\u001b[1;32m   3628\u001b[0m \u001b[38;5;28;01mtry\u001b[39;00m:\n\u001b[0;32m-> 3629\u001b[0m     \u001b[38;5;28;01mreturn\u001b[39;00m \u001b[38;5;28;43mself\u001b[39;49m\u001b[38;5;241;43m.\u001b[39;49m\u001b[43m_engine\u001b[49m\u001b[38;5;241;43m.\u001b[39;49m\u001b[43mget_loc\u001b[49m\u001b[43m(\u001b[49m\u001b[43mcasted_key\u001b[49m\u001b[43m)\u001b[49m\n\u001b[1;32m   3630\u001b[0m \u001b[38;5;28;01mexcept\u001b[39;00m \u001b[38;5;167;01mKeyError\u001b[39;00m \u001b[38;5;28;01mas\u001b[39;00m err:\n",
      "File \u001b[0;32m/opt/conda/lib/python3.10/site-packages/pandas/_libs/index.pyx:136\u001b[0m, in \u001b[0;36mpandas._libs.index.IndexEngine.get_loc\u001b[0;34m()\u001b[0m\n",
      "File \u001b[0;32m/opt/conda/lib/python3.10/site-packages/pandas/_libs/index.pyx:163\u001b[0m, in \u001b[0;36mpandas._libs.index.IndexEngine.get_loc\u001b[0;34m()\u001b[0m\n",
      "File \u001b[0;32mpandas/_libs/hashtable_class_helper.pxi:5198\u001b[0m, in \u001b[0;36mpandas._libs.hashtable.PyObjectHashTable.get_item\u001b[0;34m()\u001b[0m\n",
      "File \u001b[0;32mpandas/_libs/hashtable_class_helper.pxi:5206\u001b[0m, in \u001b[0;36mpandas._libs.hashtable.PyObjectHashTable.get_item\u001b[0;34m()\u001b[0m\n",
      "\u001b[0;31mKeyError\u001b[0m: 'bash'",
      "\nThe above exception was the direct cause of the following exception:\n",
      "\u001b[0;31mKeyError\u001b[0m                                  Traceback (most recent call last)",
      "Input \u001b[0;32mIn [16]\u001b[0m, in \u001b[0;36m<cell line: 1>\u001b[0;34m()\u001b[0m\n\u001b[0;32m----> 1\u001b[0m \u001b[43mglobal_shares\u001b[49m\u001b[38;5;241;43m.\u001b[39;49m\u001b[43mloc\u001b[49m\u001b[43m[\u001b[49m\u001b[43m:\u001b[49m\u001b[43m,\u001b[49m\u001b[43m \u001b[49m\u001b[43m:\u001b[49m\u001b[43m,\u001b[49m\u001b[43m \u001b[49m\u001b[43m:\u001b[49m\u001b[43m,\u001b[49m\u001b[43m \u001b[49m\u001b[38;5;124;43m\"\u001b[39;49m\u001b[38;5;124;43mbash\u001b[39;49m\u001b[38;5;124;43m\"\u001b[39;49m\u001b[43m]\u001b[49m\u001b[38;5;241m.\u001b[39msum()\n",
      "File \u001b[0;32m/opt/conda/lib/python3.10/site-packages/pandas/core/indexing.py:961\u001b[0m, in \u001b[0;36m_LocationIndexer.__getitem__\u001b[0;34m(self, key)\u001b[0m\n\u001b[1;32m    959\u001b[0m     \u001b[38;5;28;01mif\u001b[39;00m \u001b[38;5;28mself\u001b[39m\u001b[38;5;241m.\u001b[39m_is_scalar_access(key):\n\u001b[1;32m    960\u001b[0m         \u001b[38;5;28;01mreturn\u001b[39;00m \u001b[38;5;28mself\u001b[39m\u001b[38;5;241m.\u001b[39mobj\u001b[38;5;241m.\u001b[39m_get_value(\u001b[38;5;241m*\u001b[39mkey, takeable\u001b[38;5;241m=\u001b[39m\u001b[38;5;28mself\u001b[39m\u001b[38;5;241m.\u001b[39m_takeable)\n\u001b[0;32m--> 961\u001b[0m     \u001b[38;5;28;01mreturn\u001b[39;00m \u001b[38;5;28;43mself\u001b[39;49m\u001b[38;5;241;43m.\u001b[39;49m\u001b[43m_getitem_tuple\u001b[49m\u001b[43m(\u001b[49m\u001b[43mkey\u001b[49m\u001b[43m)\u001b[49m\n\u001b[1;32m    962\u001b[0m \u001b[38;5;28;01melse\u001b[39;00m:\n\u001b[1;32m    963\u001b[0m     \u001b[38;5;66;03m# we by definition only have the 0th axis\u001b[39;00m\n\u001b[1;32m    964\u001b[0m     axis \u001b[38;5;241m=\u001b[39m \u001b[38;5;28mself\u001b[39m\u001b[38;5;241m.\u001b[39maxis \u001b[38;5;129;01mor\u001b[39;00m \u001b[38;5;241m0\u001b[39m\n",
      "File \u001b[0;32m/opt/conda/lib/python3.10/site-packages/pandas/core/indexing.py:1140\u001b[0m, in \u001b[0;36m_LocIndexer._getitem_tuple\u001b[0;34m(self, tup)\u001b[0m\n\u001b[1;32m   1138\u001b[0m \u001b[38;5;28;01mwith\u001b[39;00m suppress(IndexingError):\n\u001b[1;32m   1139\u001b[0m     tup \u001b[38;5;241m=\u001b[39m \u001b[38;5;28mself\u001b[39m\u001b[38;5;241m.\u001b[39m_expand_ellipsis(tup)\n\u001b[0;32m-> 1140\u001b[0m     \u001b[38;5;28;01mreturn\u001b[39;00m \u001b[38;5;28;43mself\u001b[39;49m\u001b[38;5;241;43m.\u001b[39;49m\u001b[43m_getitem_lowerdim\u001b[49m\u001b[43m(\u001b[49m\u001b[43mtup\u001b[49m\u001b[43m)\u001b[49m\n\u001b[1;32m   1142\u001b[0m \u001b[38;5;66;03m# no multi-index, so validate all of the indexers\u001b[39;00m\n\u001b[1;32m   1143\u001b[0m tup \u001b[38;5;241m=\u001b[39m \u001b[38;5;28mself\u001b[39m\u001b[38;5;241m.\u001b[39m_validate_tuple_indexer(tup)\n",
      "File \u001b[0;32m/opt/conda/lib/python3.10/site-packages/pandas/core/indexing.py:843\u001b[0m, in \u001b[0;36m_LocationIndexer._getitem_lowerdim\u001b[0;34m(self, tup)\u001b[0m\n\u001b[1;32m    841\u001b[0m \u001b[38;5;66;03m# we may have a nested tuples indexer here\u001b[39;00m\n\u001b[1;32m    842\u001b[0m \u001b[38;5;28;01mif\u001b[39;00m \u001b[38;5;28mself\u001b[39m\u001b[38;5;241m.\u001b[39m_is_nested_tuple_indexer(tup):\n\u001b[0;32m--> 843\u001b[0m     \u001b[38;5;28;01mreturn\u001b[39;00m \u001b[38;5;28;43mself\u001b[39;49m\u001b[38;5;241;43m.\u001b[39;49m\u001b[43m_getitem_nested_tuple\u001b[49m\u001b[43m(\u001b[49m\u001b[43mtup\u001b[49m\u001b[43m)\u001b[49m\n\u001b[1;32m    845\u001b[0m \u001b[38;5;66;03m# we maybe be using a tuple to represent multiple dimensions here\u001b[39;00m\n\u001b[1;32m    846\u001b[0m ax0 \u001b[38;5;241m=\u001b[39m \u001b[38;5;28mself\u001b[39m\u001b[38;5;241m.\u001b[39mobj\u001b[38;5;241m.\u001b[39m_get_axis(\u001b[38;5;241m0\u001b[39m)\n",
      "File \u001b[0;32m/opt/conda/lib/python3.10/site-packages/pandas/core/indexing.py:914\u001b[0m, in \u001b[0;36m_LocationIndexer._getitem_nested_tuple\u001b[0;34m(self, tup)\u001b[0m\n\u001b[1;32m    909\u001b[0m \u001b[38;5;28;01mif\u001b[39;00m \u001b[38;5;28mall\u001b[39m(is_hashable(x) \u001b[38;5;129;01mor\u001b[39;00m com\u001b[38;5;241m.\u001b[39mis_null_slice(x) \u001b[38;5;28;01mfor\u001b[39;00m x \u001b[38;5;129;01min\u001b[39;00m tup):\n\u001b[1;32m    910\u001b[0m     \u001b[38;5;66;03m# GH#10521 Series should reduce MultiIndex dimensions instead of\u001b[39;00m\n\u001b[1;32m    911\u001b[0m     \u001b[38;5;66;03m#  DataFrame, IndexingError is not raised when slice(None,None,None)\u001b[39;00m\n\u001b[1;32m    912\u001b[0m     \u001b[38;5;66;03m#  with one row.\u001b[39;00m\n\u001b[1;32m    913\u001b[0m     \u001b[38;5;28;01mwith\u001b[39;00m suppress(IndexingError):\n\u001b[0;32m--> 914\u001b[0m         \u001b[38;5;28;01mreturn\u001b[39;00m \u001b[38;5;28;43mself\u001b[39;49m\u001b[38;5;241;43m.\u001b[39;49m\u001b[43m_handle_lowerdim_multi_index_axis0\u001b[49m\u001b[43m(\u001b[49m\u001b[43mtup\u001b[49m\u001b[43m)\u001b[49m\n\u001b[1;32m    915\u001b[0m \u001b[38;5;28;01melif\u001b[39;00m \u001b[38;5;28misinstance\u001b[39m(\u001b[38;5;28mself\u001b[39m\u001b[38;5;241m.\u001b[39mobj, ABCSeries) \u001b[38;5;129;01mand\u001b[39;00m \u001b[38;5;28many\u001b[39m(\n\u001b[1;32m    916\u001b[0m     \u001b[38;5;28misinstance\u001b[39m(k, \u001b[38;5;28mtuple\u001b[39m) \u001b[38;5;28;01mfor\u001b[39;00m k \u001b[38;5;129;01min\u001b[39;00m tup\n\u001b[1;32m    917\u001b[0m ):\n\u001b[0;32m   (...)\u001b[0m\n\u001b[1;32m    921\u001b[0m     \u001b[38;5;66;03m#  that themselves contain a slice entry\u001b[39;00m\n\u001b[1;32m    922\u001b[0m     \u001b[38;5;66;03m# See test_loc_series_getitem_too_many_dimensions\u001b[39;00m\n\u001b[1;32m    923\u001b[0m     \u001b[38;5;28;01mraise\u001b[39;00m \u001b[38;5;167;01mValueError\u001b[39;00m(\u001b[38;5;124m\"\u001b[39m\u001b[38;5;124mToo many indices\u001b[39m\u001b[38;5;124m\"\u001b[39m)\n",
      "File \u001b[0;32m/opt/conda/lib/python3.10/site-packages/pandas/core/indexing.py:1166\u001b[0m, in \u001b[0;36m_LocIndexer._handle_lowerdim_multi_index_axis0\u001b[0;34m(self, tup)\u001b[0m\n\u001b[1;32m   1162\u001b[0m \u001b[38;5;28;01mexcept\u001b[39;00m \u001b[38;5;167;01mKeyError\u001b[39;00m \u001b[38;5;28;01mas\u001b[39;00m ek:\n\u001b[1;32m   1163\u001b[0m     \u001b[38;5;66;03m# raise KeyError if number of indexers match\u001b[39;00m\n\u001b[1;32m   1164\u001b[0m     \u001b[38;5;66;03m# else IndexingError will be raised\u001b[39;00m\n\u001b[1;32m   1165\u001b[0m     \u001b[38;5;28;01mif\u001b[39;00m \u001b[38;5;28mself\u001b[39m\u001b[38;5;241m.\u001b[39mndim \u001b[38;5;241m<\u001b[39m \u001b[38;5;28mlen\u001b[39m(tup) \u001b[38;5;241m<\u001b[39m\u001b[38;5;241m=\u001b[39m \u001b[38;5;28mself\u001b[39m\u001b[38;5;241m.\u001b[39mobj\u001b[38;5;241m.\u001b[39mindex\u001b[38;5;241m.\u001b[39mnlevels:\n\u001b[0;32m-> 1166\u001b[0m         \u001b[38;5;28;01mraise\u001b[39;00m ek\n\u001b[1;32m   1167\u001b[0m     \u001b[38;5;28;01mraise\u001b[39;00m IndexingError(\u001b[38;5;124m\"\u001b[39m\u001b[38;5;124mNo label returned\u001b[39m\u001b[38;5;124m\"\u001b[39m) \u001b[38;5;28;01mfrom\u001b[39;00m \u001b[38;5;21;01mek\u001b[39;00m\n",
      "File \u001b[0;32m/opt/conda/lib/python3.10/site-packages/pandas/core/indexing.py:1160\u001b[0m, in \u001b[0;36m_LocIndexer._handle_lowerdim_multi_index_axis0\u001b[0;34m(self, tup)\u001b[0m\n\u001b[1;32m   1157\u001b[0m axis \u001b[38;5;241m=\u001b[39m \u001b[38;5;28mself\u001b[39m\u001b[38;5;241m.\u001b[39maxis \u001b[38;5;129;01mor\u001b[39;00m \u001b[38;5;241m0\u001b[39m\n\u001b[1;32m   1158\u001b[0m \u001b[38;5;28;01mtry\u001b[39;00m:\n\u001b[1;32m   1159\u001b[0m     \u001b[38;5;66;03m# fast path for series or for tup devoid of slices\u001b[39;00m\n\u001b[0;32m-> 1160\u001b[0m     \u001b[38;5;28;01mreturn\u001b[39;00m \u001b[38;5;28;43mself\u001b[39;49m\u001b[38;5;241;43m.\u001b[39;49m\u001b[43m_get_label\u001b[49m\u001b[43m(\u001b[49m\u001b[43mtup\u001b[49m\u001b[43m,\u001b[49m\u001b[43m \u001b[49m\u001b[43maxis\u001b[49m\u001b[38;5;241;43m=\u001b[39;49m\u001b[43maxis\u001b[49m\u001b[43m)\u001b[49m\n\u001b[1;32m   1162\u001b[0m \u001b[38;5;28;01mexcept\u001b[39;00m \u001b[38;5;167;01mKeyError\u001b[39;00m \u001b[38;5;28;01mas\u001b[39;00m ek:\n\u001b[1;32m   1163\u001b[0m     \u001b[38;5;66;03m# raise KeyError if number of indexers match\u001b[39;00m\n\u001b[1;32m   1164\u001b[0m     \u001b[38;5;66;03m# else IndexingError will be raised\u001b[39;00m\n\u001b[1;32m   1165\u001b[0m     \u001b[38;5;28;01mif\u001b[39;00m \u001b[38;5;28mself\u001b[39m\u001b[38;5;241m.\u001b[39mndim \u001b[38;5;241m<\u001b[39m \u001b[38;5;28mlen\u001b[39m(tup) \u001b[38;5;241m<\u001b[39m\u001b[38;5;241m=\u001b[39m \u001b[38;5;28mself\u001b[39m\u001b[38;5;241m.\u001b[39mobj\u001b[38;5;241m.\u001b[39mindex\u001b[38;5;241m.\u001b[39mnlevels:\n",
      "File \u001b[0;32m/opt/conda/lib/python3.10/site-packages/pandas/core/indexing.py:1153\u001b[0m, in \u001b[0;36m_LocIndexer._get_label\u001b[0;34m(self, label, axis)\u001b[0m\n\u001b[1;32m   1151\u001b[0m \u001b[38;5;28;01mdef\u001b[39;00m \u001b[38;5;21m_get_label\u001b[39m(\u001b[38;5;28mself\u001b[39m, label, axis: \u001b[38;5;28mint\u001b[39m):\n\u001b[1;32m   1152\u001b[0m     \u001b[38;5;66;03m# GH#5667 this will fail if the label is not present in the axis.\u001b[39;00m\n\u001b[0;32m-> 1153\u001b[0m     \u001b[38;5;28;01mreturn\u001b[39;00m \u001b[38;5;28;43mself\u001b[39;49m\u001b[38;5;241;43m.\u001b[39;49m\u001b[43mobj\u001b[49m\u001b[38;5;241;43m.\u001b[39;49m\u001b[43mxs\u001b[49m\u001b[43m(\u001b[49m\u001b[43mlabel\u001b[49m\u001b[43m,\u001b[49m\u001b[43m \u001b[49m\u001b[43maxis\u001b[49m\u001b[38;5;241;43m=\u001b[39;49m\u001b[43maxis\u001b[49m\u001b[43m)\u001b[49m\n",
      "File \u001b[0;32m/opt/conda/lib/python3.10/site-packages/pandas/core/generic.py:3857\u001b[0m, in \u001b[0;36mNDFrame.xs\u001b[0;34m(self, key, axis, level, drop_level)\u001b[0m\n\u001b[1;32m   3854\u001b[0m \u001b[38;5;28mself\u001b[39m\u001b[38;5;241m.\u001b[39m_consolidate_inplace()\n\u001b[1;32m   3856\u001b[0m \u001b[38;5;28;01mif\u001b[39;00m \u001b[38;5;28misinstance\u001b[39m(index, MultiIndex):\n\u001b[0;32m-> 3857\u001b[0m     loc, new_index \u001b[38;5;241m=\u001b[39m \u001b[43mindex\u001b[49m\u001b[38;5;241;43m.\u001b[39;49m\u001b[43m_get_loc_level\u001b[49m\u001b[43m(\u001b[49m\u001b[43mkey\u001b[49m\u001b[43m,\u001b[49m\u001b[43m \u001b[49m\u001b[43mlevel\u001b[49m\u001b[38;5;241;43m=\u001b[39;49m\u001b[38;5;241;43m0\u001b[39;49m\u001b[43m)\u001b[49m\n\u001b[1;32m   3858\u001b[0m     \u001b[38;5;28;01mif\u001b[39;00m \u001b[38;5;129;01mnot\u001b[39;00m drop_level:\n\u001b[1;32m   3859\u001b[0m         \u001b[38;5;28;01mif\u001b[39;00m lib\u001b[38;5;241m.\u001b[39mis_integer(loc):\n",
      "File \u001b[0;32m/opt/conda/lib/python3.10/site-packages/pandas/core/indexes/multi.py:3080\u001b[0m, in \u001b[0;36mMultiIndex._get_loc_level\u001b[0;34m(self, key, level)\u001b[0m\n\u001b[1;32m   3078\u001b[0m \u001b[38;5;28;01mfor\u001b[39;00m i, k \u001b[38;5;129;01min\u001b[39;00m \u001b[38;5;28menumerate\u001b[39m(key):\n\u001b[1;32m   3079\u001b[0m     \u001b[38;5;28;01mif\u001b[39;00m \u001b[38;5;129;01mnot\u001b[39;00m \u001b[38;5;28misinstance\u001b[39m(k, \u001b[38;5;28mslice\u001b[39m):\n\u001b[0;32m-> 3080\u001b[0m         loc_level \u001b[38;5;241m=\u001b[39m \u001b[38;5;28;43mself\u001b[39;49m\u001b[38;5;241;43m.\u001b[39;49m\u001b[43m_get_level_indexer\u001b[49m\u001b[43m(\u001b[49m\u001b[43mk\u001b[49m\u001b[43m,\u001b[49m\u001b[43m \u001b[49m\u001b[43mlevel\u001b[49m\u001b[38;5;241;43m=\u001b[39;49m\u001b[43mi\u001b[49m\u001b[43m)\u001b[49m\n\u001b[1;32m   3081\u001b[0m         \u001b[38;5;28;01mif\u001b[39;00m \u001b[38;5;28misinstance\u001b[39m(loc_level, \u001b[38;5;28mslice\u001b[39m):\n\u001b[1;32m   3082\u001b[0m             \u001b[38;5;28;01mif\u001b[39;00m com\u001b[38;5;241m.\u001b[39mis_null_slice(loc_level) \u001b[38;5;129;01mor\u001b[39;00m com\u001b[38;5;241m.\u001b[39mis_full_slice(\n\u001b[1;32m   3083\u001b[0m                 loc_level, \u001b[38;5;28mlen\u001b[39m(\u001b[38;5;28mself\u001b[39m)\n\u001b[1;32m   3084\u001b[0m             ):\n\u001b[1;32m   3085\u001b[0m                 \u001b[38;5;66;03m# everything\u001b[39;00m\n",
      "File \u001b[0;32m/opt/conda/lib/python3.10/site-packages/pandas/core/indexes/multi.py:3222\u001b[0m, in \u001b[0;36mMultiIndex._get_level_indexer\u001b[0;34m(self, key, level, indexer)\u001b[0m\n\u001b[1;32m   3218\u001b[0m         \u001b[38;5;28;01mreturn\u001b[39;00m \u001b[38;5;28mslice\u001b[39m(i, j, step)\n\u001b[1;32m   3220\u001b[0m \u001b[38;5;28;01melse\u001b[39;00m:\n\u001b[0;32m-> 3222\u001b[0m     idx \u001b[38;5;241m=\u001b[39m \u001b[38;5;28;43mself\u001b[39;49m\u001b[38;5;241;43m.\u001b[39;49m\u001b[43m_get_loc_single_level_index\u001b[49m\u001b[43m(\u001b[49m\u001b[43mlevel_index\u001b[49m\u001b[43m,\u001b[49m\u001b[43m \u001b[49m\u001b[43mkey\u001b[49m\u001b[43m)\u001b[49m\n\u001b[1;32m   3224\u001b[0m     \u001b[38;5;28;01mif\u001b[39;00m level \u001b[38;5;241m>\u001b[39m \u001b[38;5;241m0\u001b[39m \u001b[38;5;129;01mor\u001b[39;00m \u001b[38;5;28mself\u001b[39m\u001b[38;5;241m.\u001b[39m_lexsort_depth \u001b[38;5;241m==\u001b[39m \u001b[38;5;241m0\u001b[39m:\n\u001b[1;32m   3225\u001b[0m         \u001b[38;5;66;03m# Desired level is not sorted\u001b[39;00m\n\u001b[1;32m   3226\u001b[0m         \u001b[38;5;28;01mif\u001b[39;00m \u001b[38;5;28misinstance\u001b[39m(idx, \u001b[38;5;28mslice\u001b[39m):\n\u001b[1;32m   3227\u001b[0m             \u001b[38;5;66;03m# test_get_loc_partial_timestamp_multiindex\u001b[39;00m\n",
      "File \u001b[0;32m/opt/conda/lib/python3.10/site-packages/pandas/core/indexes/multi.py:2802\u001b[0m, in \u001b[0;36mMultiIndex._get_loc_single_level_index\u001b[0;34m(self, level_index, key)\u001b[0m\n\u001b[1;32m   2800\u001b[0m     \u001b[38;5;28;01mreturn\u001b[39;00m \u001b[38;5;241m-\u001b[39m\u001b[38;5;241m1\u001b[39m\n\u001b[1;32m   2801\u001b[0m \u001b[38;5;28;01melse\u001b[39;00m:\n\u001b[0;32m-> 2802\u001b[0m     \u001b[38;5;28;01mreturn\u001b[39;00m \u001b[43mlevel_index\u001b[49m\u001b[38;5;241;43m.\u001b[39;49m\u001b[43mget_loc\u001b[49m\u001b[43m(\u001b[49m\u001b[43mkey\u001b[49m\u001b[43m)\u001b[49m\n",
      "File \u001b[0;32m/opt/conda/lib/python3.10/site-packages/pandas/core/indexes/base.py:3631\u001b[0m, in \u001b[0;36mIndex.get_loc\u001b[0;34m(self, key, method, tolerance)\u001b[0m\n\u001b[1;32m   3629\u001b[0m     \u001b[38;5;28;01mreturn\u001b[39;00m \u001b[38;5;28mself\u001b[39m\u001b[38;5;241m.\u001b[39m_engine\u001b[38;5;241m.\u001b[39mget_loc(casted_key)\n\u001b[1;32m   3630\u001b[0m \u001b[38;5;28;01mexcept\u001b[39;00m \u001b[38;5;167;01mKeyError\u001b[39;00m \u001b[38;5;28;01mas\u001b[39;00m err:\n\u001b[0;32m-> 3631\u001b[0m     \u001b[38;5;28;01mraise\u001b[39;00m \u001b[38;5;167;01mKeyError\u001b[39;00m(key) \u001b[38;5;28;01mfrom\u001b[39;00m \u001b[38;5;21;01merr\u001b[39;00m\n\u001b[1;32m   3632\u001b[0m \u001b[38;5;28;01mexcept\u001b[39;00m \u001b[38;5;167;01mTypeError\u001b[39;00m:\n\u001b[1;32m   3633\u001b[0m     \u001b[38;5;66;03m# If we have a listlike key, _check_indexing_error will raise\u001b[39;00m\n\u001b[1;32m   3634\u001b[0m     \u001b[38;5;66;03m#  InvalidIndexError. Otherwise we fall through and re-raise\u001b[39;00m\n\u001b[1;32m   3635\u001b[0m     \u001b[38;5;66;03m#  the TypeError.\u001b[39;00m\n\u001b[1;32m   3636\u001b[0m     \u001b[38;5;28mself\u001b[39m\u001b[38;5;241m.\u001b[39m_check_indexing_error(key)\n",
      "\u001b[0;31mKeyError\u001b[0m: 'bash'"
     ]
    }
   ],
   "source": [
    "global_shares.loc[:, :, :, \"bash\"].sum()"
   ]
  },
  {
   "cell_type": "code",
   "execution_count": 10,
   "id": "553a7450-8641-4c0c-a24d-0174cf44d782",
   "metadata": {},
   "outputs": [
    {
     "data": {
      "text/plain": [
       "skill\n",
       "experience                  0.063014\n",
       "deep                        0.012099\n",
       "knowledge                   0.011948\n",
       "strong                      0.010628\n",
       "managing requirements       0.009255\n",
       "excellent                   0.005845\n",
       "white space                 0.005680\n",
       "ability                     0.005307\n",
       "global                      0.005139\n",
       "create                      0.005069\n",
       "key                         0.004945\n",
       "cutting edge                0.004256\n",
       "partner                     0.004079\n",
       "challenges                  0.004038\n",
       "statistics                  0.004037\n",
       "innovative                  0.003997\n",
       "passionate                  0.003870\n",
       "responsible                 0.003720\n",
       "paid                        0.003701\n",
       "highly                      0.003692\n",
       "libraries                   0.003394\n",
       "must                        0.003356\n",
       "computer vision             0.003338\n",
       "at least                    0.003158\n",
       "own                         0.003145\n",
       "experts                     0.003145\n",
       "preferred                   0.003119\n",
       "focus                       0.003082\n",
       "important                   0.003043\n",
       "monitoring                  0.002953\n",
       "great                       0.002951\n",
       "programs                    0.002925\n",
       "directly                    0.002733\n",
       "enterprise                  0.002647\n",
       "spark                       0.002550\n",
       "creating                    0.002444\n",
       "events                      0.002444\n",
       "world class                 0.002333\n",
       "best practices              0.002333\n",
       "essential                   0.002115\n",
       "consideration               0.002109\n",
       "successful                  0.002107\n",
       "excited                     0.001950\n",
       "passion                     0.001911\n",
       "recruitment                 0.001888\n",
       "professional development    0.001855\n",
       "interest                    0.001795\n",
       "startup                     0.001744\n",
       "mental health               0.001730\n",
       "acquisition                 0.001689\n",
       "Name: share of job, dtype: float64"
      ]
     },
     "execution_count": 10,
     "metadata": {},
     "output_type": "execute_result"
    }
   ],
   "source": [
    "global_shares.loc[:, \"UNK\"].groupby(\"skill\").sum().sort_values(ascending=False).head(50)"
   ]
  },
  {
   "cell_type": "code",
   "execution_count": null,
   "id": "8e0a87b7-b5f8-4d62-ae9c-c92960b76e51",
   "metadata": {},
   "outputs": [],
   "source": []
  }
 ],
 "metadata": {
  "kernelspec": {
   "display_name": "Python 3 (ipykernel)",
   "language": "python",
   "name": "python3"
  },
  "language_info": {
   "codemirror_mode": {
    "name": "ipython",
    "version": 3
   },
   "file_extension": ".py",
   "mimetype": "text/x-python",
   "name": "python",
   "nbconvert_exporter": "python",
   "pygments_lexer": "ipython3",
   "version": "3.10.6"
  }
 },
 "nbformat": 4,
 "nbformat_minor": 5
}

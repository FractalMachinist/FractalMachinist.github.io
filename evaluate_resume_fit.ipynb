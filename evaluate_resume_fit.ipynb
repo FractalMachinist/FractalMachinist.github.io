{
 "cells": [
  {
   "cell_type": "code",
   "execution_count": 1,
   "id": "2d19ce3b-d746-4e75-9a66-e14e6d46f914",
   "metadata": {},
   "outputs": [],
   "source": [
    "import pandas as pd, skill_cat, multiprocessing.dummy\n",
    "from jobs_skills_weights import *"
   ]
  },
  {
   "cell_type": "code",
   "execution_count": 2,
   "id": "1d2077c6-0352-47f9-9f99-8c50430efc9a",
   "metadata": {},
   "outputs": [],
   "source": [
    "skill_cat._refresh()\n",
    "stemming._refresh()"
   ]
  },
  {
   "cell_type": "code",
   "execution_count": 3,
   "id": "d2d67019-9988-490b-bdab-13342eead112",
   "metadata": {},
   "outputs": [],
   "source": [
    "jobs = get_jobs(bookmarked=False)"
   ]
  },
  {
   "cell_type": "code",
   "execution_count": 4,
   "id": "d2e89c8c-d212-44c8-935a-599d022ac0c4",
   "metadata": {},
   "outputs": [
    {
     "data": {
      "text/plain": [
       "100"
      ]
     },
     "execution_count": 4,
     "metadata": {},
     "output_type": "execute_result"
    }
   ],
   "source": [
    "len(jobs)"
   ]
  },
  {
   "cell_type": "code",
   "execution_count": 5,
   "id": "95c0ed1f-6898-4369-9e8a-03ff4d4983fc",
   "metadata": {},
   "outputs": [
    {
     "data": {
      "text/html": [
       "<div>\n",
       "<style scoped>\n",
       "    .dataframe tbody tr th:only-of-type {\n",
       "        vertical-align: middle;\n",
       "    }\n",
       "\n",
       "    .dataframe tbody tr th {\n",
       "        vertical-align: top;\n",
       "    }\n",
       "\n",
       "    .dataframe thead th {\n",
       "        text-align: right;\n",
       "    }\n",
       "</style>\n",
       "<table border=\"1\" class=\"dataframe\">\n",
       "  <thead>\n",
       "    <tr style=\"text-align: right;\">\n",
       "      <th></th>\n",
       "      <th>company_name</th>\n",
       "      <th>location</th>\n",
       "      <th>role</th>\n",
       "      <th>url</th>\n",
       "      <th>excitement</th>\n",
       "    </tr>\n",
       "    <tr>\n",
       "      <th>id</th>\n",
       "      <th></th>\n",
       "      <th></th>\n",
       "      <th></th>\n",
       "      <th></th>\n",
       "      <th></th>\n",
       "    </tr>\n",
       "  </thead>\n",
       "  <tbody>\n",
       "    <tr>\n",
       "      <th>bd59469c-29f4-41b9-9001-5b7902d766e1</th>\n",
       "      <td>Ansys</td>\n",
       "      <td>Madrid, Community of Madrid, Spain</td>\n",
       "      <td>R&amp;D Engineer II - Python f/m</td>\n",
       "      <td>https://www.linkedin.com/jobs/search/?currentJ...</td>\n",
       "      <td>4</td>\n",
       "    </tr>\n",
       "    <tr>\n",
       "      <th>0124e218-2d33-41e8-907b-5228ea386455</th>\n",
       "      <td>Treibacher Industrie AG</td>\n",
       "      <td>Althofen, Carinthia, Austria</td>\n",
       "      <td>AI/ML Specialist – Software Engineer (m/f/d)</td>\n",
       "      <td>https://www.linkedin.com/jobs/search/?geoId=91...</td>\n",
       "      <td>4</td>\n",
       "    </tr>\n",
       "    <tr>\n",
       "      <th>35b60a7d-f9a3-4f63-b8ab-4db8db49fca8</th>\n",
       "      <td>Helsing</td>\n",
       "      <td>Paris, Île-de-France, France</td>\n",
       "      <td>Deployed AI Engineer</td>\n",
       "      <td>https://www.linkedin.com/jobs/search/?currentJ...</td>\n",
       "      <td>5</td>\n",
       "    </tr>\n",
       "  </tbody>\n",
       "</table>\n",
       "</div>"
      ],
      "text/plain": [
       "                                                 company_name  \\\n",
       "id                                                              \n",
       "bd59469c-29f4-41b9-9001-5b7902d766e1                    Ansys   \n",
       "0124e218-2d33-41e8-907b-5228ea386455  Treibacher Industrie AG   \n",
       "35b60a7d-f9a3-4f63-b8ab-4db8db49fca8                  Helsing   \n",
       "\n",
       "                                                                location  \\\n",
       "id                                                                         \n",
       "bd59469c-29f4-41b9-9001-5b7902d766e1  Madrid, Community of Madrid, Spain   \n",
       "0124e218-2d33-41e8-907b-5228ea386455        Althofen, Carinthia, Austria   \n",
       "35b60a7d-f9a3-4f63-b8ab-4db8db49fca8        Paris, Île-de-France, France   \n",
       "\n",
       "                                                                              role  \\\n",
       "id                                                                                   \n",
       "bd59469c-29f4-41b9-9001-5b7902d766e1                  R&D Engineer II - Python f/m   \n",
       "0124e218-2d33-41e8-907b-5228ea386455  AI/ML Specialist – Software Engineer (m/f/d)   \n",
       "35b60a7d-f9a3-4f63-b8ab-4db8db49fca8                          Deployed AI Engineer   \n",
       "\n",
       "                                                                                    url  \\\n",
       "id                                                                                        \n",
       "bd59469c-29f4-41b9-9001-5b7902d766e1  https://www.linkedin.com/jobs/search/?currentJ...   \n",
       "0124e218-2d33-41e8-907b-5228ea386455  https://www.linkedin.com/jobs/search/?geoId=91...   \n",
       "35b60a7d-f9a3-4f63-b8ab-4db8db49fca8  https://www.linkedin.com/jobs/search/?currentJ...   \n",
       "\n",
       "                                      excitement  \n",
       "id                                                \n",
       "bd59469c-29f4-41b9-9001-5b7902d766e1           4  \n",
       "0124e218-2d33-41e8-907b-5228ea386455           4  \n",
       "35b60a7d-f9a3-4f63-b8ab-4db8db49fca8           5  "
      ]
     },
     "execution_count": 5,
     "metadata": {},
     "output_type": "execute_result"
    }
   ],
   "source": [
    "jobs.head(3)"
   ]
  },
  {
   "cell_type": "markdown",
   "id": "d7731507-fe47-4194-a662-58f927bc91fc",
   "metadata": {},
   "source": [
    "# What is the goal here?\n",
    "0. Most Teal skills are categorized into Resume skills\n",
    "1. Teal skills get high priority in the resume\n",
    "2. Resume skills in popular categories get medium priority in the resume"
   ]
  },
  {
   "cell_type": "code",
   "execution_count": 6,
   "id": "c8bdf02a-2752-4098-b10d-bc0177865993",
   "metadata": {},
   "outputs": [],
   "source": [
    "pooldict = lambda func, keys, pool: dict(zip(keys, pool.map(func, keys)))\n",
    "pool = multiprocessing.dummy.Pool()"
   ]
  },
  {
   "cell_type": "code",
   "execution_count": 7,
   "id": "ad3729ea-03a4-4f94-9c0a-1d1a29b0b9f7",
   "metadata": {},
   "outputs": [],
   "source": [
    "raw_skills_data = pooldict(job_skills, jobs.index, pool)"
   ]
  },
  {
   "cell_type": "code",
   "execution_count": 29,
   "id": "30829464-2742-45f7-bd96-cd14c38a930e",
   "metadata": {},
   "outputs": [],
   "source": [
    "skill_cat._refresh()\n",
    "stemming._refresh()\n",
    "# Use the refreshed categories and stemming configurations to parse the (already downloaded) data\n",
    "jobs_skills_data = pd.concat(\n",
    "    {key: parse_skills_data(value) for key, value in raw_skills_data.items()},\n",
    "    names=[\"id\", \"teal category\", \"skill name\"]\n",
    ")\n",
    "\n",
    "# Filter out unusable entries\n",
    "# ignored_teal_categories=set()\n",
    "ignored_teal_categories={\"emphasis\", \"company attributes\"}\n",
    "\n",
    "with open(\"personal_track/skipped_skills.md\", 'r') as skipped_skills_f: \n",
    "    # *.md only so that I get text highlighting in an IDE\n",
    "    skipped_skills = set(line for line in skipped_skills_f.read().splitlines()\n",
    "                            if len(line) and line[0] != '#')\n",
    "jobs_skills_data = jobs_skills_data.query(\n",
    "    \"`teal category` not in @ignored_teal_categories and not (`skill name`.isin(@skipped_skills))\"\n",
    ").copy(deep=True)\n",
    "\n",
    "# Construct a globally-weighted 'score' for each row, to allow global summing\n",
    "total_excitement = jobs[\"excitement\"].sum()\n",
    "job_count_sums = jobs_skills_data[\"count\"].groupby(\"id\").sum()\n",
    "\n",
    "jobs_skills_data[\"share of total excitement\"] = (\n",
    "    (jobs_skills_data[\"count\"] / job_count_sums) *\\\n",
    "    jobs[\"excitement\"]) / total_excitement\n",
    "\n",
    "# Enable grouping by whether the skill has a category (shorthand for whether I have it in my resume)\n",
    "jobs_skills_data[\"is categorized\"] = [\n",
    "    key[2] in skill_cat.skill_to_categories \n",
    "        for key in jobs_skills_data.index]"
   ]
  },
  {
   "cell_type": "code",
   "execution_count": 30,
   "id": "508ddbe8-61ef-4b42-b0bf-dfb9c19c25af",
   "metadata": {},
   "outputs": [
    {
     "data": {
      "text/html": [
       "<div>\n",
       "<style scoped>\n",
       "    .dataframe tbody tr th:only-of-type {\n",
       "        vertical-align: middle;\n",
       "    }\n",
       "\n",
       "    .dataframe tbody tr th {\n",
       "        vertical-align: top;\n",
       "    }\n",
       "\n",
       "    .dataframe thead th {\n",
       "        text-align: right;\n",
       "    }\n",
       "</style>\n",
       "<table border=\"1\" class=\"dataframe\">\n",
       "  <thead>\n",
       "    <tr style=\"text-align: right;\">\n",
       "      <th></th>\n",
       "      <th></th>\n",
       "      <th>count</th>\n",
       "      <th>share of total excitement</th>\n",
       "    </tr>\n",
       "    <tr>\n",
       "      <th>teal category</th>\n",
       "      <th>skill name</th>\n",
       "      <th></th>\n",
       "      <th></th>\n",
       "    </tr>\n",
       "  </thead>\n",
       "  <tbody>\n",
       "    <tr>\n",
       "      <th rowspan=\"2\" valign=\"top\">functional abilities</th>\n",
       "      <th>events</th>\n",
       "      <td>19</td>\n",
       "      <td>0.003716</td>\n",
       "    </tr>\n",
       "    <tr>\n",
       "      <th>computer vision</th>\n",
       "      <td>30</td>\n",
       "      <td>0.003676</td>\n",
       "    </tr>\n",
       "    <tr>\n",
       "      <th rowspan=\"3\" valign=\"top\">general abilities</th>\n",
       "      <th>best practices</th>\n",
       "      <td>21</td>\n",
       "      <td>0.003098</td>\n",
       "    </tr>\n",
       "    <tr>\n",
       "      <th>recruitment</th>\n",
       "      <td>16</td>\n",
       "      <td>0.002853</td>\n",
       "    </tr>\n",
       "    <tr>\n",
       "      <th>passion</th>\n",
       "      <td>18</td>\n",
       "      <td>0.002656</td>\n",
       "    </tr>\n",
       "    <tr>\n",
       "      <th rowspan=\"5\" valign=\"top\">functional abilities</th>\n",
       "      <th>signal processing</th>\n",
       "      <td>13</td>\n",
       "      <td>0.002416</td>\n",
       "    </tr>\n",
       "    <tr>\n",
       "      <th>interview process</th>\n",
       "      <td>8</td>\n",
       "      <td>0.002334</td>\n",
       "    </tr>\n",
       "    <tr>\n",
       "      <th>acquisition</th>\n",
       "      <td>14</td>\n",
       "      <td>0.002236</td>\n",
       "    </tr>\n",
       "    <tr>\n",
       "      <th>development experience</th>\n",
       "      <td>11</td>\n",
       "      <td>0.002069</td>\n",
       "    </tr>\n",
       "    <tr>\n",
       "      <th>sustainability</th>\n",
       "      <td>9</td>\n",
       "      <td>0.002049</td>\n",
       "    </tr>\n",
       "    <tr>\n",
       "      <th rowspan=\"4\" valign=\"top\">general abilities</th>\n",
       "      <th>creativity</th>\n",
       "      <td>13</td>\n",
       "      <td>0.001981</td>\n",
       "    </tr>\n",
       "    <tr>\n",
       "      <th>tracking</th>\n",
       "      <td>10</td>\n",
       "      <td>0.001977</td>\n",
       "    </tr>\n",
       "    <tr>\n",
       "      <th>recognition</th>\n",
       "      <td>10</td>\n",
       "      <td>0.001972</td>\n",
       "    </tr>\n",
       "    <tr>\n",
       "      <th>work closely with</th>\n",
       "      <td>11</td>\n",
       "      <td>0.001937</td>\n",
       "    </tr>\n",
       "    <tr>\n",
       "      <th rowspan=\"6\" valign=\"top\">functional abilities</th>\n",
       "      <th>physics</th>\n",
       "      <td>10</td>\n",
       "      <td>0.001906</td>\n",
       "    </tr>\n",
       "    <tr>\n",
       "      <th>engineering experience</th>\n",
       "      <td>10</td>\n",
       "      <td>0.001761</td>\n",
       "    </tr>\n",
       "    <tr>\n",
       "      <th>real time</th>\n",
       "      <td>16</td>\n",
       "      <td>0.001743</td>\n",
       "    </tr>\n",
       "    <tr>\n",
       "      <th>hiring process</th>\n",
       "      <td>13</td>\n",
       "      <td>0.001665</td>\n",
       "    </tr>\n",
       "    <tr>\n",
       "      <th>continuous integration</th>\n",
       "      <td>9</td>\n",
       "      <td>0.001592</td>\n",
       "    </tr>\n",
       "    <tr>\n",
       "      <th>development environment</th>\n",
       "      <td>8</td>\n",
       "      <td>0.001583</td>\n",
       "    </tr>\n",
       "  </tbody>\n",
       "</table>\n",
       "</div>"
      ],
      "text/plain": [
       "                                              count  share of total excitement\n",
       "teal category        skill name                                               \n",
       "functional abilities events                      19                   0.003716\n",
       "                     computer vision             30                   0.003676\n",
       "general abilities    best practices              21                   0.003098\n",
       "                     recruitment                 16                   0.002853\n",
       "                     passion                     18                   0.002656\n",
       "functional abilities signal processing           13                   0.002416\n",
       "                     interview process            8                   0.002334\n",
       "                     acquisition                 14                   0.002236\n",
       "                     development experience      11                   0.002069\n",
       "                     sustainability               9                   0.002049\n",
       "general abilities    creativity                  13                   0.001981\n",
       "                     tracking                    10                   0.001977\n",
       "                     recognition                 10                   0.001972\n",
       "                     work closely with           11                   0.001937\n",
       "functional abilities physics                     10                   0.001906\n",
       "                     engineering experience      10                   0.001761\n",
       "                     real time                   16                   0.001743\n",
       "                     hiring process              13                   0.001665\n",
       "                     continuous integration       9                   0.001592\n",
       "                     development environment      8                   0.001583"
      ]
     },
     "execution_count": 30,
     "metadata": {},
     "output_type": "execute_result"
    }
   ],
   "source": [
    "jobs_skills_data.groupby([\"is categorized\", \"teal category\", \"skill name\"])\\\n",
    "    .sum()\\\n",
    "    .loc[(False, slice(None), slice(None)), :]\\\n",
    "    .droplevel(0)\\\n",
    "    .sort_values(\"share of total excitement\", ascending=False)\\\n",
    "    .head(20)"
   ]
  },
  {
   "cell_type": "code",
   "execution_count": 12,
   "id": "103b75d7-6722-4d05-a08e-ecb5e918deaa",
   "metadata": {},
   "outputs": [
    {
     "data": {
      "text/plain": [
       "[]"
      ]
     },
     "execution_count": 12,
     "metadata": {},
     "output_type": "execute_result"
    }
   ],
   "source": [
    "teal_category = \"general abilities\"\n",
    "skill_name = \"management\"\n",
    "jobs.join(jobs_skills_data.query(\"`skill name` == @skill_name and `teal category` == @teal_category\"), how=\"left\").sort_values(\"count\", ascending=False)[[\"url\", \"count\"]].values.tolist()"
   ]
  },
  {
   "cell_type": "code",
   "execution_count": 13,
   "id": "b00f72db-c66c-4855-9e29-c70c0ee399d3",
   "metadata": {},
   "outputs": [
    {
     "data": {
      "text/plain": [
       "[]"
      ]
     },
     "execution_count": 13,
     "metadata": {},
     "output_type": "execute_result"
    }
   ],
   "source": [
    "skill_name = \"relationships\"\n",
    "jobs.join(jobs_skills_data.query(\"`skill name` == @skill_name\"), how=\"left\").sort_values(\"count\", ascending=False)[[\"url\", \"count\"]].values.tolist()"
   ]
  },
  {
   "cell_type": "code",
   "execution_count": 25,
   "id": "b7b95958-aa53-4f7a-aedd-ff7f7e648d9a",
   "metadata": {
    "tags": []
   },
   "outputs": [
    {
     "name": "stdout",
     "output_type": "stream",
     "text": [
      "Share of Total Excitement which fits a category:\n",
      "\n",
      "\n",
      "share of total excitement    0.585257\n",
      "dtype: float64\n"
     ]
    },
    {
     "data": {
      "text/html": [
       "<div>\n",
       "<style scoped>\n",
       "    .dataframe tbody tr th:only-of-type {\n",
       "        vertical-align: middle;\n",
       "    }\n",
       "\n",
       "    .dataframe tbody tr th {\n",
       "        vertical-align: top;\n",
       "    }\n",
       "\n",
       "    .dataframe thead th {\n",
       "        text-align: right;\n",
       "    }\n",
       "</style>\n",
       "<table border=\"1\" class=\"dataframe\">\n",
       "  <thead>\n",
       "    <tr style=\"text-align: right;\">\n",
       "      <th></th>\n",
       "      <th>share of total excitement</th>\n",
       "    </tr>\n",
       "    <tr>\n",
       "      <th>teal category</th>\n",
       "      <th></th>\n",
       "    </tr>\n",
       "  </thead>\n",
       "  <tbody>\n",
       "    <tr>\n",
       "      <th>certifications</th>\n",
       "      <td>0.000000</td>\n",
       "    </tr>\n",
       "    <tr>\n",
       "      <th>functional abilities</th>\n",
       "      <td>0.502360</td>\n",
       "    </tr>\n",
       "    <tr>\n",
       "      <th>general abilities</th>\n",
       "      <td>0.696839</td>\n",
       "    </tr>\n",
       "    <tr>\n",
       "      <th>platform</th>\n",
       "      <td>0.756946</td>\n",
       "    </tr>\n",
       "  </tbody>\n",
       "</table>\n",
       "</div>"
      ],
      "text/plain": [
       "                      share of total excitement\n",
       "teal category                                  \n",
       "certifications                         0.000000\n",
       "functional abilities                   0.502360\n",
       "general abilities                      0.696839\n",
       "platform                               0.756946"
      ]
     },
     "execution_count": 25,
     "metadata": {},
     "output_type": "execute_result"
    }
   ],
   "source": [
    "print(\"Share of Total Excitement which fits a category:\\n\\n\")\n",
    "print((jobs_skills_data[jobs_skills_data[\"is categorized\"]][[\"share of total excitement\"]].sum() / jobs_skills_data[[\"share of total excitement\"]].sum()).fillna(0))\n",
    "(jobs_skills_data[jobs_skills_data[\"is categorized\"]].groupby(\"teal category\").sum() / jobs_skills_data.groupby(\"teal category\").sum())[[\"share of total excitement\"]].fillna(0)"
   ]
  },
  {
   "cell_type": "code",
   "execution_count": 27,
   "id": "83727ab3-0f61-439a-b7e4-98b4731849c9",
   "metadata": {},
   "outputs": [
    {
     "name": "stdout",
     "output_type": "stream",
     "text": [
      "Density of categorized counts vs all counts:\n",
      "\n",
      "\n",
      "count    1.27767\n",
      "dtype: float64\n"
     ]
    },
    {
     "data": {
      "text/html": [
       "<div>\n",
       "<style scoped>\n",
       "    .dataframe tbody tr th:only-of-type {\n",
       "        vertical-align: middle;\n",
       "    }\n",
       "\n",
       "    .dataframe tbody tr th {\n",
       "        vertical-align: top;\n",
       "    }\n",
       "\n",
       "    .dataframe thead th {\n",
       "        text-align: right;\n",
       "    }\n",
       "</style>\n",
       "<table border=\"1\" class=\"dataframe\">\n",
       "  <thead>\n",
       "    <tr style=\"text-align: right;\">\n",
       "      <th></th>\n",
       "      <th>count</th>\n",
       "    </tr>\n",
       "    <tr>\n",
       "      <th>teal category</th>\n",
       "      <th></th>\n",
       "    </tr>\n",
       "  </thead>\n",
       "  <tbody>\n",
       "    <tr>\n",
       "      <th>certifications</th>\n",
       "      <td>0.000000</td>\n",
       "    </tr>\n",
       "    <tr>\n",
       "      <th>functional abilities</th>\n",
       "      <td>1.269034</td>\n",
       "    </tr>\n",
       "    <tr>\n",
       "      <th>general abilities</th>\n",
       "      <td>1.290344</td>\n",
       "    </tr>\n",
       "    <tr>\n",
       "      <th>platform</th>\n",
       "      <td>1.072500</td>\n",
       "    </tr>\n",
       "  </tbody>\n",
       "</table>\n",
       "</div>"
      ],
      "text/plain": [
       "                         count\n",
       "teal category                 \n",
       "certifications        0.000000\n",
       "functional abilities  1.269034\n",
       "general abilities     1.290344\n",
       "platform              1.072500"
      ]
     },
     "execution_count": 27,
     "metadata": {},
     "output_type": "execute_result"
    }
   ],
   "source": [
    "print(\"Density of categorized counts vs all counts:\\n\\n\")\n",
    "print((jobs_skills_data[jobs_skills_data[\"is categorized\"]][[\"count\"]].mean() / jobs_skills_data[[\"count\"]].mean()).fillna(0))\n",
    "(jobs_skills_data[jobs_skills_data[\"is categorized\"]].groupby(\"teal category\").mean() / jobs_skills_data.groupby(\"teal category\").mean())[[\"count\"]].fillna(0)"
   ]
  },
  {
   "cell_type": "code",
   "execution_count": null,
   "id": "8bced113-4621-4923-b8f9-2f07ba66a440",
   "metadata": {},
   "outputs": [],
   "source": []
  }
 ],
 "metadata": {
  "kernelspec": {
   "display_name": "Python 3 (ipykernel)",
   "language": "python",
   "name": "python3"
  },
  "language_info": {
   "codemirror_mode": {
    "name": "ipython",
    "version": 3
   },
   "file_extension": ".py",
   "mimetype": "text/x-python",
   "name": "python",
   "nbconvert_exporter": "python",
   "pygments_lexer": "ipython3",
   "version": "3.10.6"
  }
 },
 "nbformat": 4,
 "nbformat_minor": 5
}
